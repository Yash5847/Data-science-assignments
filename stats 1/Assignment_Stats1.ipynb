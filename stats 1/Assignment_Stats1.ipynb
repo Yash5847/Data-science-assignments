{
 "cells": [
  {
   "cell_type": "code",
   "execution_count": 1,
   "id": "800c1529",
   "metadata": {},
   "outputs": [],
   "source": [
    "import pandas as pd\n",
    "import numpy as np\n",
    "import seaborn as sns\n",
    "import matplotlib.pyplot as plt\n",
    "from scipy import stats\n",
    "\n",
    "import warnings\n",
    "warnings.filterwarnings('ignore')"
   ]
  },
  {
   "cell_type": "code",
   "execution_count": 2,
   "id": "ac092193",
   "metadata": {},
   "outputs": [
    {
     "data": {
      "text/html": [
       "<div>\n",
       "<style scoped>\n",
       "    .dataframe tbody tr th:only-of-type {\n",
       "        vertical-align: middle;\n",
       "    }\n",
       "\n",
       "    .dataframe tbody tr th {\n",
       "        vertical-align: top;\n",
       "    }\n",
       "\n",
       "    .dataframe thead th {\n",
       "        text-align: right;\n",
       "    }\n",
       "</style>\n",
       "<table border=\"1\" class=\"dataframe\">\n",
       "  <thead>\n",
       "    <tr style=\"text-align: right;\">\n",
       "      <th></th>\n",
       "      <th>Unnamed: 0</th>\n",
       "      <th>Points</th>\n",
       "      <th>Score</th>\n",
       "      <th>Weigh</th>\n",
       "    </tr>\n",
       "  </thead>\n",
       "  <tbody>\n",
       "    <tr>\n",
       "      <th>0</th>\n",
       "      <td>Mazda RX4</td>\n",
       "      <td>3.90</td>\n",
       "      <td>2.620</td>\n",
       "      <td>16.46</td>\n",
       "    </tr>\n",
       "    <tr>\n",
       "      <th>1</th>\n",
       "      <td>Mazda RX4 Wag</td>\n",
       "      <td>3.90</td>\n",
       "      <td>2.875</td>\n",
       "      <td>17.02</td>\n",
       "    </tr>\n",
       "    <tr>\n",
       "      <th>2</th>\n",
       "      <td>Datsun 710</td>\n",
       "      <td>3.85</td>\n",
       "      <td>2.320</td>\n",
       "      <td>18.61</td>\n",
       "    </tr>\n",
       "    <tr>\n",
       "      <th>3</th>\n",
       "      <td>Hornet 4 Drive</td>\n",
       "      <td>3.08</td>\n",
       "      <td>3.215</td>\n",
       "      <td>19.44</td>\n",
       "    </tr>\n",
       "    <tr>\n",
       "      <th>4</th>\n",
       "      <td>Hornet Sportabout</td>\n",
       "      <td>3.15</td>\n",
       "      <td>3.440</td>\n",
       "      <td>17.02</td>\n",
       "    </tr>\n",
       "  </tbody>\n",
       "</table>\n",
       "</div>"
      ],
      "text/plain": [
       "          Unnamed: 0  Points  Score  Weigh\n",
       "0          Mazda RX4    3.90  2.620  16.46\n",
       "1      Mazda RX4 Wag    3.90  2.875  17.02\n",
       "2         Datsun 710    3.85  2.320  18.61\n",
       "3     Hornet 4 Drive    3.08  3.215  19.44\n",
       "4  Hornet Sportabout    3.15  3.440  17.02"
      ]
     },
     "execution_count": 2,
     "metadata": {},
     "output_type": "execute_result"
    }
   ],
   "source": [
    "df = pd.read_csv(\"Q7.csv\")\n",
    "df.head()"
   ]
  },
  {
   "cell_type": "code",
   "execution_count": 3,
   "id": "2804c8fc",
   "metadata": {},
   "outputs": [
    {
     "data": {
      "text/plain": [
       "3.597"
      ]
     },
     "execution_count": 3,
     "metadata": {},
     "output_type": "execute_result"
    }
   ],
   "source": [
    "round(df[\"Points\"].mean(),3)"
   ]
  },
  {
   "cell_type": "code",
   "execution_count": 4,
   "id": "63d143d8",
   "metadata": {},
   "outputs": [
    {
     "data": {
      "text/plain": [
       "3.217"
      ]
     },
     "execution_count": 4,
     "metadata": {},
     "output_type": "execute_result"
    }
   ],
   "source": [
    "round(df[\"Score\"].mean(),3)"
   ]
  },
  {
   "cell_type": "code",
   "execution_count": 5,
   "id": "6f16a1a2",
   "metadata": {},
   "outputs": [
    {
     "data": {
      "text/plain": [
       "17.849"
      ]
     },
     "execution_count": 5,
     "metadata": {},
     "output_type": "execute_result"
    }
   ],
   "source": [
    "round(df[\"Weigh\"].mean(),3)"
   ]
  },
  {
   "cell_type": "markdown",
   "id": "af1d1658",
   "metadata": {},
   "source": [
    "From the above calculation we can say that Mean[Weigh] > Mean[Points] > Mean[Score]"
   ]
  },
  {
   "cell_type": "code",
   "execution_count": 6,
   "id": "777e3322",
   "metadata": {},
   "outputs": [
    {
     "data": {
      "text/plain": [
       "3.695"
      ]
     },
     "execution_count": 6,
     "metadata": {},
     "output_type": "execute_result"
    }
   ],
   "source": [
    "round(df[\"Points\"].median(),3)"
   ]
  },
  {
   "cell_type": "code",
   "execution_count": 7,
   "id": "5ccdbbb8",
   "metadata": {},
   "outputs": [
    {
     "data": {
      "text/plain": [
       "3.325"
      ]
     },
     "execution_count": 7,
     "metadata": {},
     "output_type": "execute_result"
    }
   ],
   "source": [
    "round(df[\"Score\"].median(),3)"
   ]
  },
  {
   "cell_type": "code",
   "execution_count": 8,
   "id": "801cff64",
   "metadata": {},
   "outputs": [
    {
     "data": {
      "text/plain": [
       "17.71"
      ]
     },
     "execution_count": 8,
     "metadata": {},
     "output_type": "execute_result"
    }
   ],
   "source": [
    "round(df[\"Weigh\"].median(),3)"
   ]
  },
  {
   "cell_type": "markdown",
   "id": "a61c64d4",
   "metadata": {},
   "source": [
    "From the above calculation we can say that Median[Weigh] > Median[Points] > Median[Score]"
   ]
  },
  {
   "cell_type": "code",
   "execution_count": 9,
   "id": "2c575267",
   "metadata": {},
   "outputs": [
    {
     "name": "stdout",
     "output_type": "stream",
     "text": [
      "0    3.07\n",
      "1    3.92\n",
      "Name: Points, dtype: float64\n",
      "\n",
      "0    3.44\n",
      "Name: Score, dtype: float64\n",
      "\n",
      "0    17.02\n",
      "1    18.90\n",
      "Name: Weigh, dtype: float64\n"
     ]
    }
   ],
   "source": [
    "Mode1 = round(df[\"Points\"].mode(),3)\n",
    "print(Mode1)\n",
    "print()\n",
    "Mode2 = round(df[\"Score\"].mode(),3)\n",
    "print(Mode2)\n",
    "print()\n",
    "Mode3 = round(df[\"Weigh\"].mode(),3)\n",
    "print(Mode3)"
   ]
  },
  {
   "cell_type": "code",
   "execution_count": 10,
   "id": "127fdefb",
   "metadata": {},
   "outputs": [
    {
     "data": {
      "text/html": [
       "<div>\n",
       "<style scoped>\n",
       "    .dataframe tbody tr th:only-of-type {\n",
       "        vertical-align: middle;\n",
       "    }\n",
       "\n",
       "    .dataframe tbody tr th {\n",
       "        vertical-align: top;\n",
       "    }\n",
       "\n",
       "    .dataframe thead th {\n",
       "        text-align: right;\n",
       "    }\n",
       "</style>\n",
       "<table border=\"1\" class=\"dataframe\">\n",
       "  <thead>\n",
       "    <tr style=\"text-align: right;\">\n",
       "      <th></th>\n",
       "      <th>Points</th>\n",
       "      <th>Score</th>\n",
       "      <th>Weigh</th>\n",
       "    </tr>\n",
       "  </thead>\n",
       "  <tbody>\n",
       "    <tr>\n",
       "      <th>0</th>\n",
       "      <td>3.07</td>\n",
       "      <td>3.44</td>\n",
       "      <td>17.02</td>\n",
       "    </tr>\n",
       "    <tr>\n",
       "      <th>1</th>\n",
       "      <td>3.92</td>\n",
       "      <td>NaN</td>\n",
       "      <td>18.90</td>\n",
       "    </tr>\n",
       "  </tbody>\n",
       "</table>\n",
       "</div>"
      ],
      "text/plain": [
       "   Points  Score  Weigh\n",
       "0    3.07   3.44  17.02\n",
       "1    3.92    NaN  18.90"
      ]
     },
     "execution_count": 10,
     "metadata": {},
     "output_type": "execute_result"
    }
   ],
   "source": [
    "df[[\"Points\",\"Score\",\"Weigh\"]].mode()"
   ]
  },
  {
   "cell_type": "code",
   "execution_count": 11,
   "id": "2402bfdf",
   "metadata": {},
   "outputs": [
    {
     "data": {
      "text/plain": [
       "Points    0.286\n",
       "Score     0.957\n",
       "Weigh     3.193\n",
       "dtype: float64"
      ]
     },
     "execution_count": 11,
     "metadata": {},
     "output_type": "execute_result"
    }
   ],
   "source": [
    "round(df[[\"Points\",\"Score\",\"Weigh\"]].var(),3)"
   ]
  },
  {
   "cell_type": "code",
   "execution_count": 12,
   "id": "b348747c",
   "metadata": {},
   "outputs": [
    {
     "data": {
      "text/plain": [
       "Points    0.535\n",
       "Score     0.978\n",
       "Weigh     1.787\n",
       "dtype: float64"
      ]
     },
     "execution_count": 12,
     "metadata": {},
     "output_type": "execute_result"
    }
   ],
   "source": [
    "round(df[[\"Points\",\"Score\",\"Weigh\"]].std(),3)"
   ]
  },
  {
   "cell_type": "code",
   "execution_count": 13,
   "id": "6af2453b",
   "metadata": {},
   "outputs": [
    {
     "data": {
      "text/plain": [
       "Points     4.930\n",
       "Score      5.424\n",
       "Weigh     22.900\n",
       "dtype: float64"
      ]
     },
     "execution_count": 13,
     "metadata": {},
     "output_type": "execute_result"
    }
   ],
   "source": [
    "round(df[[\"Points\",\"Score\",\"Weigh\"]].max(),3)"
   ]
  },
  {
   "cell_type": "code",
   "execution_count": 14,
   "id": "11bc266c",
   "metadata": {},
   "outputs": [
    {
     "data": {
      "text/plain": [
       "Points     2.760\n",
       "Score      1.513\n",
       "Weigh     14.500\n",
       "dtype: float64"
      ]
     },
     "execution_count": 14,
     "metadata": {},
     "output_type": "execute_result"
    }
   ],
   "source": [
    "round(df[[\"Points\",\"Score\",\"Weigh\"]].min(),3)"
   ]
  },
  {
   "cell_type": "code",
   "execution_count": 15,
   "id": "015f3e2e",
   "metadata": {},
   "outputs": [
    {
     "data": {
      "text/plain": [
       "Points    2.170\n",
       "Score     3.911\n",
       "Weigh     8.400\n",
       "dtype: float64"
      ]
     },
     "execution_count": 15,
     "metadata": {},
     "output_type": "execute_result"
    }
   ],
   "source": [
    "#Range -\n",
    "round(df[[\"Points\",\"Score\",\"Weigh\"]].max(),3) - round(df[[\"Points\",\"Score\",\"Weigh\"]].min(),3)"
   ]
  },
  {
   "cell_type": "code",
   "execution_count": 16,
   "id": "75872487",
   "metadata": {},
   "outputs": [
    {
     "data": {
      "text/plain": [
       "Points    0.293\n",
       "Score     0.466\n",
       "Weigh     0.406\n",
       "dtype: float64"
      ]
     },
     "execution_count": 16,
     "metadata": {},
     "output_type": "execute_result"
    }
   ],
   "source": [
    "round(df[[\"Points\",\"Score\",\"Weigh\"]].skew(),3)"
   ]
  },
  {
   "cell_type": "code",
   "execution_count": 17,
   "id": "487a4175",
   "metadata": {},
   "outputs": [
    {
     "data": {
      "text/plain": [
       "<seaborn.axisgrid.FacetGrid at 0x14a4b23bc90>"
      ]
     },
     "execution_count": 17,
     "metadata": {},
     "output_type": "execute_result"
    },
    {
     "data": {
      "image/png": "[encoded data removed]",
      "text/plain": [
       "<Figure size 500x500 with 1 Axes>"
      ]
     },
     "metadata": {},
     "output_type": "display_data"
    }
   ],
   "source": [
    "sns.displot(df[\"Weigh\"])"
   ]
  },
  {
   "cell_type": "code",
   "execution_count": 18,
   "id": "9ab896eb",
   "metadata": {},
   "outputs": [
    {
     "data": {
      "text/plain": [
       "<Axes: >"
      ]
     },
     "execution_count": 18,
     "metadata": {},
     "output_type": "execute_result"
    },
    {
     "data": {
      "image/png": "[encoded data removed]",
      "text/plain": [
       "<Figure size 300x200 with 1 Axes>"
      ]
     },
     "metadata": {},
     "output_type": "display_data"
    }
   ],
   "source": [
    "plt.figure(figsize=(3,2))\n",
    "sns.boxplot(df[\"Points\"])"
   ]
  },
  {
   "cell_type": "code",
   "execution_count": 19,
   "id": "fb3eec52",
   "metadata": {},
   "outputs": [
    {
     "data": {
      "text/plain": [
       "<Axes: >"
      ]
     },
     "execution_count": 19,
     "metadata": {},
     "output_type": "execute_result"
    },
    {
     "data": {
      "image/png": "[encoded data removed]",
      "text/plain": [
       "<Figure size 300x200 with 1 Axes>"
      ]
     },
     "metadata": {},
     "output_type": "display_data"
    }
   ],
   "source": [
    "plt.figure(figsize=(3,2))\n",
    "sns.boxplot(df[\"Score\"])"
   ]
  },
  {
   "cell_type": "code",
   "execution_count": 20,
   "id": "acbb5cf2",
   "metadata": {},
   "outputs": [
    {
     "data": {
      "text/plain": [
       "<Axes: >"
      ]
     },
     "execution_count": 20,
     "metadata": {},
     "output_type": "execute_result"
    },
    {
     "data": {
      "image/png": "[encoded data removed]",
      "text/plain": [
       "<Figure size 300x200 with 1 Axes>"
      ]
     },
     "metadata": {},
     "output_type": "display_data"
    }
   ],
   "source": [
    "plt.figure(figsize=(3,2))\n",
    "sns.boxplot(df[\"Weigh\"])"
   ]
  },
  {
   "cell_type": "code",
   "execution_count": 21,
   "id": "11a16c80",
   "metadata": {},
   "outputs": [
    {
     "data": {
      "text/html": [
       "<div>\n",
       "<style scoped>\n",
       "    .dataframe tbody tr th:only-of-type {\n",
       "        vertical-align: middle;\n",
       "    }\n",
       "\n",
       "    .dataframe tbody tr th {\n",
       "        vertical-align: top;\n",
       "    }\n",
       "\n",
       "    .dataframe thead th {\n",
       "        text-align: right;\n",
       "    }\n",
       "</style>\n",
       "<table border=\"1\" class=\"dataframe\">\n",
       "  <thead>\n",
       "    <tr style=\"text-align: right;\">\n",
       "      <th></th>\n",
       "      <th>Unnamed: 0</th>\n",
       "      <th>SP</th>\n",
       "      <th>WT</th>\n",
       "    </tr>\n",
       "  </thead>\n",
       "  <tbody>\n",
       "    <tr>\n",
       "      <th>0</th>\n",
       "      <td>1</td>\n",
       "      <td>104.185353</td>\n",
       "      <td>28.762059</td>\n",
       "    </tr>\n",
       "    <tr>\n",
       "      <th>1</th>\n",
       "      <td>2</td>\n",
       "      <td>105.461264</td>\n",
       "      <td>30.466833</td>\n",
       "    </tr>\n",
       "    <tr>\n",
       "      <th>2</th>\n",
       "      <td>3</td>\n",
       "      <td>105.461264</td>\n",
       "      <td>30.193597</td>\n",
       "    </tr>\n",
       "    <tr>\n",
       "      <th>3</th>\n",
       "      <td>4</td>\n",
       "      <td>113.461264</td>\n",
       "      <td>30.632114</td>\n",
       "    </tr>\n",
       "    <tr>\n",
       "      <th>4</th>\n",
       "      <td>5</td>\n",
       "      <td>104.461264</td>\n",
       "      <td>29.889149</td>\n",
       "    </tr>\n",
       "  </tbody>\n",
       "</table>\n",
       "</div>"
      ],
      "text/plain": [
       "   Unnamed: 0          SP         WT\n",
       "0           1  104.185353  28.762059\n",
       "1           2  105.461264  30.466833\n",
       "2           3  105.461264  30.193597\n",
       "3           4  113.461264  30.632114\n",
       "4           5  104.461264  29.889149"
      ]
     },
     "execution_count": 21,
     "metadata": {},
     "output_type": "execute_result"
    }
   ],
   "source": [
    "df1 = pd.read_csv(\"Q9_b.csv\")\n",
    "df1.head()"
   ]
  },
  {
   "cell_type": "code",
   "execution_count": 22,
   "id": "bbfae855",
   "metadata": {},
   "outputs": [
    {
     "data": {
      "text/plain": [
       "1.611"
      ]
     },
     "execution_count": 22,
     "metadata": {},
     "output_type": "execute_result"
    }
   ],
   "source": [
    "round(df1[\"SP\"].skew(),3)"
   ]
  },
  {
   "cell_type": "code",
   "execution_count": 23,
   "id": "ed650030",
   "metadata": {},
   "outputs": [
    {
     "name": "stdout",
     "output_type": "stream",
     "text": [
      "Mean of  is 32.412576910246905\n",
      "Median of Speed is 32.73451818\n",
      "Mode of Speed is 15.71285853\n"
     ]
    }
   ],
   "source": [
    "mean_WT = df1['WT'].mean()\n",
    "print('Mean of  is',mean_WT)\n",
    "median_WT = df1['WT'].median()\n",
    "print('Median of Speed is',median_WT)\n",
    "mode_WT = df1['WT'].mode()\n",
    "print('Mode of Speed is',mode_WT[0])"
   ]
  },
  {
   "cell_type": "code",
   "execution_count": 24,
   "id": "074bff26",
   "metadata": {
    "scrolled": false
   },
   "outputs": [
    {
     "name": "stdout",
     "output_type": "stream",
     "text": [
      "The Skewness for SP is:  -0.615\n",
      "The Kurtosis for SP is:  0.95\n"
     ]
    },
    {
     "data": {
      "image/png": "[encoded data removed]",
      "text/plain": [
       "<Figure size 500x300 with 1 Axes>"
      ]
     },
     "metadata": {},
     "output_type": "display_data"
    }
   ],
   "source": [
    "print(\"The Skewness for SP is: \", round(df1[\"WT\"].skew(),3))\n",
    "print(\"The Kurtosis for SP is: \", round(df1[\"WT\"].kurt(),3))\n",
    "plt.figure(figsize=(5,3))\n",
    "sns.kdeplot(df1['WT'])\n",
    "plt.axvline(mean_WT,color='red',label='Mean')\n",
    "plt.axvline(median_WT,color='blue',label='Median')\n",
    "plt.axvline(mode_WT[0],color='yellow',label='Mode')\n",
    "plt.legend()\n",
    "plt.show()"
   ]
  },
  {
   "cell_type": "markdown",
   "id": "47a273a5",
   "metadata": {},
   "source": [
    "Skewness for WT(Weight) variable is less than 0 and Mean < Median < Mode, it means data is left skewed.\n",
    "Kurtosis for WT(Weight) variable is Positive that means the distribution of the data is Leptokutic Distribution."
   ]
  },
  {
   "cell_type": "code",
   "execution_count": 25,
   "id": "011e0c20",
   "metadata": {},
   "outputs": [],
   "source": [
    "from scipy import stats as st"
   ]
  },
  {
   "cell_type": "code",
   "execution_count": 26,
   "id": "9b3ed587",
   "metadata": {},
   "outputs": [
    {
     "name": "stdout",
     "output_type": "stream",
     "text": [
      "Average Weight when CI is 94%:  (143.57619175546247, 256.42380824453755)\n",
      "\n",
      "Average Weight when CI is 98%:  (130.2095637787748, 269.7904362212252)\n",
      "\n",
      "Average Weight when CI is 96%:  (138.38753268104531, 261.61246731895466)\n"
     ]
    }
   ],
   "source": [
    "## The average weight of an adult male in Mexico 94% CI\n",
    "print(\"Average Weight when CI is 94%: \", st.norm.interval(0.94,200,30))\n",
    "print()\n",
    "## The average weight of an adult male in Mexico 98% CI\n",
    "print(\"Average Weight when CI is 98%: \", st.norm.interval(0.98,200,30))\n",
    "print()\n",
    "## The average weight of an adult male in Mexico 96% CI\n",
    "print(\"Average Weight when CI is 96%: \", st.norm.interval(0.96,200,30))"
   ]
  },
  {
   "cell_type": "code",
   "execution_count": 27,
   "id": "689bc810",
   "metadata": {},
   "outputs": [],
   "source": [
    "student = pd.Series([34,36,36,38,38,39,39,40,40,41,41,41,41,42,42,45,49,56])"
   ]
  },
  {
   "cell_type": "code",
   "execution_count": 28,
   "id": "48659767",
   "metadata": {},
   "outputs": [
    {
     "name": "stdout",
     "output_type": "stream",
     "text": [
      "41.0\n",
      "40.5\n",
      "25.53\n",
      "5.05\n"
     ]
    }
   ],
   "source": [
    "student_mean =student.mean()\n",
    "print(student_mean)\n",
    "\n",
    "student_median =student.median()\n",
    "print(student_median)\n",
    "\n",
    "student_var =round(student.var(),2)\n",
    "print(student_var)\n",
    "\n",
    "student_std =round(student.std(),2)\n",
    "print(student_std)"
   ]
  },
  {
   "cell_type": "markdown",
   "id": "c669cd6f",
   "metadata": {},
   "source": [
    "An average of students mark is 41, Middle value from Student mark is 40.5, Squared mean difference of student marks is 25.53,Here data is not much variance from the mean"
   ]
  },
  {
   "cell_type": "code",
   "execution_count": 29,
   "id": "4f154366",
   "metadata": {},
   "outputs": [
    {
     "data": {
      "text/plain": [
       "<Axes: >"
      ]
     },
     "execution_count": 29,
     "metadata": {},
     "output_type": "execute_result"
    },
    {
     "data": {
      "image/png": "[encoded data removed]",
      "text/plain": [
       "<Figure size 300x200 with 1 Axes>"
      ]
     },
     "metadata": {},
     "output_type": "display_data"
    }
   ],
   "source": [
    "plt.figure(figsize=(3,2))\n",
    "sns.boxplot(student)"
   ]
  },
  {
   "cell_type": "markdown",
   "id": "48f4ebba",
   "metadata": {},
   "source": [
    "From the above boxplot we can say that their are 2 outliers present in the data above to upper whiskers."
   ]
  },
  {
   "cell_type": "code",
   "execution_count": 30,
   "id": "7e2b02f1",
   "metadata": {},
   "outputs": [
    {
     "data": {
      "text/html": [
       "<div>\n",
       "<style scoped>\n",
       "    .dataframe tbody tr th:only-of-type {\n",
       "        vertical-align: middle;\n",
       "    }\n",
       "\n",
       "    .dataframe tbody tr th {\n",
       "        vertical-align: top;\n",
       "    }\n",
       "\n",
       "    .dataframe thead th {\n",
       "        text-align: right;\n",
       "    }\n",
       "</style>\n",
       "<table border=\"1\" class=\"dataframe\">\n",
       "  <thead>\n",
       "    <tr style=\"text-align: right;\">\n",
       "      <th></th>\n",
       "      <th>HP</th>\n",
       "      <th>MPG</th>\n",
       "      <th>VOL</th>\n",
       "      <th>SP</th>\n",
       "      <th>WT</th>\n",
       "    </tr>\n",
       "  </thead>\n",
       "  <tbody>\n",
       "    <tr>\n",
       "      <th>0</th>\n",
       "      <td>49</td>\n",
       "      <td>53.700681</td>\n",
       "      <td>89</td>\n",
       "      <td>104.185353</td>\n",
       "      <td>28.762059</td>\n",
       "    </tr>\n",
       "    <tr>\n",
       "      <th>1</th>\n",
       "      <td>55</td>\n",
       "      <td>50.013401</td>\n",
       "      <td>92</td>\n",
       "      <td>105.461264</td>\n",
       "      <td>30.466833</td>\n",
       "    </tr>\n",
       "    <tr>\n",
       "      <th>2</th>\n",
       "      <td>55</td>\n",
       "      <td>50.013401</td>\n",
       "      <td>92</td>\n",
       "      <td>105.461264</td>\n",
       "      <td>30.193597</td>\n",
       "    </tr>\n",
       "    <tr>\n",
       "      <th>3</th>\n",
       "      <td>70</td>\n",
       "      <td>45.696322</td>\n",
       "      <td>92</td>\n",
       "      <td>113.461264</td>\n",
       "      <td>30.632114</td>\n",
       "    </tr>\n",
       "    <tr>\n",
       "      <th>4</th>\n",
       "      <td>53</td>\n",
       "      <td>50.504232</td>\n",
       "      <td>92</td>\n",
       "      <td>104.461264</td>\n",
       "      <td>29.889149</td>\n",
       "    </tr>\n",
       "  </tbody>\n",
       "</table>\n",
       "</div>"
      ],
      "text/plain": [
       "   HP        MPG  VOL          SP         WT\n",
       "0  49  53.700681   89  104.185353  28.762059\n",
       "1  55  50.013401   92  105.461264  30.466833\n",
       "2  55  50.013401   92  105.461264  30.193597\n",
       "3  70  45.696322   92  113.461264  30.632114\n",
       "4  53  50.504232   92  104.461264  29.889149"
      ]
     },
     "execution_count": 30,
     "metadata": {},
     "output_type": "execute_result"
    }
   ],
   "source": [
    "cars=pd.read_csv(\"cars.csv\")\n",
    "cars.head()"
   ]
  },
  {
   "cell_type": "code",
   "execution_count": 31,
   "id": "6f851413",
   "metadata": {},
   "outputs": [
    {
     "name": "stdout",
     "output_type": "stream",
     "text": [
      "Mean of MPG is: 34.422\n"
     ]
    }
   ],
   "source": [
    "cars_mean=cars['MPG'].mean()\n",
    "print('Mean of MPG is:',np.round(cars_mean,3))"
   ]
  },
  {
   "cell_type": "code",
   "execution_count": 32,
   "id": "64f1e341",
   "metadata": {},
   "outputs": [
    {
     "name": "stdout",
     "output_type": "stream",
     "text": [
      "Standard Deviation of MPG: 9.131\n"
     ]
    }
   ],
   "source": [
    "cars_std=cars['MPG'].std()\n",
    "print('Standard Deviation of MPG:',np.round(cars_std,3))"
   ]
  },
  {
   "cell_type": "code",
   "execution_count": 33,
   "id": "818b6e29",
   "metadata": {},
   "outputs": [
    {
     "name": "stdout",
     "output_type": "stream",
     "text": [
      "P(MPG>38):- 0.348\n"
     ]
    }
   ],
   "source": [
    "#probability of MPG>38\n",
    "P38=1-stats.norm.cdf(38,cars_mean,cars_std)\n",
    "print('P(MPG>38):-',np.round(P38,3))"
   ]
  },
  {
   "cell_type": "code",
   "execution_count": 34,
   "id": "db2ff6e2",
   "metadata": {},
   "outputs": [
    {
     "name": "stdout",
     "output_type": "stream",
     "text": [
      "P(MPG<40):- 0.729\n"
     ]
    }
   ],
   "source": [
    "#probability of MPG<40\n",
    "P40=stats.norm.cdf(40,cars_mean,cars_std)\n",
    "print('P(MPG<40):-',np.round(P40,3))"
   ]
  },
  {
   "cell_type": "code",
   "execution_count": 35,
   "id": "53f513e7",
   "metadata": {},
   "outputs": [
    {
     "name": "stdout",
     "output_type": "stream",
     "text": [
      " P(20<MPG<50):- 0.899\n"
     ]
    }
   ],
   "source": [
    "#probability fo P(20<MPG<50)\n",
    "P20_50=(stats.norm.cdf(50,cars_mean,cars_std)-stats.norm.cdf(20,cars_mean,cars_std))\n",
    "print(\" P(20<MPG<50):-\",np.round(P20_50,3))"
   ]
  },
  {
   "cell_type": "code",
   "execution_count": 36,
   "id": "8c05aa80",
   "metadata": {},
   "outputs": [
    {
     "name": "stdout",
     "output_type": "stream",
     "text": [
      "Skewness for MPG is:- -0.178\n",
      "\n"
     ]
    },
    {
     "data": {
      "image/png": "[encoded data removed]",
      "text/plain": [
       "<Figure size 500x300 with 1 Axes>"
      ]
     },
     "metadata": {},
     "output_type": "display_data"
    }
   ],
   "source": [
    "print(\"Skewness for MPG is:-\", round(cars[\"MPG\"].skew(),3))\n",
    "print()\n",
    "plt.figure(figsize=(5,3))\n",
    "sns.set_style('whitegrid')\n",
    "sns.distplot(cars['MPG'])\n",
    "plt.xlabel(\"MPG\")\n",
    "plt.ylabel(\"Desity\")\n",
    "plt.show()"
   ]
  },
  {
   "cell_type": "markdown",
   "id": "14d8e2a6",
   "metadata": {},
   "source": [
    "If Skewness is between -0.5 to 0.5 the distribution is approximately symmetric, here skewness of MPG is -0.17 hence it follows approximately normal distribution with slightly left skewed."
   ]
  },
  {
   "cell_type": "code",
   "execution_count": 37,
   "id": "b39f3548",
   "metadata": {},
   "outputs": [
    {
     "data": {
      "text/html": [
       "<div>\n",
       "<style scoped>\n",
       "    .dataframe tbody tr th:only-of-type {\n",
       "        vertical-align: middle;\n",
       "    }\n",
       "\n",
       "    .dataframe tbody tr th {\n",
       "        vertical-align: top;\n",
       "    }\n",
       "\n",
       "    .dataframe thead th {\n",
       "        text-align: right;\n",
       "    }\n",
       "</style>\n",
       "<table border=\"1\" class=\"dataframe\">\n",
       "  <thead>\n",
       "    <tr style=\"text-align: right;\">\n",
       "      <th></th>\n",
       "      <th>Waist</th>\n",
       "      <th>AT</th>\n",
       "    </tr>\n",
       "  </thead>\n",
       "  <tbody>\n",
       "    <tr>\n",
       "      <th>0</th>\n",
       "      <td>74.75</td>\n",
       "      <td>25.72</td>\n",
       "    </tr>\n",
       "    <tr>\n",
       "      <th>1</th>\n",
       "      <td>72.60</td>\n",
       "      <td>25.89</td>\n",
       "    </tr>\n",
       "    <tr>\n",
       "      <th>2</th>\n",
       "      <td>81.80</td>\n",
       "      <td>42.60</td>\n",
       "    </tr>\n",
       "    <tr>\n",
       "      <th>3</th>\n",
       "      <td>83.95</td>\n",
       "      <td>42.80</td>\n",
       "    </tr>\n",
       "    <tr>\n",
       "      <th>4</th>\n",
       "      <td>74.65</td>\n",
       "      <td>29.84</td>\n",
       "    </tr>\n",
       "  </tbody>\n",
       "</table>\n",
       "</div>"
      ],
      "text/plain": [
       "   Waist     AT\n",
       "0  74.75  25.72\n",
       "1  72.60  25.89\n",
       "2  81.80  42.60\n",
       "3  83.95  42.80\n",
       "4  74.65  29.84"
      ]
     },
     "execution_count": 37,
     "metadata": {},
     "output_type": "execute_result"
    }
   ],
   "source": [
    "wc_at = pd.read_csv(\"wc-at.csv\")\n",
    "wc_at.head()"
   ]
  },
  {
   "cell_type": "code",
   "execution_count": 38,
   "id": "7ae6385b",
   "metadata": {},
   "outputs": [
    {
     "data": {
      "text/plain": [
       "123.00    3\n",
       "121.00    3\n",
       "208.00    2\n",
       "137.00    2\n",
       "140.00    2\n",
       "         ..\n",
       "64.75     1\n",
       "78.89     1\n",
       "84.30     1\n",
       "83.45     1\n",
       "111.00    1\n",
       "Name: AT, Length: 99, dtype: int64"
      ]
     },
     "execution_count": 38,
     "metadata": {},
     "output_type": "execute_result"
    }
   ],
   "source": [
    "wc_at[\"AT\"].value_counts()"
   ]
  },
  {
   "cell_type": "code",
   "execution_count": 39,
   "id": "d728f22d",
   "metadata": {},
   "outputs": [
    {
     "name": "stdout",
     "output_type": "stream",
     "text": [
      "Help on function subplot in module matplotlib.pyplot:\n",
      "\n",
      "subplot(*args, **kwargs)\n",
      "    Add an Axes to the current figure or retrieve an existing Axes.\n",
      "    \n",
      "    This is a wrapper of `.Figure.add_subplot` which provides additional\n",
      "    behavior when working with the implicit API (see the notes section).\n",
      "    \n",
      "    Call signatures::\n",
      "    \n",
      "       subplot(nrows, ncols, index, **kwargs)\n",
      "       subplot(pos, **kwargs)\n",
      "       subplot(**kwargs)\n",
      "       subplot(ax)\n",
      "    \n",
      "    Parameters\n",
      "    ----------\n",
      "    *args : int, (int, int, *index*), or `.SubplotSpec`, default: (1, 1, 1)\n",
      "        The position of the subplot described by one of\n",
      "    \n",
      "        - Three integers (*nrows*, *ncols*, *index*). The subplot will take the\n",
      "          *index* position on a grid with *nrows* rows and *ncols* columns.\n",
      "          *index* starts at 1 in the upper left corner and increases to the\n",
      "          right. *index* can also be a two-tuple specifying the (*first*,\n",
      "          *last*) indices (1-based, and including *last*) of the subplot, e.g.,\n",
      "          ``fig.add_subplot(3, 1, (1, 2))`` makes a subplot that spans the\n",
      "          upper 2/3 of the figure.\n",
      "        - A 3-digit integer. The digits are interpreted as if given separately\n",
      "          as three single-digit integers, i.e. ``fig.add_subplot(235)`` is the\n",
      "          same as ``fig.add_subplot(2, 3, 5)``. Note that this can only be used\n",
      "          if there are no more than 9 subplots.\n",
      "        - A `.SubplotSpec`.\n",
      "    \n",
      "    projection : {None, 'aitoff', 'hammer', 'lambert', 'mollweide', 'polar', 'rectilinear', str}, optional\n",
      "        The projection type of the subplot (`~.axes.Axes`). *str* is the name\n",
      "        of a custom projection, see `~matplotlib.projections`. The default\n",
      "        None results in a 'rectilinear' projection.\n",
      "    \n",
      "    polar : bool, default: False\n",
      "        If True, equivalent to projection='polar'.\n",
      "    \n",
      "    sharex, sharey : `~.axes.Axes`, optional\n",
      "        Share the x or y `~matplotlib.axis` with sharex and/or sharey. The\n",
      "        axis will have the same limits, ticks, and scale as the axis of the\n",
      "        shared axes.\n",
      "    \n",
      "    label : str\n",
      "        A label for the returned axes.\n",
      "    \n",
      "    Returns\n",
      "    -------\n",
      "    `~.axes.Axes`\n",
      "    \n",
      "        The Axes of the subplot. The returned Axes can actually be an instance\n",
      "        of a subclass, such as `.projections.polar.PolarAxes` for polar\n",
      "        projections.\n",
      "    \n",
      "    Other Parameters\n",
      "    ----------------\n",
      "    **kwargs\n",
      "        This method also takes the keyword arguments for the returned axes\n",
      "        base class; except for the *figure* argument. The keyword arguments\n",
      "        for the rectilinear base class `~.axes.Axes` can be found in\n",
      "        the following table but there might also be other keyword\n",
      "        arguments if another projection is used.\n",
      "    \n",
      "        Properties:\n",
      "        adjustable: {'box', 'datalim'}\n",
      "        agg_filter: a filter function, which takes a (m, n, 3) float array and a dpi value, and returns a (m, n, 3) array and two offsets from the bottom left corner of the image\n",
      "        alpha: scalar or None\n",
      "        anchor: (float, float) or {'C', 'SW', 'S', 'SE', 'E', 'NE', ...}\n",
      "        animated: bool\n",
      "        aspect: {'auto', 'equal'} or float\n",
      "        autoscale_on: bool\n",
      "        autoscalex_on: unknown\n",
      "        autoscaley_on: unknown\n",
      "        axes_locator: Callable[[Axes, Renderer], Bbox]\n",
      "        axisbelow: bool or 'line'\n",
      "        box_aspect: float or None\n",
      "        clip_box: `.Bbox`\n",
      "        clip_on: bool\n",
      "        clip_path: Patch or (Path, Transform) or None\n",
      "        facecolor or fc: color\n",
      "        figure: `.Figure`\n",
      "        frame_on: bool\n",
      "        gid: str\n",
      "        in_layout: bool\n",
      "        label: object\n",
      "        mouseover: bool\n",
      "        navigate: bool\n",
      "        navigate_mode: unknown\n",
      "        path_effects: `.AbstractPathEffect`\n",
      "        picker: None or bool or float or callable\n",
      "        position: [left, bottom, width, height] or `~matplotlib.transforms.Bbox`\n",
      "        prop_cycle: unknown\n",
      "        rasterization_zorder: float or None\n",
      "        rasterized: bool\n",
      "        sketch_params: (scale: float, length: float, randomness: float)\n",
      "        snap: bool or None\n",
      "        subplotspec: unknown\n",
      "        title: str\n",
      "        transform: `.Transform`\n",
      "        url: str\n",
      "        visible: bool\n",
      "        xbound: unknown\n",
      "        xlabel: str\n",
      "        xlim: (bottom: float, top: float)\n",
      "        xmargin: float greater than -0.5\n",
      "        xscale: unknown\n",
      "        xticklabels: unknown\n",
      "        xticks: unknown\n",
      "        ybound: unknown\n",
      "        ylabel: str\n",
      "        ylim: (bottom: float, top: float)\n",
      "        ymargin: float greater than -0.5\n",
      "        yscale: unknown\n",
      "        yticklabels: unknown\n",
      "        yticks: unknown\n",
      "        zorder: float\n",
      "    \n",
      "    Notes\n",
      "    -----\n",
      "    Creating a new Axes will delete any preexisting Axes that\n",
      "    overlaps with it beyond sharing a boundary::\n",
      "    \n",
      "        import matplotlib.pyplot as plt\n",
      "        # plot a line, implicitly creating a subplot(111)\n",
      "        plt.plot([1, 2, 3])\n",
      "        # now create a subplot which represents the top plot of a grid\n",
      "        # with 2 rows and 1 column. Since this subplot will overlap the\n",
      "        # first, the plot (and its axes) previously created, will be removed\n",
      "        plt.subplot(211)\n",
      "    \n",
      "    If you do not want this behavior, use the `.Figure.add_subplot` method\n",
      "    or the `.pyplot.axes` function instead.\n",
      "    \n",
      "    If no *kwargs* are passed and there exists an Axes in the location\n",
      "    specified by *args* then that Axes will be returned rather than a new\n",
      "    Axes being created.\n",
      "    \n",
      "    If *kwargs* are passed and there exists an Axes in the location\n",
      "    specified by *args*, the projection type is the same, and the\n",
      "    *kwargs* match with the existing Axes, then the existing Axes is\n",
      "    returned.  Otherwise a new Axes is created with the specified\n",
      "    parameters.  We save a reference to the *kwargs* which we use\n",
      "    for this comparison.  If any of the values in *kwargs* are\n",
      "    mutable we will not detect the case where they are mutated.\n",
      "    In these cases we suggest using `.Figure.add_subplot` and the\n",
      "    explicit Axes API rather than the implicit pyplot API.\n",
      "    \n",
      "    See Also\n",
      "    --------\n",
      "    .Figure.add_subplot\n",
      "    .pyplot.subplots\n",
      "    .pyplot.axes\n",
      "    .Figure.subplots\n",
      "    \n",
      "    Examples\n",
      "    --------\n",
      "    ::\n",
      "    \n",
      "        plt.subplot(221)\n",
      "    \n",
      "        # equivalent but more general\n",
      "        ax1 = plt.subplot(2, 2, 1)\n",
      "    \n",
      "        # add a subplot with no frame\n",
      "        ax2 = plt.subplot(222, frameon=False)\n",
      "    \n",
      "        # add a polar subplot\n",
      "        plt.subplot(223, projection='polar')\n",
      "    \n",
      "        # add a red subplot that shares the x-axis with ax1\n",
      "        plt.subplot(224, sharex=ax1, facecolor='red')\n",
      "    \n",
      "        # delete ax2 from the figure\n",
      "        plt.delaxes(ax2)\n",
      "    \n",
      "        # add ax2 to the figure again\n",
      "        plt.subplot(ax2)\n",
      "    \n",
      "        # make the first axes \"current\" again\n",
      "        plt.subplot(221)\n",
      "\n"
     ]
    }
   ],
   "source": [
    "help(plt.subplot)"
   ]
  },
  {
   "cell_type": "code",
   "execution_count": 40,
   "id": "6523add4",
   "metadata": {},
   "outputs": [
    {
     "data": {
      "text/plain": [
       "<Axes: xlabel='AT', ylabel='Density'>"
      ]
     },
     "execution_count": 40,
     "metadata": {},
     "output_type": "execute_result"
    },
    {
     "data": {
      "image/png": "[encoded data removed]",
      "text/plain": [
       "<Figure size 640x480 with 2 Axes>"
      ]
     },
     "metadata": {},
     "output_type": "display_data"
    }
   ],
   "source": [
    "fig, axes = plt.subplots(1, 2)\n",
    "\n",
    "#create chart in each subplot\n",
    "sns.distplot(wc_at['Waist'], ax=axes[0])\n",
    "sns.distplot(wc_at['AT'], ax=axes[1])\n",
    "\n",
    "\n"
   ]
  },
  {
   "cell_type": "code",
   "execution_count": 41,
   "id": "27a5d730",
   "metadata": {},
   "outputs": [
    {
     "name": "stdout",
     "output_type": "stream",
     "text": [
      "Skewness for Waist is:- 0.134\n",
      "\n"
     ]
    },
    {
     "data": {
      "image/png": "[encoded data removed]",
      "text/plain": [
       "<Figure size 300x200 with 1 Axes>"
      ]
     },
     "metadata": {},
     "output_type": "display_data"
    },
    {
     "name": "stdout",
     "output_type": "stream",
     "text": [
      "Skewness for AT is:- 0.585\n",
      "\n"
     ]
    },
    {
     "data": {
      "image/png": "[encoded data removed]",
      "text/plain": [
       "<Figure size 300x200 with 1 Axes>"
      ]
     },
     "metadata": {},
     "output_type": "display_data"
    }
   ],
   "source": [
    "print(\"Skewness for Waist is:-\", round(wc_at[\"Waist\"].skew(),3))\n",
    "print()\n",
    "\n",
    "plt.figure(figsize=(3,2))\n",
    "plt.subplot(1,2,1)\n",
    "sns.set_style('whitegrid')\n",
    "sns.distplot(wc_at['Waist'])\n",
    "plt.xlabel(\"Waist\")\n",
    "plt.ylabel(\"Desity\")\n",
    "plt.show()\n",
    "\n",
    "\n",
    "print(\"Skewness for AT is:-\", round(wc_at[\"AT\"].skew(),3))\n",
    "print()\n",
    "plt.figure(figsize=(3,2))\n",
    "plt.subplot(1,2,2)\n",
    "sns.set_style('whitegrid')\n",
    "sns.distplot(wc_at['AT'])\n",
    "plt.xlabel(\"AT\")\n",
    "plt.ylabel(\"Desity\")\n",
    "plt.show()"
   ]
  },
  {
   "cell_type": "code",
   "execution_count": 42,
   "id": "4a389d55",
   "metadata": {},
   "outputs": [
    {
     "ename": "AttributeError",
     "evalue": "'Axes' object has no attribute 's'",
     "output_type": "error",
     "traceback": [
      "\u001b[1;31m---------------------------------------------------------------------------\u001b[0m",
      "\u001b[1;31mAttributeError\u001b[0m                            Traceback (most recent call last)",
      "Cell \u001b[1;32mIn[42], line 2\u001b[0m\n\u001b[0;32m      1\u001b[0m fig, ax \u001b[38;5;241m=\u001b[39m plt\u001b[38;5;241m.\u001b[39msubplots(\u001b[38;5;241m1\u001b[39m,\u001b[38;5;241m2\u001b[39m)\n\u001b[1;32m----> 2\u001b[0m ax[\u001b[38;5;241m0\u001b[39m]\u001b[38;5;241m.\u001b[39ms(list1, bins, alpha \u001b[38;5;241m=\u001b[39m \u001b[38;5;241m0.5\u001b[39m, color \u001b[38;5;241m=\u001b[39m \u001b[38;5;124m'\u001b[39m\u001b[38;5;124mr\u001b[39m\u001b[38;5;124m'\u001b[39m)\n\u001b[0;32m      3\u001b[0m ax[\u001b[38;5;241m1\u001b[39m]\u001b[38;5;241m.\u001b[39mhist(list2, bins, alpha \u001b[38;5;241m=\u001b[39m \u001b[38;5;241m0.5\u001b[39m, color \u001b[38;5;241m=\u001b[39m \u001b[38;5;124m'\u001b[39m\u001b[38;5;124mg\u001b[39m\u001b[38;5;124m'\u001b[39m)\n\u001b[0;32m      4\u001b[0m plt\u001b[38;5;241m.\u001b[39mshow()\n",
      "\u001b[1;31mAttributeError\u001b[0m: 'Axes' object has no attribute 's'"
     ]
    },
    {
     "data": {
      "image/png": "[encoded data removed]",
      "text/plain": [
       "<Figure size 640x480 with 2 Axes>"
      ]
     },
     "metadata": {},
     "output_type": "display_data"
    }
   ],
   "source": [
    "fig, ax = plt.subplots(1,2)\n",
    "ax[0].s(list1, bins, alpha = 0.5, color = 'r')\n",
    "ax[1].hist(list2, bins, alpha = 0.5, color = 'g')\n",
    "plt.show()"
   ]
  },
  {
   "cell_type": "code",
   "execution_count": null,
   "id": "77b2e338",
   "metadata": {},
   "outputs": [],
   "source": [
    "print(\"Skewness for Waist is:-\", round(wc_at[\"Waist\"].skew(),3))\n",
    "print()\n",
    "plt.figure(figsize=(5,3))\n",
    "sns.set_style('whitegrid')\n",
    "sns.distplot(wc_at['Waist'])\n",
    "plt.xlabel(\"Waist\")\n",
    "plt.ylabel(\"Desity\")\n",
    "plt.show()"
   ]
  },
  {
   "cell_type": "markdown",
   "id": "fecfc0d9",
   "metadata": {},
   "source": [
    "If Skewness is between -0.5 to 0.5 the distribution is approximately symmetric, here skewness of Waist is -0.134 hence it follows approximately normal distribution with slightly left skewed."
   ]
  },
  {
   "cell_type": "code",
   "execution_count": null,
   "id": "d94259be",
   "metadata": {},
   "outputs": [],
   "source": [
    "print(\"Skewness for AT is:- \", round(wc_at[\"AT\"].skew(),3))\n",
    "print()\n",
    "plt.figure(figsize=(5,3))\n",
    "sns.set_style('whitegrid')\n",
    "sns.distplot(wc_at['AT'])\n",
    "#plt.hist(wc_at['AT'])\n",
    "plt.xlabel(\"AT\")\n",
    "plt.ylabel(\"Desity\")\n",
    "plt.show()"
   ]
  },
  {
   "cell_type": "markdown",
   "id": "f8b4c189",
   "metadata": {},
   "source": [
    "If Skewness is between -0.5 to 0.5 the distribution is approximately symmetric, here skewness of AT is -0.585 nearly -0.6 hence it follows not normally distribution with slightly right skewed."
   ]
  },
  {
   "cell_type": "code",
   "execution_count": null,
   "id": "08c56214",
   "metadata": {},
   "outputs": [],
   "source": [
    "#calculating Z score of 90% confidence interval\n",
    "Z90=st.norm.ppf(0.90)\n",
    "print('Z score of 90% confidence interval is',np.round(Z90,3))\n",
    "print()\n",
    "#calculating Z score of 94% confidence interval\n",
    "Z94=st.norm.ppf(0.94)\n",
    "print('Z score of 94% confidence interval is',np.round(Z94,3))\n",
    "print()\n",
    "#calculating Z score of 60% confidence interval\n",
    "Z60=st.norm.ppf(0.60)\n",
    "print('Z score of 60% confidence interval is',np.round(Z60,3))"
   ]
  },
  {
   "cell_type": "code",
   "execution_count": null,
   "id": "a31fe350",
   "metadata": {},
   "outputs": [],
   "source": [
    "#calculation T score for 95% CI\n",
    "T95=st.t.ppf(0.95,24)\n",
    "print('T score for 95% confidence interval is',np.round(T95,3))\n",
    "print()\n",
    "#calculation T score for 96% CI\n",
    "T96=st.t.ppf(0.96,24)\n",
    "print('T score for 96% confidence interval is',np.round(T96,3))\n",
    "print()\n",
    "#calculation T score for 99% CI\n",
    "T99=st.t.ppf(0.99,24)\n",
    "print('T score for 99% confidence interval is',np.round(T99,3))"
   ]
  },
  {
   "cell_type": "code",
   "execution_count": null,
   "id": "991c0fe7",
   "metadata": {},
   "outputs": [],
   "source": [
    "# h0 -> n>260\n",
    "# h1 -> n<260\n",
    "\n",
    "#Mean=270\n",
    "#s_mean=260\n",
    "#std=90\n",
    "#n=18\n",
    "\n",
    "t=(260-270)/(90/np.sqrt(18))\n",
    "\n",
    "p_value=st.t.cdf(np.round(t,3),df=17)\n",
    "\n",
    "print('The probabilty of gitting an average life of no more than 260 days are',np.round((p_value)*100,3))\n"
   ]
  },
  {
   "cell_type": "code",
   "execution_count": null,
   "id": "6692458e",
   "metadata": {},
   "outputs": [],
   "source": []
  },
  {
   "cell_type": "code",
   "execution_count": null,
   "id": "3b7c4b49",
   "metadata": {},
   "outputs": [],
   "source": []
  },
  {
   "cell_type": "code",
   "execution_count": null,
   "id": "edbf6398",
   "metadata": {},
   "outputs": [],
   "source": []
  }
 ],
 "metadata": {
  "kernelspec": {
   "display_name": "Python 3 (ipykernel)",
   "language": "python",
   "name": "python3"
  },
  "language_info": {
   "codemirror_mode": {
    "name": "ipython",
    "version": 3
   },
   "file_extension": ".py",
   "mimetype": "text/x-python",
   "name": "python",
   "nbconvert_exporter": "python",
   "pygments_lexer": "ipython3",
   "version": "3.11.3"
  }
 },
 "nbformat": 4,
 "nbformat_minor": 5
}
