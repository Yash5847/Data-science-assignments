{
 "cells": [
  {
   "cell_type": "code",
   "execution_count": 1,
   "id": "92e92833",
   "metadata": {},
   "outputs": [],
   "source": [
    "import numpy as np\n",
    "import pandas as pd\n",
    "\n",
    "import matplotlib.pyplot as plt\n",
    "import seaborn as sns\n",
    "\n",
    "from sklearn.model_selection import train_test_split\n",
    "import tensorflow as tf\n",
    "from sklearn.metrics import mean_squared_error\n",
    "\n",
    "from sklearn.model_selection import RandomizedSearchCV, KFold\n",
    "from keras.optimizers import Adam\n",
    "from keras.wrappers.scikit_learn import KerasRegressor\n",
    "\n",
    "import warnings\n",
    "warnings.filterwarnings('ignore')"
   ]
  },
  {
   "cell_type": "code",
   "execution_count": 2,
   "id": "594a0ced",
   "metadata": {},
   "outputs": [
    {
     "data": {
      "text/html": [
       "<div>\n",
       "<style scoped>\n",
       "    .dataframe tbody tr th:only-of-type {\n",
       "        vertical-align: middle;\n",
       "    }\n",
       "\n",
       "    .dataframe tbody tr th {\n",
       "        vertical-align: top;\n",
       "    }\n",
       "\n",
       "    .dataframe thead th {\n",
       "        text-align: right;\n",
       "    }\n",
       "</style>\n",
       "<table border=\"1\" class=\"dataframe\">\n",
       "  <thead>\n",
       "    <tr style=\"text-align: right;\">\n",
       "      <th></th>\n",
       "      <th>AT</th>\n",
       "      <th>AP</th>\n",
       "      <th>AH</th>\n",
       "      <th>AFDP</th>\n",
       "      <th>GTEP</th>\n",
       "      <th>TIT</th>\n",
       "      <th>TAT</th>\n",
       "      <th>TEY</th>\n",
       "      <th>CDP</th>\n",
       "      <th>CO</th>\n",
       "      <th>NOX</th>\n",
       "    </tr>\n",
       "  </thead>\n",
       "  <tbody>\n",
       "    <tr>\n",
       "      <th>0</th>\n",
       "      <td>6.8594</td>\n",
       "      <td>1007.9</td>\n",
       "      <td>96.799</td>\n",
       "      <td>3.5000</td>\n",
       "      <td>19.663</td>\n",
       "      <td>1059.2</td>\n",
       "      <td>550.00</td>\n",
       "      <td>114.70</td>\n",
       "      <td>10.605</td>\n",
       "      <td>3.1547</td>\n",
       "      <td>82.722</td>\n",
       "    </tr>\n",
       "    <tr>\n",
       "      <th>1</th>\n",
       "      <td>6.7850</td>\n",
       "      <td>1008.4</td>\n",
       "      <td>97.118</td>\n",
       "      <td>3.4998</td>\n",
       "      <td>19.728</td>\n",
       "      <td>1059.3</td>\n",
       "      <td>550.00</td>\n",
       "      <td>114.72</td>\n",
       "      <td>10.598</td>\n",
       "      <td>3.2363</td>\n",
       "      <td>82.776</td>\n",
       "    </tr>\n",
       "    <tr>\n",
       "      <th>2</th>\n",
       "      <td>6.8977</td>\n",
       "      <td>1008.8</td>\n",
       "      <td>95.939</td>\n",
       "      <td>3.4824</td>\n",
       "      <td>19.779</td>\n",
       "      <td>1059.4</td>\n",
       "      <td>549.87</td>\n",
       "      <td>114.71</td>\n",
       "      <td>10.601</td>\n",
       "      <td>3.2012</td>\n",
       "      <td>82.468</td>\n",
       "    </tr>\n",
       "    <tr>\n",
       "      <th>3</th>\n",
       "      <td>7.0569</td>\n",
       "      <td>1009.2</td>\n",
       "      <td>95.249</td>\n",
       "      <td>3.4805</td>\n",
       "      <td>19.792</td>\n",
       "      <td>1059.6</td>\n",
       "      <td>549.99</td>\n",
       "      <td>114.72</td>\n",
       "      <td>10.606</td>\n",
       "      <td>3.1923</td>\n",
       "      <td>82.670</td>\n",
       "    </tr>\n",
       "    <tr>\n",
       "      <th>4</th>\n",
       "      <td>7.3978</td>\n",
       "      <td>1009.7</td>\n",
       "      <td>95.150</td>\n",
       "      <td>3.4976</td>\n",
       "      <td>19.765</td>\n",
       "      <td>1059.7</td>\n",
       "      <td>549.98</td>\n",
       "      <td>114.72</td>\n",
       "      <td>10.612</td>\n",
       "      <td>3.2484</td>\n",
       "      <td>82.311</td>\n",
       "    </tr>\n",
       "  </tbody>\n",
       "</table>\n",
       "</div>"
      ],
      "text/plain": [
       "       AT      AP      AH    AFDP    GTEP     TIT     TAT     TEY     CDP  \\\n",
       "0  6.8594  1007.9  96.799  3.5000  19.663  1059.2  550.00  114.70  10.605   \n",
       "1  6.7850  1008.4  97.118  3.4998  19.728  1059.3  550.00  114.72  10.598   \n",
       "2  6.8977  1008.8  95.939  3.4824  19.779  1059.4  549.87  114.71  10.601   \n",
       "3  7.0569  1009.2  95.249  3.4805  19.792  1059.6  549.99  114.72  10.606   \n",
       "4  7.3978  1009.7  95.150  3.4976  19.765  1059.7  549.98  114.72  10.612   \n",
       "\n",
       "       CO     NOX  \n",
       "0  3.1547  82.722  \n",
       "1  3.2363  82.776  \n",
       "2  3.2012  82.468  \n",
       "3  3.1923  82.670  \n",
       "4  3.2484  82.311  "
      ]
     },
     "execution_count": 2,
     "metadata": {},
     "output_type": "execute_result"
    }
   ],
   "source": [
    "df_gt = pd.read_csv(\"gas_turbines.csv\")\n",
    "df_gt.head()"
   ]
  },
  {
   "cell_type": "code",
   "execution_count": 3,
   "id": "ce3c30a2",
   "metadata": {},
   "outputs": [
    {
     "data": {
      "text/plain": [
       "(15039, 11)"
      ]
     },
     "execution_count": 3,
     "metadata": {},
     "output_type": "execute_result"
    }
   ],
   "source": [
    "df_gt.shape"
   ]
  },
  {
   "cell_type": "code",
   "execution_count": 4,
   "id": "596ca71a",
   "metadata": {},
   "outputs": [
    {
     "data": {
      "text/plain": [
       "AT      float64\n",
       "AP      float64\n",
       "AH      float64\n",
       "AFDP    float64\n",
       "GTEP    float64\n",
       "TIT     float64\n",
       "TAT     float64\n",
       "TEY     float64\n",
       "CDP     float64\n",
       "CO      float64\n",
       "NOX     float64\n",
       "dtype: object"
      ]
     },
     "execution_count": 4,
     "metadata": {},
     "output_type": "execute_result"
    }
   ],
   "source": [
    "df_gt.dtypes"
   ]
  },
  {
   "cell_type": "code",
   "execution_count": 5,
   "id": "e0c67144",
   "metadata": {},
   "outputs": [
    {
     "data": {
      "text/plain": [
       "AT      0\n",
       "AP      0\n",
       "AH      0\n",
       "AFDP    0\n",
       "GTEP    0\n",
       "TIT     0\n",
       "TAT     0\n",
       "TEY     0\n",
       "CDP     0\n",
       "CO      0\n",
       "NOX     0\n",
       "dtype: int64"
      ]
     },
     "execution_count": 5,
     "metadata": {},
     "output_type": "execute_result"
    }
   ],
   "source": [
    "df_gt.isnull().sum()"
   ]
  },
  {
   "cell_type": "code",
   "execution_count": 6,
   "id": "3d219c94",
   "metadata": {},
   "outputs": [
    {
     "data": {
      "text/plain": [
       "Index(['AT', 'AP', 'AH', 'AFDP', 'GTEP', 'TIT', 'TAT', 'TEY', 'CDP', 'CO',\n",
       "       'NOX'],\n",
       "      dtype='object')"
      ]
     },
     "execution_count": 6,
     "metadata": {},
     "output_type": "execute_result"
    }
   ],
   "source": [
    "df_gt.columns"
   ]
  },
  {
   "cell_type": "code",
   "execution_count": 7,
   "id": "69f6b6e7",
   "metadata": {},
   "outputs": [],
   "source": [
    "df_gt=df_gt.loc[:,['AT', 'AP', 'AH', 'AFDP', 'GTEP', 'TIT', 'TAT', 'CDP', 'CO','NOX','TEY']]"
   ]
  },
  {
   "cell_type": "code",
   "execution_count": 8,
   "id": "e93d21c9",
   "metadata": {},
   "outputs": [
    {
     "data": {
      "text/html": [
       "<div>\n",
       "<style scoped>\n",
       "    .dataframe tbody tr th:only-of-type {\n",
       "        vertical-align: middle;\n",
       "    }\n",
       "\n",
       "    .dataframe tbody tr th {\n",
       "        vertical-align: top;\n",
       "    }\n",
       "\n",
       "    .dataframe thead th {\n",
       "        text-align: right;\n",
       "    }\n",
       "</style>\n",
       "<table border=\"1\" class=\"dataframe\">\n",
       "  <thead>\n",
       "    <tr style=\"text-align: right;\">\n",
       "      <th></th>\n",
       "      <th>AT</th>\n",
       "      <th>AP</th>\n",
       "      <th>AH</th>\n",
       "      <th>AFDP</th>\n",
       "      <th>GTEP</th>\n",
       "      <th>TIT</th>\n",
       "      <th>TAT</th>\n",
       "      <th>CDP</th>\n",
       "      <th>CO</th>\n",
       "      <th>NOX</th>\n",
       "      <th>TEY</th>\n",
       "    </tr>\n",
       "  </thead>\n",
       "  <tbody>\n",
       "    <tr>\n",
       "      <th>0</th>\n",
       "      <td>6.8594</td>\n",
       "      <td>1007.9</td>\n",
       "      <td>96.799</td>\n",
       "      <td>3.5000</td>\n",
       "      <td>19.663</td>\n",
       "      <td>1059.2</td>\n",
       "      <td>550.00</td>\n",
       "      <td>10.605</td>\n",
       "      <td>3.1547</td>\n",
       "      <td>82.722</td>\n",
       "      <td>114.70</td>\n",
       "    </tr>\n",
       "    <tr>\n",
       "      <th>1</th>\n",
       "      <td>6.7850</td>\n",
       "      <td>1008.4</td>\n",
       "      <td>97.118</td>\n",
       "      <td>3.4998</td>\n",
       "      <td>19.728</td>\n",
       "      <td>1059.3</td>\n",
       "      <td>550.00</td>\n",
       "      <td>10.598</td>\n",
       "      <td>3.2363</td>\n",
       "      <td>82.776</td>\n",
       "      <td>114.72</td>\n",
       "    </tr>\n",
       "    <tr>\n",
       "      <th>2</th>\n",
       "      <td>6.8977</td>\n",
       "      <td>1008.8</td>\n",
       "      <td>95.939</td>\n",
       "      <td>3.4824</td>\n",
       "      <td>19.779</td>\n",
       "      <td>1059.4</td>\n",
       "      <td>549.87</td>\n",
       "      <td>10.601</td>\n",
       "      <td>3.2012</td>\n",
       "      <td>82.468</td>\n",
       "      <td>114.71</td>\n",
       "    </tr>\n",
       "    <tr>\n",
       "      <th>3</th>\n",
       "      <td>7.0569</td>\n",
       "      <td>1009.2</td>\n",
       "      <td>95.249</td>\n",
       "      <td>3.4805</td>\n",
       "      <td>19.792</td>\n",
       "      <td>1059.6</td>\n",
       "      <td>549.99</td>\n",
       "      <td>10.606</td>\n",
       "      <td>3.1923</td>\n",
       "      <td>82.670</td>\n",
       "      <td>114.72</td>\n",
       "    </tr>\n",
       "    <tr>\n",
       "      <th>4</th>\n",
       "      <td>7.3978</td>\n",
       "      <td>1009.7</td>\n",
       "      <td>95.150</td>\n",
       "      <td>3.4976</td>\n",
       "      <td>19.765</td>\n",
       "      <td>1059.7</td>\n",
       "      <td>549.98</td>\n",
       "      <td>10.612</td>\n",
       "      <td>3.2484</td>\n",
       "      <td>82.311</td>\n",
       "      <td>114.72</td>\n",
       "    </tr>\n",
       "  </tbody>\n",
       "</table>\n",
       "</div>"
      ],
      "text/plain": [
       "       AT      AP      AH    AFDP    GTEP     TIT     TAT     CDP      CO  \\\n",
       "0  6.8594  1007.9  96.799  3.5000  19.663  1059.2  550.00  10.605  3.1547   \n",
       "1  6.7850  1008.4  97.118  3.4998  19.728  1059.3  550.00  10.598  3.2363   \n",
       "2  6.8977  1008.8  95.939  3.4824  19.779  1059.4  549.87  10.601  3.2012   \n",
       "3  7.0569  1009.2  95.249  3.4805  19.792  1059.6  549.99  10.606  3.1923   \n",
       "4  7.3978  1009.7  95.150  3.4976  19.765  1059.7  549.98  10.612  3.2484   \n",
       "\n",
       "      NOX     TEY  \n",
       "0  82.722  114.70  \n",
       "1  82.776  114.72  \n",
       "2  82.468  114.71  \n",
       "3  82.670  114.72  \n",
       "4  82.311  114.72  "
      ]
     },
     "execution_count": 8,
     "metadata": {},
     "output_type": "execute_result"
    }
   ],
   "source": [
    "df_gt.head()"
   ]
  },
  {
   "cell_type": "code",
   "execution_count": 9,
   "id": "af875093",
   "metadata": {},
   "outputs": [
    {
     "data": {
      "text/html": [
       "<div>\n",
       "<style scoped>\n",
       "    .dataframe tbody tr th:only-of-type {\n",
       "        vertical-align: middle;\n",
       "    }\n",
       "\n",
       "    .dataframe tbody tr th {\n",
       "        vertical-align: top;\n",
       "    }\n",
       "\n",
       "    .dataframe thead th {\n",
       "        text-align: right;\n",
       "    }\n",
       "</style>\n",
       "<table border=\"1\" class=\"dataframe\">\n",
       "  <thead>\n",
       "    <tr style=\"text-align: right;\">\n",
       "      <th></th>\n",
       "      <th>AT</th>\n",
       "      <th>AP</th>\n",
       "      <th>AH</th>\n",
       "      <th>AFDP</th>\n",
       "      <th>GTEP</th>\n",
       "      <th>TIT</th>\n",
       "      <th>TAT</th>\n",
       "      <th>CDP</th>\n",
       "      <th>CO</th>\n",
       "      <th>NOX</th>\n",
       "    </tr>\n",
       "  </thead>\n",
       "  <tbody>\n",
       "    <tr>\n",
       "      <th>0</th>\n",
       "      <td>6.8594</td>\n",
       "      <td>1007.9</td>\n",
       "      <td>96.799</td>\n",
       "      <td>3.5000</td>\n",
       "      <td>19.663</td>\n",
       "      <td>1059.2</td>\n",
       "      <td>550.00</td>\n",
       "      <td>10.605</td>\n",
       "      <td>3.1547</td>\n",
       "      <td>82.722</td>\n",
       "    </tr>\n",
       "    <tr>\n",
       "      <th>1</th>\n",
       "      <td>6.7850</td>\n",
       "      <td>1008.4</td>\n",
       "      <td>97.118</td>\n",
       "      <td>3.4998</td>\n",
       "      <td>19.728</td>\n",
       "      <td>1059.3</td>\n",
       "      <td>550.00</td>\n",
       "      <td>10.598</td>\n",
       "      <td>3.2363</td>\n",
       "      <td>82.776</td>\n",
       "    </tr>\n",
       "    <tr>\n",
       "      <th>2</th>\n",
       "      <td>6.8977</td>\n",
       "      <td>1008.8</td>\n",
       "      <td>95.939</td>\n",
       "      <td>3.4824</td>\n",
       "      <td>19.779</td>\n",
       "      <td>1059.4</td>\n",
       "      <td>549.87</td>\n",
       "      <td>10.601</td>\n",
       "      <td>3.2012</td>\n",
       "      <td>82.468</td>\n",
       "    </tr>\n",
       "    <tr>\n",
       "      <th>3</th>\n",
       "      <td>7.0569</td>\n",
       "      <td>1009.2</td>\n",
       "      <td>95.249</td>\n",
       "      <td>3.4805</td>\n",
       "      <td>19.792</td>\n",
       "      <td>1059.6</td>\n",
       "      <td>549.99</td>\n",
       "      <td>10.606</td>\n",
       "      <td>3.1923</td>\n",
       "      <td>82.670</td>\n",
       "    </tr>\n",
       "    <tr>\n",
       "      <th>4</th>\n",
       "      <td>7.3978</td>\n",
       "      <td>1009.7</td>\n",
       "      <td>95.150</td>\n",
       "      <td>3.4976</td>\n",
       "      <td>19.765</td>\n",
       "      <td>1059.7</td>\n",
       "      <td>549.98</td>\n",
       "      <td>10.612</td>\n",
       "      <td>3.2484</td>\n",
       "      <td>82.311</td>\n",
       "    </tr>\n",
       "  </tbody>\n",
       "</table>\n",
       "</div>"
      ],
      "text/plain": [
       "       AT      AP      AH    AFDP    GTEP     TIT     TAT     CDP      CO  \\\n",
       "0  6.8594  1007.9  96.799  3.5000  19.663  1059.2  550.00  10.605  3.1547   \n",
       "1  6.7850  1008.4  97.118  3.4998  19.728  1059.3  550.00  10.598  3.2363   \n",
       "2  6.8977  1008.8  95.939  3.4824  19.779  1059.4  549.87  10.601  3.2012   \n",
       "3  7.0569  1009.2  95.249  3.4805  19.792  1059.6  549.99  10.606  3.1923   \n",
       "4  7.3978  1009.7  95.150  3.4976  19.765  1059.7  549.98  10.612  3.2484   \n",
       "\n",
       "      NOX  \n",
       "0  82.722  \n",
       "1  82.776  \n",
       "2  82.468  \n",
       "3  82.670  \n",
       "4  82.311  "
      ]
     },
     "execution_count": 9,
     "metadata": {},
     "output_type": "execute_result"
    }
   ],
   "source": [
    "x = df_gt.iloc[:,0:-1]\n",
    "x.head()"
   ]
  },
  {
   "cell_type": "code",
   "execution_count": 10,
   "id": "6d0b822d",
   "metadata": {},
   "outputs": [
    {
     "data": {
      "text/plain": [
       "0    114.70\n",
       "1    114.72\n",
       "2    114.71\n",
       "3    114.72\n",
       "4    114.72\n",
       "Name: TEY, dtype: float64"
      ]
     },
     "execution_count": 10,
     "metadata": {},
     "output_type": "execute_result"
    }
   ],
   "source": [
    "y = df_gt.iloc[:,-1]\n",
    "y.head()"
   ]
  },
  {
   "cell_type": "code",
   "execution_count": 11,
   "id": "5e052313",
   "metadata": {},
   "outputs": [],
   "source": [
    "x_train,x_test,y_train,y_test = train_test_split(x,y,test_size=0.2,random_state=10)"
   ]
  },
  {
   "cell_type": "markdown",
   "id": "b9feed4c",
   "metadata": {},
   "source": [
    "<h3> Model Building </h3>"
   ]
  },
  {
   "cell_type": "code",
   "execution_count": 12,
   "id": "81c2dc43",
   "metadata": {},
   "outputs": [],
   "source": [
    "x_train,x_test,y_train,y_test = train_test_split(x,y,test_size=0.2,random_state=10)"
   ]
  },
  {
   "cell_type": "code",
   "execution_count": 13,
   "id": "47c76d72",
   "metadata": {},
   "outputs": [],
   "source": [
    "model = tf.keras.models.Sequential()\n",
    "model.add(tf.keras.layers.Dense(15,input_dim=10,activation='ReLU'))\n",
    "model.add(tf.keras.layers.Dense(10,activation='ReLU'))\n",
    "model.add(tf.keras.layers.Dense(1,activation='ReLU'))"
   ]
  },
  {
   "cell_type": "code",
   "execution_count": 14,
   "id": "d1e6dc5a",
   "metadata": {},
   "outputs": [
    {
     "name": "stdout",
     "output_type": "stream",
     "text": [
      "Model: \"sequential\"\n",
      "_________________________________________________________________\n",
      " Layer (type)                Output Shape              Param #   \n",
      "=================================================================\n",
      " dense (Dense)               (None, 15)                165       \n",
      "                                                                 \n",
      " dense_1 (Dense)             (None, 10)                160       \n",
      "                                                                 \n",
      " dense_2 (Dense)             (None, 1)                 11        \n",
      "                                                                 \n",
      "=================================================================\n",
      "Total params: 336\n",
      "Trainable params: 336\n",
      "Non-trainable params: 0\n",
      "_________________________________________________________________\n"
     ]
    }
   ],
   "source": [
    "model.summary()"
   ]
  },
  {
   "cell_type": "code",
   "execution_count": 15,
   "id": "9f016cfb",
   "metadata": {},
   "outputs": [],
   "source": [
    "model.compile(loss='mse',optimizer='adam',metrics=['mse','mae'])"
   ]
  },
  {
   "cell_type": "code",
   "execution_count": 16,
   "id": "92d3865c",
   "metadata": {},
   "outputs": [
    {
     "name": "stdout",
     "output_type": "stream",
     "text": [
      "Epoch 1/50\n",
      "13/13 [==============================] - 1s 17ms/step - loss: 6264.0059 - mse: 6264.0059 - mae: 74.5560 - val_loss: 1044.4253 - val_mse: 1044.4253 - val_mae: 28.7404\n",
      "Epoch 2/50\n",
      "13/13 [==============================] - 0s 5ms/step - loss: 420.3986 - mse: 420.3986 - mae: 16.5606 - val_loss: 506.9740 - val_mse: 506.9740 - val_mae: 19.1561\n",
      "Epoch 3/50\n",
      "13/13 [==============================] - 0s 5ms/step - loss: 455.2478 - mse: 455.2478 - mae: 17.9473 - val_loss: 257.3073 - val_mse: 257.3073 - val_mae: 12.7824\n",
      "Epoch 4/50\n",
      "13/13 [==============================] - 0s 5ms/step - loss: 240.4032 - mse: 240.4032 - mae: 12.0067 - val_loss: 256.3442 - val_mse: 256.3442 - val_mae: 13.0176\n",
      "Epoch 5/50\n",
      "13/13 [==============================] - 0s 5ms/step - loss: 235.9144 - mse: 235.9144 - mae: 11.7764 - val_loss: 226.0211 - val_mse: 226.0211 - val_mae: 11.1708\n",
      "Epoch 6/50\n",
      "13/13 [==============================] - 0s 5ms/step - loss: 225.2506 - mse: 225.2506 - mae: 11.2005 - val_loss: 224.7406 - val_mse: 224.7406 - val_mae: 11.1294\n",
      "Epoch 7/50\n",
      "13/13 [==============================] - 0s 6ms/step - loss: 219.9690 - mse: 219.9690 - mae: 10.8681 - val_loss: 221.6688 - val_mse: 221.6688 - val_mae: 11.0907\n",
      "Epoch 8/50\n",
      "13/13 [==============================] - 0s 5ms/step - loss: 218.8725 - mse: 218.8725 - mae: 10.8537 - val_loss: 220.7963 - val_mse: 220.7963 - val_mae: 10.9959\n",
      "Epoch 9/50\n",
      "13/13 [==============================] - 0s 4ms/step - loss: 218.1173 - mse: 218.1173 - mae: 10.8351 - val_loss: 220.1936 - val_mse: 220.1936 - val_mae: 10.9858\n",
      "Epoch 10/50\n",
      "13/13 [==============================] - 0s 5ms/step - loss: 216.3210 - mse: 216.3210 - mae: 10.7585 - val_loss: 217.9765 - val_mse: 217.9765 - val_mae: 10.9392\n",
      "Epoch 11/50\n",
      "13/13 [==============================] - 0s 5ms/step - loss: 215.0642 - mse: 215.0642 - mae: 10.7279 - val_loss: 216.8239 - val_mse: 216.8239 - val_mae: 10.9001\n",
      "Epoch 12/50\n",
      "13/13 [==============================] - 0s 5ms/step - loss: 213.6925 - mse: 213.6925 - mae: 10.6866 - val_loss: 215.6369 - val_mse: 215.6369 - val_mae: 10.8655\n",
      "Epoch 13/50\n",
      "13/13 [==============================] - 0s 5ms/step - loss: 212.3926 - mse: 212.3926 - mae: 10.6534 - val_loss: 214.1661 - val_mse: 214.1661 - val_mae: 10.8306\n",
      "Epoch 14/50\n",
      "13/13 [==============================] - 0s 6ms/step - loss: 210.9847 - mse: 210.9847 - mae: 10.6178 - val_loss: 213.0230 - val_mse: 213.0230 - val_mae: 10.7963\n",
      "Epoch 15/50\n",
      "13/13 [==============================] - 0s 5ms/step - loss: 209.8316 - mse: 209.8316 - mae: 10.5979 - val_loss: 211.2550 - val_mse: 211.2550 - val_mae: 10.7611\n",
      "Epoch 16/50\n",
      "13/13 [==============================] - 0s 5ms/step - loss: 208.8348 - mse: 208.8348 - mae: 10.5918 - val_loss: 209.9881 - val_mse: 209.9881 - val_mae: 10.7187\n",
      "Epoch 17/50\n",
      "13/13 [==============================] - 0s 4ms/step - loss: 206.9803 - mse: 206.9803 - mae: 10.5295 - val_loss: 208.3105 - val_mse: 208.3105 - val_mae: 10.6795\n",
      "Epoch 18/50\n",
      "13/13 [==============================] - 0s 5ms/step - loss: 205.2589 - mse: 205.2589 - mae: 10.4751 - val_loss: 206.9335 - val_mse: 206.9335 - val_mae: 10.6386\n",
      "Epoch 19/50\n",
      "13/13 [==============================] - 0s 5ms/step - loss: 203.6360 - mse: 203.6360 - mae: 10.4305 - val_loss: 205.3894 - val_mse: 205.3894 - val_mae: 10.5979\n",
      "Epoch 20/50\n",
      "13/13 [==============================] - 0s 5ms/step - loss: 202.1223 - mse: 202.1223 - mae: 10.3942 - val_loss: 203.6051 - val_mse: 203.6051 - val_mae: 10.5602\n",
      "Epoch 21/50\n",
      "13/13 [==============================] - 0s 5ms/step - loss: 200.4986 - mse: 200.4986 - mae: 10.3516 - val_loss: 202.0120 - val_mse: 202.0120 - val_mae: 10.5119\n",
      "Epoch 22/50\n",
      "13/13 [==============================] - 0s 5ms/step - loss: 198.7769 - mse: 198.7769 - mae: 10.3032 - val_loss: 200.7735 - val_mse: 200.7735 - val_mae: 10.4780\n",
      "Epoch 23/50\n",
      "13/13 [==============================] - 0s 6ms/step - loss: 197.9214 - mse: 197.9214 - mae: 10.3356 - val_loss: 198.5967 - val_mse: 198.5967 - val_mae: 10.4545\n",
      "Epoch 24/50\n",
      "13/13 [==============================] - 0s 5ms/step - loss: 196.5097 - mse: 196.5097 - mae: 10.2947 - val_loss: 197.4942 - val_mse: 197.4942 - val_mae: 10.3943\n",
      "Epoch 25/50\n",
      "13/13 [==============================] - 0s 5ms/step - loss: 193.6945 - mse: 193.6945 - mae: 10.1734 - val_loss: 195.0348 - val_mse: 195.0348 - val_mae: 10.3470\n",
      "Epoch 26/50\n",
      "13/13 [==============================] - 0s 5ms/step - loss: 192.0242 - mse: 192.0242 - mae: 10.1343 - val_loss: 193.7609 - val_mse: 193.7609 - val_mae: 10.2914\n",
      "Epoch 27/50\n",
      "13/13 [==============================] - 0s 5ms/step - loss: 190.4091 - mse: 190.4091 - mae: 10.1056 - val_loss: 191.3571 - val_mse: 191.3571 - val_mae: 10.2348\n",
      "Epoch 28/50\n",
      "13/13 [==============================] - 0s 4ms/step - loss: 188.2377 - mse: 188.2377 - mae: 10.0237 - val_loss: 189.8671 - val_mse: 189.8671 - val_mae: 10.1833\n",
      "Epoch 29/50\n",
      "13/13 [==============================] - 0s 5ms/step - loss: 186.4774 - mse: 186.4774 - mae: 9.9811 - val_loss: 187.7414 - val_mse: 187.7414 - val_mae: 10.1330\n",
      "Epoch 30/50\n",
      "13/13 [==============================] - 0s 5ms/step - loss: 184.7048 - mse: 184.7048 - mae: 9.9332 - val_loss: 185.9886 - val_mse: 185.9886 - val_mae: 10.0790\n",
      "Epoch 31/50\n",
      "13/13 [==============================] - 0s 5ms/step - loss: 182.8418 - mse: 182.8418 - mae: 9.8876 - val_loss: 184.4233 - val_mse: 184.4233 - val_mae: 10.0398\n",
      "Epoch 32/50\n",
      "13/13 [==============================] - 0s 5ms/step - loss: 181.0706 - mse: 181.0706 - mae: 9.8489 - val_loss: 181.9267 - val_mse: 181.9267 - val_mae: 9.9910\n",
      "Epoch 33/50\n",
      "13/13 [==============================] - 0s 6ms/step - loss: 178.8425 - mse: 178.8425 - mae: 9.7707 - val_loss: 180.5353 - val_mse: 180.5353 - val_mae: 9.9376\n",
      "Epoch 34/50\n",
      "13/13 [==============================] - 0s 4ms/step - loss: 177.3333 - mse: 177.3333 - mae: 9.7571 - val_loss: 177.8049 - val_mse: 177.8049 - val_mae: 9.8587\n",
      "Epoch 35/50\n",
      "13/13 [==============================] - 0s 5ms/step - loss: 174.8252 - mse: 174.8252 - mae: 9.6717 - val_loss: 175.7186 - val_mse: 175.7186 - val_mae: 9.8021\n",
      "Epoch 36/50\n",
      "13/13 [==============================] - 0s 5ms/step - loss: 172.6704 - mse: 172.6704 - mae: 9.6013 - val_loss: 173.6433 - val_mse: 173.6433 - val_mae: 9.7435\n",
      "Epoch 37/50\n",
      "13/13 [==============================] - 0s 4ms/step - loss: 171.3247 - mse: 171.3247 - mae: 9.5937 - val_loss: 174.4360 - val_mse: 174.4360 - val_mae: 9.8646\n",
      "Epoch 38/50\n",
      "13/13 [==============================] - 0s 4ms/step - loss: 169.5009 - mse: 169.5009 - mae: 9.6208 - val_loss: 170.4340 - val_mse: 170.4340 - val_mae: 9.7573\n",
      "Epoch 39/50\n",
      "13/13 [==============================] - 0s 4ms/step - loss: 167.2745 - mse: 167.2745 - mae: 9.4936 - val_loss: 167.2493 - val_mse: 167.2493 - val_mae: 9.5669\n",
      "Epoch 40/50\n",
      "13/13 [==============================] - 0s 4ms/step - loss: 164.7754 - mse: 164.7754 - mae: 9.4102 - val_loss: 165.8981 - val_mse: 165.8981 - val_mae: 9.5374\n",
      "Epoch 41/50\n",
      "13/13 [==============================] - 0s 4ms/step - loss: 162.1093 - mse: 162.1093 - mae: 9.3063 - val_loss: 163.0634 - val_mse: 163.0634 - val_mae: 9.4368\n",
      "Epoch 42/50\n",
      "13/13 [==============================] - 0s 4ms/step - loss: 159.7736 - mse: 159.7736 - mae: 9.2405 - val_loss: 161.0106 - val_mse: 161.0106 - val_mae: 9.3848\n",
      "Epoch 43/50\n",
      "13/13 [==============================] - 0s 4ms/step - loss: 157.9137 - mse: 157.9137 - mae: 9.2300 - val_loss: 158.2387 - val_mse: 158.2387 - val_mae: 9.2992\n",
      "Epoch 44/50\n",
      "13/13 [==============================] - 0s 4ms/step - loss: 155.2479 - mse: 155.2479 - mae: 9.1184 - val_loss: 156.2401 - val_mse: 156.2401 - val_mae: 9.2422\n",
      "Epoch 45/50\n",
      "13/13 [==============================] - 0s 4ms/step - loss: 153.0642 - mse: 153.0642 - mae: 9.0615 - val_loss: 153.6745 - val_mse: 153.6745 - val_mae: 9.1632\n",
      "Epoch 46/50\n",
      "13/13 [==============================] - 0s 4ms/step - loss: 150.9269 - mse: 150.9269 - mae: 9.0114 - val_loss: 151.1669 - val_mse: 151.1669 - val_mae: 9.1033\n",
      "Epoch 47/50\n",
      "13/13 [==============================] - 0s 4ms/step - loss: 148.2697 - mse: 148.2697 - mae: 8.9128 - val_loss: 148.9919 - val_mse: 148.9919 - val_mae: 9.0275\n",
      "Epoch 48/50\n",
      "13/13 [==============================] - 0s 4ms/step - loss: 146.1190 - mse: 146.1190 - mae: 8.8953 - val_loss: 147.1678 - val_mse: 147.1678 - val_mae: 9.0647\n",
      "Epoch 49/50\n",
      "13/13 [==============================] - 0s 4ms/step - loss: 143.7913 - mse: 143.7913 - mae: 8.7972 - val_loss: 143.6580 - val_mse: 143.6580 - val_mae: 8.8631\n",
      "Epoch 50/50\n",
      "13/13 [==============================] - 0s 4ms/step - loss: 140.6459 - mse: 140.6459 - mae: 8.6864 - val_loss: 141.3072 - val_mse: 141.3072 - val_mae: 8.7950\n"
     ]
    }
   ],
   "source": [
    "history = model.fit(x_train,y_train,validation_data=(x_test,y_test),epochs=50,batch_size=1000)"
   ]
  },
  {
   "cell_type": "code",
   "execution_count": 17,
   "id": "9f047132",
   "metadata": {},
   "outputs": [],
   "source": [
    "model.save_weights(\"mywt.kmw\")"
   ]
  },
  {
   "cell_type": "code",
   "execution_count": 18,
   "id": "94d1a266",
   "metadata": {},
   "outputs": [
    {
     "name": "stdout",
     "output_type": "stream",
     "text": [
      "376/376 [==============================] - 0s 1ms/step - loss: 139.1597 - mse: 139.1597 - mae: 8.6390\n",
      "mse: 13915.97%\n"
     ]
    }
   ],
   "source": [
    "scores = model.evaluate(x_train,y_train)\n",
    "print(\"%s: %.2f%%\" % (model.metrics_names[1], scores[1]*100))"
   ]
  },
  {
   "cell_type": "code",
   "execution_count": 19,
   "id": "64d7582d",
   "metadata": {},
   "outputs": [
    {
     "data": {
      "text/plain": [
       "dict_keys([])"
      ]
     },
     "execution_count": 19,
     "metadata": {},
     "output_type": "execute_result"
    }
   ],
   "source": [
    "model.history.history.keys()"
   ]
  },
  {
   "cell_type": "code",
   "execution_count": 20,
   "id": "5594fb86",
   "metadata": {},
   "outputs": [
    {
     "data": {
      "text/plain": [
       "dict_keys(['loss', 'mse', 'mae', 'val_loss', 'val_mse', 'val_mae'])"
      ]
     },
     "execution_count": 20,
     "metadata": {},
     "output_type": "execute_result"
    }
   ],
   "source": [
    "history.history.keys()"
   ]
  },
  {
   "cell_type": "code",
   "execution_count": 21,
   "id": "c43ffe52",
   "metadata": {},
   "outputs": [
    {
     "data": {
      "image/png": "[encoded data removed]",
      "text/plain": [
       "<Figure size 640x480 with 1 Axes>"
      ]
     },
     "metadata": {},
     "output_type": "display_data"
    }
   ],
   "source": [
    "plt.plot(history.history['mse'])\n",
    "plt.plot(history.history['val_mse'])\n",
    "plt.title('Model mse')\n",
    "plt.ylabel('Mse')\n",
    "plt.xlabel('Epoch')\n",
    "plt.legend(['Train','Test'],loc='upper left')\n",
    "plt.show()"
   ]
  },
  {
   "cell_type": "code",
   "execution_count": 22,
   "id": "add2bf5d",
   "metadata": {},
   "outputs": [
    {
     "data": {
      "image/png": "[encoded data removed]",
      "text/plain": [
       "<Figure size 640x480 with 1 Axes>"
      ]
     },
     "metadata": {},
     "output_type": "display_data"
    }
   ],
   "source": [
    "plt.plot(history.history['mae'])\n",
    "plt.plot(history.history['val_mae'])\n",
    "plt.title('Model mae')\n",
    "plt.ylabel('Mae')\n",
    "plt.xlabel('Epoch')\n",
    "plt.legend(['Train', 'Test'], loc='upper left')\n",
    "plt.show()"
   ]
  },
  {
   "cell_type": "code",
   "execution_count": 23,
   "id": "191eb4ea",
   "metadata": {},
   "outputs": [
    {
     "data": {
      "image/png": "[encoded data removed]",
      "text/plain": [
       "<Figure size 640x480 with 1 Axes>"
      ]
     },
     "metadata": {},
     "output_type": "display_data"
    }
   ],
   "source": [
    "plt.plot(history.history['loss'])\n",
    "plt.plot(history.history['val_loss'])\n",
    "plt.title('Model loss')\n",
    "plt.ylabel('Loss')\n",
    "plt.xlabel('Epoch')\n",
    "plt.legend(['Train', 'Test'], loc='upper left')\n",
    "plt.show()"
   ]
  },
  {
   "cell_type": "code",
   "execution_count": 24,
   "id": "7d3f47ce",
   "metadata": {},
   "outputs": [
    {
     "name": "stdout",
     "output_type": "stream",
     "text": [
      "376/376 [==============================] - 0s 985us/step\n",
      "94/94 [==============================] - 0s 1ms/step\n",
      "Training set RMSE: 11.797, Testing set RMSE: 11.887\n"
     ]
    }
   ],
   "source": [
    "y_train_pred = model.predict(x_train)\n",
    "y_test_pred = model.predict(x_test)\n",
    "\n",
    "train_rmse = mean_squared_error(y_train,y_train_pred,squared=False)\n",
    "test_rmse = mean_squared_error(y_test,y_test_pred,squared=False)\n",
    "\n",
    "print('Training set RMSE: %.3f, Testing set RMSE: %.3f' % (train_rmse,test_rmse))"
   ]
  },
  {
   "cell_type": "markdown",
   "id": "36e2cca8",
   "metadata": {},
   "source": [
    "<h3> Randomzied SearchCV </h3>"
   ]
  },
  {
   "cell_type": "code",
   "execution_count": 25,
   "id": "88a1e6d6",
   "metadata": {},
   "outputs": [],
   "source": [
    "def keras_reg_model(learning_rate,activation_function,init,neuron1,neuron2):\n",
    "    model = tf.keras.models.Sequential()\n",
    "    model.add(tf.keras.layers.Dense(neuron1,input_dim = 10,kernel_initializer = init,activation = activation_function))\n",
    "    model.add(tf.keras.layers.Dense(neuron2,input_dim = neuron1,kernel_initializer = init,activation = activation_function))\n",
    "    model.add(tf.keras.layers.Dense(1,activation = 'linear'))\n",
    "    adam = Adam(lr = learning_rate)\n",
    "    model.compile(loss = 'mse',optimizer = adam,metrics = ['mse','mae'])\n",
    "    return model"
   ]
  },
  {
   "cell_type": "code",
   "execution_count": 26,
   "id": "8a290320",
   "metadata": {},
   "outputs": [],
   "source": [
    "keras_reg = KerasRegressor(build_fn = keras_reg_model,verbose = 0)"
   ]
  },
  {
   "cell_type": "code",
   "execution_count": 27,
   "id": "c83459f0",
   "metadata": {},
   "outputs": [
    {
     "name": "stdout",
     "output_type": "stream",
     "text": [
      "Fitting 5 folds for each of 10 candidates, totalling 50 fits\n"
     ]
    }
   ],
   "source": [
    "batch_size = [10,50,100,500,1000,2000]\n",
    "epochs = [25,50,80,100,150]\n",
    "learning_rate = [0.001,0.01,0.1]\n",
    "\n",
    "activation_function = ['elu','relu','linear']\n",
    "init = ['uniform','normal','zero']\n",
    "neuron1 = [5,10,20,30]\n",
    "neuron2 = [5,10,20,30]\n",
    "\n",
    "param_grids = dict(batch_size = batch_size,epochs = epochs,learning_rate = learning_rate,\n",
    "                   activation_function = activation_function,init = init,neuron1 = neuron1,neuron2 = neuron2)\n",
    "\n",
    "random_search = RandomizedSearchCV(estimator = keras_reg,param_distributions = param_grids,cv = 5,n_jobs=-1,verbose = 10,\n",
    "                                   random_state=40)\n",
    "random_result = random_search.fit(x_train,y_train)"
   ]
  },
  {
   "cell_type": "code",
   "execution_count": 28,
   "id": "6b48c4fe",
   "metadata": {},
   "outputs": [
    {
     "name": "stdout",
     "output_type": "stream",
     "text": [
      "Best score: -3.207149028778076\n",
      "Best parameters: {'neuron2': 30, 'neuron1': 10, 'learning_rate': 0.001, 'init': 'normal', 'epochs': 50, 'batch_size': 100, 'activation_function': 'relu'}\n"
     ]
    }
   ],
   "source": [
    "print('Best score:',random_result.best_score_)\n",
    "print('Best parameters:',random_result.best_params_)"
   ]
  },
  {
   "cell_type": "code",
   "execution_count": 29,
   "id": "9800efcc",
   "metadata": {},
   "outputs": [
    {
     "name": "stdout",
     "output_type": "stream",
     "text": [
      "Epoch 1/50\n",
      "121/121 [==============================] - 1s 4ms/step - loss: 3279.9309 - mse: 3279.9309 - mae: 38.3650 - val_loss: 232.8918 - val_mse: 232.8918 - val_mae: 10.8398\n",
      "Epoch 2/50\n",
      "121/121 [==============================] - 0s 4ms/step - loss: 228.7166 - mse: 228.7166 - mae: 10.8689 - val_loss: 227.4871 - val_mse: 227.4871 - val_mae: 10.7241\n",
      "Epoch 3/50\n",
      "121/121 [==============================] - 0s 4ms/step - loss: 222.8575 - mse: 222.8575 - mae: 10.7087 - val_loss: 221.7250 - val_mse: 221.7250 - val_mae: 11.2367\n",
      "Epoch 4/50\n",
      "121/121 [==============================] - 0s 3ms/step - loss: 214.7204 - mse: 214.7204 - mae: 10.5724 - val_loss: 211.5486 - val_mse: 211.5486 - val_mae: 10.3087\n",
      "Epoch 5/50\n",
      "121/121 [==============================] - 0s 2ms/step - loss: 205.4800 - mse: 205.4800 - mae: 10.3201 - val_loss: 201.1111 - val_mse: 201.1111 - val_mae: 10.3128\n",
      "Epoch 6/50\n",
      "121/121 [==============================] - 0s 2ms/step - loss: 194.7440 - mse: 194.7440 - mae: 10.0757 - val_loss: 191.1296 - val_mse: 191.1296 - val_mae: 10.4303\n",
      "Epoch 7/50\n",
      "121/121 [==============================] - 0s 2ms/step - loss: 182.4723 - mse: 182.4723 - mae: 9.8012 - val_loss: 176.7078 - val_mse: 176.7078 - val_mae: 9.9482\n",
      "Epoch 8/50\n",
      "121/121 [==============================] - 0s 2ms/step - loss: 167.3960 - mse: 167.3960 - mae: 9.4119 - val_loss: 161.3232 - val_mse: 161.3232 - val_mae: 9.7406\n",
      "Epoch 9/50\n",
      "121/121 [==============================] - 0s 2ms/step - loss: 149.1311 - mse: 149.1311 - mae: 8.9586 - val_loss: 141.2179 - val_mse: 141.2179 - val_mae: 9.1977\n",
      "Epoch 10/50\n",
      "121/121 [==============================] - 0s 2ms/step - loss: 127.3273 - mse: 127.3273 - mae: 8.3544 - val_loss: 115.2521 - val_mse: 115.2521 - val_mae: 7.7533\n",
      "Epoch 11/50\n",
      "121/121 [==============================] - 0s 2ms/step - loss: 101.6319 - mse: 101.6319 - mae: 7.5325 - val_loss: 86.9044 - val_mse: 86.9044 - val_mae: 6.8330\n",
      "Epoch 12/50\n",
      "121/121 [==============================] - 0s 2ms/step - loss: 73.7428 - mse: 73.7428 - mae: 6.5161 - val_loss: 60.0789 - val_mse: 60.0789 - val_mae: 5.8020\n",
      "Epoch 13/50\n",
      "121/121 [==============================] - 0s 2ms/step - loss: 49.1023 - mse: 49.1023 - mae: 5.3657 - val_loss: 38.8202 - val_mse: 38.8202 - val_mae: 4.9376\n",
      "Epoch 14/50\n",
      "121/121 [==============================] - 0s 2ms/step - loss: 31.2255 - mse: 31.2255 - mae: 4.2991 - val_loss: 23.5214 - val_mse: 23.5214 - val_mae: 3.7759\n",
      "Epoch 15/50\n",
      "121/121 [==============================] - 0s 2ms/step - loss: 20.0852 - mse: 20.0852 - mae: 3.3864 - val_loss: 15.6040 - val_mse: 15.6040 - val_mae: 2.9930\n",
      "Epoch 16/50\n",
      "121/121 [==============================] - 0s 2ms/step - loss: 14.7751 - mse: 14.7751 - mae: 2.8402 - val_loss: 12.6173 - val_mse: 12.6173 - val_mae: 2.6618\n",
      "Epoch 17/50\n",
      "121/121 [==============================] - 0s 2ms/step - loss: 11.9369 - mse: 11.9369 - mae: 2.4663 - val_loss: 9.8735 - val_mse: 9.8735 - val_mae: 2.2687\n",
      "Epoch 18/50\n",
      "121/121 [==============================] - 0s 2ms/step - loss: 10.4170 - mse: 10.4170 - mae: 2.2569 - val_loss: 8.7204 - val_mse: 8.7204 - val_mae: 2.1035\n",
      "Epoch 19/50\n",
      "121/121 [==============================] - 0s 2ms/step - loss: 9.4448 - mse: 9.4448 - mae: 2.1287 - val_loss: 7.8955 - val_mse: 7.8955 - val_mae: 1.9926\n",
      "Epoch 20/50\n",
      "121/121 [==============================] - 0s 2ms/step - loss: 8.6381 - mse: 8.6381 - mae: 2.0264 - val_loss: 7.3695 - val_mse: 7.3695 - val_mae: 1.9471\n",
      "Epoch 21/50\n",
      "121/121 [==============================] - 0s 2ms/step - loss: 7.7822 - mse: 7.7822 - mae: 1.9154 - val_loss: 6.8483 - val_mse: 6.8483 - val_mae: 1.8444\n",
      "Epoch 22/50\n",
      "121/121 [==============================] - 0s 2ms/step - loss: 7.2357 - mse: 7.2357 - mae: 1.8470 - val_loss: 6.9301 - val_mse: 6.9301 - val_mae: 1.9051\n",
      "Epoch 23/50\n",
      "121/121 [==============================] - 0s 2ms/step - loss: 6.6175 - mse: 6.6175 - mae: 1.7637 - val_loss: 5.8614 - val_mse: 5.8614 - val_mae: 1.7115\n",
      "Epoch 24/50\n",
      "121/121 [==============================] - 0s 2ms/step - loss: 6.2632 - mse: 6.2632 - mae: 1.7330 - val_loss: 5.2266 - val_mse: 5.2266 - val_mae: 1.6155\n",
      "Epoch 25/50\n",
      "121/121 [==============================] - 0s 2ms/step - loss: 5.8154 - mse: 5.8154 - mae: 1.6786 - val_loss: 6.9836 - val_mse: 6.9836 - val_mae: 2.0379\n",
      "Epoch 26/50\n",
      "121/121 [==============================] - 0s 2ms/step - loss: 5.4186 - mse: 5.4186 - mae: 1.6288 - val_loss: 6.3356 - val_mse: 6.3356 - val_mae: 1.9039\n",
      "Epoch 27/50\n",
      "121/121 [==============================] - 0s 2ms/step - loss: 4.9927 - mse: 4.9927 - mae: 1.5603 - val_loss: 4.3573 - val_mse: 4.3573 - val_mae: 1.4957\n",
      "Epoch 28/50\n",
      "121/121 [==============================] - 0s 2ms/step - loss: 4.6495 - mse: 4.6495 - mae: 1.5111 - val_loss: 3.9739 - val_mse: 3.9739 - val_mae: 1.4232\n",
      "Epoch 29/50\n",
      "121/121 [==============================] - 0s 2ms/step - loss: 4.4507 - mse: 4.4507 - mae: 1.4903 - val_loss: 3.7554 - val_mse: 3.7554 - val_mae: 1.3900\n",
      "Epoch 30/50\n",
      "121/121 [==============================] - 0s 4ms/step - loss: 4.1659 - mse: 4.1659 - mae: 1.4460 - val_loss: 3.8824 - val_mse: 3.8824 - val_mae: 1.4471\n",
      "Epoch 31/50\n",
      "121/121 [==============================] - 0s 4ms/step - loss: 3.9586 - mse: 3.9586 - mae: 1.4212 - val_loss: 3.5614 - val_mse: 3.5614 - val_mae: 1.3753\n",
      "Epoch 32/50\n",
      "121/121 [==============================] - 0s 4ms/step - loss: 3.6409 - mse: 3.6409 - mae: 1.3618 - val_loss: 3.1882 - val_mse: 3.1882 - val_mae: 1.2936\n",
      "Epoch 33/50\n",
      "121/121 [==============================] - 0s 3ms/step - loss: 3.4725 - mse: 3.4725 - mae: 1.3323 - val_loss: 3.0136 - val_mse: 3.0136 - val_mae: 1.2602\n",
      "Epoch 34/50\n",
      "121/121 [==============================] - 0s 2ms/step - loss: 3.2792 - mse: 3.2792 - mae: 1.3016 - val_loss: 2.9123 - val_mse: 2.9123 - val_mae: 1.2426\n",
      "Epoch 35/50\n",
      "121/121 [==============================] - 0s 2ms/step - loss: 3.2454 - mse: 3.2454 - mae: 1.3100 - val_loss: 2.7301 - val_mse: 2.7301 - val_mae: 1.2045\n",
      "Epoch 36/50\n",
      "121/121 [==============================] - 0s 2ms/step - loss: 3.0496 - mse: 3.0496 - mae: 1.2666 - val_loss: 2.6226 - val_mse: 2.6226 - val_mae: 1.1879\n",
      "Epoch 37/50\n",
      "121/121 [==============================] - 0s 2ms/step - loss: 3.0027 - mse: 3.0027 - mae: 1.2673 - val_loss: 2.7169 - val_mse: 2.7169 - val_mae: 1.2082\n",
      "Epoch 38/50\n",
      "121/121 [==============================] - 0s 2ms/step - loss: 2.7813 - mse: 2.7813 - mae: 1.2168 - val_loss: 2.4453 - val_mse: 2.4453 - val_mae: 1.1567\n",
      "Epoch 39/50\n",
      "121/121 [==============================] - 0s 2ms/step - loss: 2.6896 - mse: 2.6896 - mae: 1.2053 - val_loss: 2.9621 - val_mse: 2.9621 - val_mae: 1.2971\n",
      "Epoch 40/50\n",
      "121/121 [==============================] - 0s 2ms/step - loss: 2.5699 - mse: 2.5699 - mae: 1.1753 - val_loss: 2.2625 - val_mse: 2.2625 - val_mae: 1.1049\n",
      "Epoch 41/50\n",
      "121/121 [==============================] - 0s 2ms/step - loss: 2.5532 - mse: 2.5532 - mae: 1.1813 - val_loss: 2.3885 - val_mse: 2.3885 - val_mae: 1.1704\n",
      "Epoch 42/50\n",
      "121/121 [==============================] - 0s 2ms/step - loss: 2.3923 - mse: 2.3923 - mae: 1.1349 - val_loss: 2.3528 - val_mse: 2.3528 - val_mae: 1.1716\n",
      "Epoch 43/50\n",
      "121/121 [==============================] - 0s 2ms/step - loss: 2.3053 - mse: 2.3053 - mae: 1.1223 - val_loss: 2.3822 - val_mse: 2.3822 - val_mae: 1.1928\n",
      "Epoch 44/50\n",
      "121/121 [==============================] - 0s 2ms/step - loss: 2.3875 - mse: 2.3875 - mae: 1.1480 - val_loss: 2.0821 - val_mse: 2.0821 - val_mae: 1.0942\n",
      "Epoch 45/50\n",
      "121/121 [==============================] - 0s 2ms/step - loss: 2.1495 - mse: 2.1495 - mae: 1.0833 - val_loss: 1.9312 - val_mse: 1.9312 - val_mae: 1.0447\n",
      "Epoch 46/50\n",
      "121/121 [==============================] - 0s 4ms/step - loss: 2.3412 - mse: 2.3412 - mae: 1.1490 - val_loss: 2.1272 - val_mse: 2.1272 - val_mae: 1.1293\n",
      "Epoch 47/50\n",
      "121/121 [==============================] - 0s 4ms/step - loss: 2.1497 - mse: 2.1497 - mae: 1.0922 - val_loss: 1.8203 - val_mse: 1.8203 - val_mae: 1.0092\n",
      "Epoch 48/50\n",
      "121/121 [==============================] - 0s 4ms/step - loss: 2.0311 - mse: 2.0311 - mae: 1.0636 - val_loss: 2.2173 - val_mse: 2.2173 - val_mae: 1.1230\n",
      "Epoch 49/50\n",
      "121/121 [==============================] - 0s 3ms/step - loss: 2.0570 - mse: 2.0570 - mae: 1.0766 - val_loss: 1.7461 - val_mse: 1.7461 - val_mae: 0.9909\n",
      "Epoch 50/50\n",
      "121/121 [==============================] - 0s 2ms/step - loss: 1.9763 - mse: 1.9763 - mae: 1.0538 - val_loss: 1.7685 - val_mse: 1.7685 - val_mae: 1.0244\n"
     ]
    }
   ],
   "source": [
    "d1= random_result.best_params_\n",
    "\n",
    "keras_tuned=keras_reg_model(learning_rate=d1['learning_rate'],activation_function=d1['activation_function'],init=d1['init'],\n",
    "                                                                                       neuron1=d1['neuron1'],neuron2=d1['neuron2'])\n",
    "\n",
    "history2=keras_tuned.fit(x_train, y_train, validation_data=(x_test,y_test),\n",
    "                         epochs =d1['epochs'], batch_size=d1['batch_size'])"
   ]
  },
  {
   "cell_type": "code",
   "execution_count": 30,
   "id": "d3f3545f",
   "metadata": {},
   "outputs": [
    {
     "name": "stdout",
     "output_type": "stream",
     "text": [
      "376/376 [==============================] - 0s 1ms/step\n",
      "94/94 [==============================] - 0s 1ms/step\n",
      "Training set RMSE : 1.350, Testing set RMSE: 1.330\n"
     ]
    }
   ],
   "source": [
    "y_train_pred_tuned= keras_tuned.predict(x_train)\n",
    "y_test_pred_tuned= keras_tuned.predict(x_test)\n",
    "\n",
    "train_rmse_tuned = mean_squared_error(y_train,y_train_pred_tuned,squared=False)\n",
    "test_rmse_tuned = mean_squared_error(y_test, y_test_pred_tuned,squared=False)\n",
    "\n",
    "print('Training set RMSE : %.3f, Testing set RMSE: %.3f' % (train_rmse_tuned, test_rmse_tuned))"
   ]
  },
  {
   "cell_type": "code",
   "execution_count": 32,
   "id": "f98fd982",
   "metadata": {},
   "outputs": [
    {
     "data": {
      "text/html": [
       "<div>\n",
       "<style scoped>\n",
       "    .dataframe tbody tr th:only-of-type {\n",
       "        vertical-align: middle;\n",
       "    }\n",
       "\n",
       "    .dataframe tbody tr th {\n",
       "        vertical-align: top;\n",
       "    }\n",
       "\n",
       "    .dataframe thead th {\n",
       "        text-align: right;\n",
       "    }\n",
       "</style>\n",
       "<table border=\"1\" class=\"dataframe\">\n",
       "  <thead>\n",
       "    <tr style=\"text-align: right;\">\n",
       "      <th></th>\n",
       "      <th>Models</th>\n",
       "      <th>Train rmse</th>\n",
       "      <th>Test rmse</th>\n",
       "    </tr>\n",
       "  </thead>\n",
       "  <tbody>\n",
       "    <tr>\n",
       "      <th>0</th>\n",
       "      <td>base model</td>\n",
       "      <td>11.796595</td>\n",
       "      <td>11.887271</td>\n",
       "    </tr>\n",
       "    <tr>\n",
       "      <th>1</th>\n",
       "      <td>tuned model</td>\n",
       "      <td>1.349853</td>\n",
       "      <td>1.329866</td>\n",
       "    </tr>\n",
       "  </tbody>\n",
       "</table>\n",
       "</div>"
      ],
      "text/plain": [
       "        Models  Train rmse  Test rmse\n",
       "0   base model   11.796595  11.887271\n",
       "1  tuned model    1.349853   1.329866"
      ]
     },
     "execution_count": 32,
     "metadata": {},
     "output_type": "execute_result"
    }
   ],
   "source": [
    "result=pd.DataFrame({'Models':['base model','tuned model'],'Train rmse':[train_rmse,train_rmse_tuned],\n",
    "                     'Test rmse':[test_rmse,test_rmse_tuned]})\n",
    "result"
   ]
  }
 ],
 "metadata": {
  "kernelspec": {
   "display_name": "Python 3 (ipykernel)",
   "language": "python",
   "name": "python3"
  },
  "language_info": {
   "codemirror_mode": {
    "name": "ipython",
    "version": 3
   },
   "file_extension": ".py",
   "mimetype": "text/x-python",
   "name": "python",
   "nbconvert_exporter": "python",
   "pygments_lexer": "ipython3",
   "version": "3.11.3"
  }
 },
 "nbformat": 4,
 "nbformat_minor": 5
}
