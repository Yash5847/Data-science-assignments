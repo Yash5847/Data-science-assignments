{
 "cells": [
  {
   "cell_type": "code",
   "execution_count": 35,
   "id": "fc201c49",
   "metadata": {},
   "outputs": [],
   "source": [
    "import numpy as np\n",
    "import pandas as pd\n",
    "\n",
    "import matplotlib.pyplot as plt\n",
    "import seaborn as sns\n",
    "\n",
    "from sklearn.model_selection import train_test_split\n",
    "import tensorflow as tf\n",
    "\n",
    "import warnings\n",
    "warnings.filterwarnings('ignore')"
   ]
  },
  {
   "cell_type": "code",
   "execution_count": 2,
   "id": "20913ea9",
   "metadata": {},
   "outputs": [
    {
     "data": {
      "text/html": [
       "<div>\n",
       "<style scoped>\n",
       "    .dataframe tbody tr th:only-of-type {\n",
       "        vertical-align: middle;\n",
       "    }\n",
       "\n",
       "    .dataframe tbody tr th {\n",
       "        vertical-align: top;\n",
       "    }\n",
       "\n",
       "    .dataframe thead th {\n",
       "        text-align: right;\n",
       "    }\n",
       "</style>\n",
       "<table border=\"1\" class=\"dataframe\">\n",
       "  <thead>\n",
       "    <tr style=\"text-align: right;\">\n",
       "      <th></th>\n",
       "      <th>month</th>\n",
       "      <th>day</th>\n",
       "      <th>FFMC</th>\n",
       "      <th>DMC</th>\n",
       "      <th>DC</th>\n",
       "      <th>ISI</th>\n",
       "      <th>temp</th>\n",
       "      <th>RH</th>\n",
       "      <th>wind</th>\n",
       "      <th>rain</th>\n",
       "      <th>...</th>\n",
       "      <th>monthfeb</th>\n",
       "      <th>monthjan</th>\n",
       "      <th>monthjul</th>\n",
       "      <th>monthjun</th>\n",
       "      <th>monthmar</th>\n",
       "      <th>monthmay</th>\n",
       "      <th>monthnov</th>\n",
       "      <th>monthoct</th>\n",
       "      <th>monthsep</th>\n",
       "      <th>size_category</th>\n",
       "    </tr>\n",
       "  </thead>\n",
       "  <tbody>\n",
       "    <tr>\n",
       "      <th>0</th>\n",
       "      <td>mar</td>\n",
       "      <td>fri</td>\n",
       "      <td>86.2</td>\n",
       "      <td>26.2</td>\n",
       "      <td>94.3</td>\n",
       "      <td>5.1</td>\n",
       "      <td>8.2</td>\n",
       "      <td>51</td>\n",
       "      <td>6.7</td>\n",
       "      <td>0.0</td>\n",
       "      <td>...</td>\n",
       "      <td>0</td>\n",
       "      <td>0</td>\n",
       "      <td>0</td>\n",
       "      <td>0</td>\n",
       "      <td>1</td>\n",
       "      <td>0</td>\n",
       "      <td>0</td>\n",
       "      <td>0</td>\n",
       "      <td>0</td>\n",
       "      <td>small</td>\n",
       "    </tr>\n",
       "    <tr>\n",
       "      <th>1</th>\n",
       "      <td>oct</td>\n",
       "      <td>tue</td>\n",
       "      <td>90.6</td>\n",
       "      <td>35.4</td>\n",
       "      <td>669.1</td>\n",
       "      <td>6.7</td>\n",
       "      <td>18.0</td>\n",
       "      <td>33</td>\n",
       "      <td>0.9</td>\n",
       "      <td>0.0</td>\n",
       "      <td>...</td>\n",
       "      <td>0</td>\n",
       "      <td>0</td>\n",
       "      <td>0</td>\n",
       "      <td>0</td>\n",
       "      <td>0</td>\n",
       "      <td>0</td>\n",
       "      <td>0</td>\n",
       "      <td>1</td>\n",
       "      <td>0</td>\n",
       "      <td>small</td>\n",
       "    </tr>\n",
       "    <tr>\n",
       "      <th>2</th>\n",
       "      <td>oct</td>\n",
       "      <td>sat</td>\n",
       "      <td>90.6</td>\n",
       "      <td>43.7</td>\n",
       "      <td>686.9</td>\n",
       "      <td>6.7</td>\n",
       "      <td>14.6</td>\n",
       "      <td>33</td>\n",
       "      <td>1.3</td>\n",
       "      <td>0.0</td>\n",
       "      <td>...</td>\n",
       "      <td>0</td>\n",
       "      <td>0</td>\n",
       "      <td>0</td>\n",
       "      <td>0</td>\n",
       "      <td>0</td>\n",
       "      <td>0</td>\n",
       "      <td>0</td>\n",
       "      <td>1</td>\n",
       "      <td>0</td>\n",
       "      <td>small</td>\n",
       "    </tr>\n",
       "    <tr>\n",
       "      <th>3</th>\n",
       "      <td>mar</td>\n",
       "      <td>fri</td>\n",
       "      <td>91.7</td>\n",
       "      <td>33.3</td>\n",
       "      <td>77.5</td>\n",
       "      <td>9.0</td>\n",
       "      <td>8.3</td>\n",
       "      <td>97</td>\n",
       "      <td>4.0</td>\n",
       "      <td>0.2</td>\n",
       "      <td>...</td>\n",
       "      <td>0</td>\n",
       "      <td>0</td>\n",
       "      <td>0</td>\n",
       "      <td>0</td>\n",
       "      <td>1</td>\n",
       "      <td>0</td>\n",
       "      <td>0</td>\n",
       "      <td>0</td>\n",
       "      <td>0</td>\n",
       "      <td>small</td>\n",
       "    </tr>\n",
       "    <tr>\n",
       "      <th>4</th>\n",
       "      <td>mar</td>\n",
       "      <td>sun</td>\n",
       "      <td>89.3</td>\n",
       "      <td>51.3</td>\n",
       "      <td>102.2</td>\n",
       "      <td>9.6</td>\n",
       "      <td>11.4</td>\n",
       "      <td>99</td>\n",
       "      <td>1.8</td>\n",
       "      <td>0.0</td>\n",
       "      <td>...</td>\n",
       "      <td>0</td>\n",
       "      <td>0</td>\n",
       "      <td>0</td>\n",
       "      <td>0</td>\n",
       "      <td>1</td>\n",
       "      <td>0</td>\n",
       "      <td>0</td>\n",
       "      <td>0</td>\n",
       "      <td>0</td>\n",
       "      <td>small</td>\n",
       "    </tr>\n",
       "  </tbody>\n",
       "</table>\n",
       "<p>5 rows × 31 columns</p>\n",
       "</div>"
      ],
      "text/plain": [
       "  month  day  FFMC   DMC     DC  ISI  temp  RH  wind  rain  ...  monthfeb  \\\n",
       "0   mar  fri  86.2  26.2   94.3  5.1   8.2  51   6.7   0.0  ...         0   \n",
       "1   oct  tue  90.6  35.4  669.1  6.7  18.0  33   0.9   0.0  ...         0   \n",
       "2   oct  sat  90.6  43.7  686.9  6.7  14.6  33   1.3   0.0  ...         0   \n",
       "3   mar  fri  91.7  33.3   77.5  9.0   8.3  97   4.0   0.2  ...         0   \n",
       "4   mar  sun  89.3  51.3  102.2  9.6  11.4  99   1.8   0.0  ...         0   \n",
       "\n",
       "   monthjan  monthjul  monthjun  monthmar  monthmay  monthnov  monthoct  \\\n",
       "0         0         0         0         1         0         0         0   \n",
       "1         0         0         0         0         0         0         1   \n",
       "2         0         0         0         0         0         0         1   \n",
       "3         0         0         0         1         0         0         0   \n",
       "4         0         0         0         1         0         0         0   \n",
       "\n",
       "   monthsep  size_category  \n",
       "0         0          small  \n",
       "1         0          small  \n",
       "2         0          small  \n",
       "3         0          small  \n",
       "4         0          small  \n",
       "\n",
       "[5 rows x 31 columns]"
      ]
     },
     "execution_count": 2,
     "metadata": {},
     "output_type": "execute_result"
    }
   ],
   "source": [
    "df_ff = pd.read_csv(\"forestfires.csv\")\n",
    "df_ff.head()"
   ]
  },
  {
   "cell_type": "code",
   "execution_count": 4,
   "id": "d314bd3f",
   "metadata": {},
   "outputs": [
    {
     "data": {
      "text/plain": [
       "(517, 31)"
      ]
     },
     "execution_count": 4,
     "metadata": {},
     "output_type": "execute_result"
    }
   ],
   "source": [
    "df_ff.shape"
   ]
  },
  {
   "cell_type": "code",
   "execution_count": 5,
   "id": "f1860dde",
   "metadata": {},
   "outputs": [
    {
     "data": {
      "text/plain": [
       "month             object\n",
       "day               object\n",
       "FFMC             float64\n",
       "DMC              float64\n",
       "DC               float64\n",
       "ISI              float64\n",
       "temp             float64\n",
       "RH                 int64\n",
       "wind             float64\n",
       "rain             float64\n",
       "area             float64\n",
       "dayfri             int64\n",
       "daymon             int64\n",
       "daysat             int64\n",
       "daysun             int64\n",
       "daythu             int64\n",
       "daytue             int64\n",
       "daywed             int64\n",
       "monthapr           int64\n",
       "monthaug           int64\n",
       "monthdec           int64\n",
       "monthfeb           int64\n",
       "monthjan           int64\n",
       "monthjul           int64\n",
       "monthjun           int64\n",
       "monthmar           int64\n",
       "monthmay           int64\n",
       "monthnov           int64\n",
       "monthoct           int64\n",
       "monthsep           int64\n",
       "size_category     object\n",
       "dtype: object"
      ]
     },
     "execution_count": 5,
     "metadata": {},
     "output_type": "execute_result"
    }
   ],
   "source": [
    "df_ff.dtypes"
   ]
  },
  {
   "cell_type": "code",
   "execution_count": 6,
   "id": "82dc0edc",
   "metadata": {},
   "outputs": [
    {
     "data": {
      "text/plain": [
       "month            0\n",
       "day              0\n",
       "FFMC             0\n",
       "DMC              0\n",
       "DC               0\n",
       "ISI              0\n",
       "temp             0\n",
       "RH               0\n",
       "wind             0\n",
       "rain             0\n",
       "area             0\n",
       "dayfri           0\n",
       "daymon           0\n",
       "daysat           0\n",
       "daysun           0\n",
       "daythu           0\n",
       "daytue           0\n",
       "daywed           0\n",
       "monthapr         0\n",
       "monthaug         0\n",
       "monthdec         0\n",
       "monthfeb         0\n",
       "monthjan         0\n",
       "monthjul         0\n",
       "monthjun         0\n",
       "monthmar         0\n",
       "monthmay         0\n",
       "monthnov         0\n",
       "monthoct         0\n",
       "monthsep         0\n",
       "size_category    0\n",
       "dtype: int64"
      ]
     },
     "execution_count": 6,
     "metadata": {},
     "output_type": "execute_result"
    }
   ],
   "source": [
    "df_ff.isnull().sum()"
   ]
  },
  {
   "cell_type": "code",
   "execution_count": 7,
   "id": "056e5d19",
   "metadata": {},
   "outputs": [
    {
     "name": "stdout",
     "output_type": "stream",
     "text": [
      "Duplicate Rows :\n"
     ]
    }
   ],
   "source": [
    "duplicate = df_ff[df_ff.duplicated()]\n",
    "print(\"Duplicate Rows :\")"
   ]
  },
  {
   "cell_type": "code",
   "execution_count": 8,
   "id": "85af7180",
   "metadata": {},
   "outputs": [
    {
     "data": {
      "text/plain": [
       "Index(['month', 'day', 'FFMC', 'DMC', 'DC', 'ISI', 'temp', 'RH', 'wind',\n",
       "       'rain', 'area', 'dayfri', 'daymon', 'daysat', 'daysun', 'daythu',\n",
       "       'daytue', 'daywed', 'monthapr', 'monthaug', 'monthdec', 'monthfeb',\n",
       "       'monthjan', 'monthjul', 'monthjun', 'monthmar', 'monthmay', 'monthnov',\n",
       "       'monthoct', 'monthsep', 'size_category'],\n",
       "      dtype='object')"
      ]
     },
     "execution_count": 8,
     "metadata": {},
     "output_type": "execute_result"
    }
   ],
   "source": [
    "df_ff.columns"
   ]
  },
  {
   "cell_type": "code",
   "execution_count": 9,
   "id": "b65d0537",
   "metadata": {},
   "outputs": [
    {
     "data": {
      "text/html": [
       "<div>\n",
       "<style scoped>\n",
       "    .dataframe tbody tr th:only-of-type {\n",
       "        vertical-align: middle;\n",
       "    }\n",
       "\n",
       "    .dataframe tbody tr th {\n",
       "        vertical-align: top;\n",
       "    }\n",
       "\n",
       "    .dataframe thead th {\n",
       "        text-align: right;\n",
       "    }\n",
       "</style>\n",
       "<table border=\"1\" class=\"dataframe\">\n",
       "  <thead>\n",
       "    <tr style=\"text-align: right;\">\n",
       "      <th></th>\n",
       "      <th>FFMC</th>\n",
       "      <th>DMC</th>\n",
       "      <th>DC</th>\n",
       "      <th>ISI</th>\n",
       "      <th>temp</th>\n",
       "      <th>RH</th>\n",
       "      <th>wind</th>\n",
       "      <th>rain</th>\n",
       "      <th>area</th>\n",
       "      <th>dayfri</th>\n",
       "      <th>...</th>\n",
       "      <th>monthfeb</th>\n",
       "      <th>monthjan</th>\n",
       "      <th>monthjul</th>\n",
       "      <th>monthjun</th>\n",
       "      <th>monthmar</th>\n",
       "      <th>monthmay</th>\n",
       "      <th>monthnov</th>\n",
       "      <th>monthoct</th>\n",
       "      <th>monthsep</th>\n",
       "      <th>size_category</th>\n",
       "    </tr>\n",
       "  </thead>\n",
       "  <tbody>\n",
       "    <tr>\n",
       "      <th>0</th>\n",
       "      <td>86.2</td>\n",
       "      <td>26.2</td>\n",
       "      <td>94.3</td>\n",
       "      <td>5.1</td>\n",
       "      <td>8.2</td>\n",
       "      <td>51</td>\n",
       "      <td>6.7</td>\n",
       "      <td>0.0</td>\n",
       "      <td>0.0</td>\n",
       "      <td>1</td>\n",
       "      <td>...</td>\n",
       "      <td>0</td>\n",
       "      <td>0</td>\n",
       "      <td>0</td>\n",
       "      <td>0</td>\n",
       "      <td>1</td>\n",
       "      <td>0</td>\n",
       "      <td>0</td>\n",
       "      <td>0</td>\n",
       "      <td>0</td>\n",
       "      <td>small</td>\n",
       "    </tr>\n",
       "    <tr>\n",
       "      <th>1</th>\n",
       "      <td>90.6</td>\n",
       "      <td>35.4</td>\n",
       "      <td>669.1</td>\n",
       "      <td>6.7</td>\n",
       "      <td>18.0</td>\n",
       "      <td>33</td>\n",
       "      <td>0.9</td>\n",
       "      <td>0.0</td>\n",
       "      <td>0.0</td>\n",
       "      <td>0</td>\n",
       "      <td>...</td>\n",
       "      <td>0</td>\n",
       "      <td>0</td>\n",
       "      <td>0</td>\n",
       "      <td>0</td>\n",
       "      <td>0</td>\n",
       "      <td>0</td>\n",
       "      <td>0</td>\n",
       "      <td>1</td>\n",
       "      <td>0</td>\n",
       "      <td>small</td>\n",
       "    </tr>\n",
       "    <tr>\n",
       "      <th>2</th>\n",
       "      <td>90.6</td>\n",
       "      <td>43.7</td>\n",
       "      <td>686.9</td>\n",
       "      <td>6.7</td>\n",
       "      <td>14.6</td>\n",
       "      <td>33</td>\n",
       "      <td>1.3</td>\n",
       "      <td>0.0</td>\n",
       "      <td>0.0</td>\n",
       "      <td>0</td>\n",
       "      <td>...</td>\n",
       "      <td>0</td>\n",
       "      <td>0</td>\n",
       "      <td>0</td>\n",
       "      <td>0</td>\n",
       "      <td>0</td>\n",
       "      <td>0</td>\n",
       "      <td>0</td>\n",
       "      <td>1</td>\n",
       "      <td>0</td>\n",
       "      <td>small</td>\n",
       "    </tr>\n",
       "    <tr>\n",
       "      <th>3</th>\n",
       "      <td>91.7</td>\n",
       "      <td>33.3</td>\n",
       "      <td>77.5</td>\n",
       "      <td>9.0</td>\n",
       "      <td>8.3</td>\n",
       "      <td>97</td>\n",
       "      <td>4.0</td>\n",
       "      <td>0.2</td>\n",
       "      <td>0.0</td>\n",
       "      <td>1</td>\n",
       "      <td>...</td>\n",
       "      <td>0</td>\n",
       "      <td>0</td>\n",
       "      <td>0</td>\n",
       "      <td>0</td>\n",
       "      <td>1</td>\n",
       "      <td>0</td>\n",
       "      <td>0</td>\n",
       "      <td>0</td>\n",
       "      <td>0</td>\n",
       "      <td>small</td>\n",
       "    </tr>\n",
       "    <tr>\n",
       "      <th>4</th>\n",
       "      <td>89.3</td>\n",
       "      <td>51.3</td>\n",
       "      <td>102.2</td>\n",
       "      <td>9.6</td>\n",
       "      <td>11.4</td>\n",
       "      <td>99</td>\n",
       "      <td>1.8</td>\n",
       "      <td>0.0</td>\n",
       "      <td>0.0</td>\n",
       "      <td>0</td>\n",
       "      <td>...</td>\n",
       "      <td>0</td>\n",
       "      <td>0</td>\n",
       "      <td>0</td>\n",
       "      <td>0</td>\n",
       "      <td>1</td>\n",
       "      <td>0</td>\n",
       "      <td>0</td>\n",
       "      <td>0</td>\n",
       "      <td>0</td>\n",
       "      <td>small</td>\n",
       "    </tr>\n",
       "  </tbody>\n",
       "</table>\n",
       "<p>5 rows × 29 columns</p>\n",
       "</div>"
      ],
      "text/plain": [
       "   FFMC   DMC     DC  ISI  temp  RH  wind  rain  area  dayfri  ...  monthfeb  \\\n",
       "0  86.2  26.2   94.3  5.1   8.2  51   6.7   0.0   0.0       1  ...         0   \n",
       "1  90.6  35.4  669.1  6.7  18.0  33   0.9   0.0   0.0       0  ...         0   \n",
       "2  90.6  43.7  686.9  6.7  14.6  33   1.3   0.0   0.0       0  ...         0   \n",
       "3  91.7  33.3   77.5  9.0   8.3  97   4.0   0.2   0.0       1  ...         0   \n",
       "4  89.3  51.3  102.2  9.6  11.4  99   1.8   0.0   0.0       0  ...         0   \n",
       "\n",
       "   monthjan  monthjul  monthjun  monthmar  monthmay  monthnov  monthoct  \\\n",
       "0         0         0         0         1         0         0         0   \n",
       "1         0         0         0         0         0         0         1   \n",
       "2         0         0         0         0         0         0         1   \n",
       "3         0         0         0         1         0         0         0   \n",
       "4         0         0         0         1         0         0         0   \n",
       "\n",
       "   monthsep  size_category  \n",
       "0         0          small  \n",
       "1         0          small  \n",
       "2         0          small  \n",
       "3         0          small  \n",
       "4         0          small  \n",
       "\n",
       "[5 rows x 29 columns]"
      ]
     },
     "execution_count": 9,
     "metadata": {},
     "output_type": "execute_result"
    }
   ],
   "source": [
    "df_ff=df_ff.loc[:,['FFMC', 'DMC', 'DC', 'ISI', 'temp', 'RH', 'wind','rain', 'area', 'dayfri', 'daymon', 'daysat', 'daysun', 'daythu','daytue', 'daywed', 'monthapr', 'monthaug', 'monthdec', 'monthfeb','monthjan', 'monthjul', 'monthjun', 'monthmar', 'monthmay', 'monthnov','monthoct', 'monthsep', 'size_category']]\n",
    "df_ff.head()"
   ]
  },
  {
   "cell_type": "code",
   "execution_count": 10,
   "id": "8e6fedc4",
   "metadata": {},
   "outputs": [
    {
     "data": {
      "text/html": [
       "<div>\n",
       "<style scoped>\n",
       "    .dataframe tbody tr th:only-of-type {\n",
       "        vertical-align: middle;\n",
       "    }\n",
       "\n",
       "    .dataframe tbody tr th {\n",
       "        vertical-align: top;\n",
       "    }\n",
       "\n",
       "    .dataframe thead th {\n",
       "        text-align: right;\n",
       "    }\n",
       "</style>\n",
       "<table border=\"1\" class=\"dataframe\">\n",
       "  <thead>\n",
       "    <tr style=\"text-align: right;\">\n",
       "      <th></th>\n",
       "      <th>FFMC</th>\n",
       "      <th>DMC</th>\n",
       "      <th>DC</th>\n",
       "      <th>ISI</th>\n",
       "      <th>temp</th>\n",
       "      <th>RH</th>\n",
       "      <th>wind</th>\n",
       "      <th>rain</th>\n",
       "      <th>area</th>\n",
       "      <th>dayfri</th>\n",
       "      <th>...</th>\n",
       "      <th>monthdec</th>\n",
       "      <th>monthfeb</th>\n",
       "      <th>monthjan</th>\n",
       "      <th>monthjul</th>\n",
       "      <th>monthjun</th>\n",
       "      <th>monthmar</th>\n",
       "      <th>monthmay</th>\n",
       "      <th>monthnov</th>\n",
       "      <th>monthoct</th>\n",
       "      <th>monthsep</th>\n",
       "    </tr>\n",
       "  </thead>\n",
       "  <tbody>\n",
       "    <tr>\n",
       "      <th>0</th>\n",
       "      <td>86.2</td>\n",
       "      <td>26.2</td>\n",
       "      <td>94.3</td>\n",
       "      <td>5.1</td>\n",
       "      <td>8.2</td>\n",
       "      <td>51</td>\n",
       "      <td>6.7</td>\n",
       "      <td>0.0</td>\n",
       "      <td>0.0</td>\n",
       "      <td>1</td>\n",
       "      <td>...</td>\n",
       "      <td>0</td>\n",
       "      <td>0</td>\n",
       "      <td>0</td>\n",
       "      <td>0</td>\n",
       "      <td>0</td>\n",
       "      <td>1</td>\n",
       "      <td>0</td>\n",
       "      <td>0</td>\n",
       "      <td>0</td>\n",
       "      <td>0</td>\n",
       "    </tr>\n",
       "    <tr>\n",
       "      <th>1</th>\n",
       "      <td>90.6</td>\n",
       "      <td>35.4</td>\n",
       "      <td>669.1</td>\n",
       "      <td>6.7</td>\n",
       "      <td>18.0</td>\n",
       "      <td>33</td>\n",
       "      <td>0.9</td>\n",
       "      <td>0.0</td>\n",
       "      <td>0.0</td>\n",
       "      <td>0</td>\n",
       "      <td>...</td>\n",
       "      <td>0</td>\n",
       "      <td>0</td>\n",
       "      <td>0</td>\n",
       "      <td>0</td>\n",
       "      <td>0</td>\n",
       "      <td>0</td>\n",
       "      <td>0</td>\n",
       "      <td>0</td>\n",
       "      <td>1</td>\n",
       "      <td>0</td>\n",
       "    </tr>\n",
       "    <tr>\n",
       "      <th>2</th>\n",
       "      <td>90.6</td>\n",
       "      <td>43.7</td>\n",
       "      <td>686.9</td>\n",
       "      <td>6.7</td>\n",
       "      <td>14.6</td>\n",
       "      <td>33</td>\n",
       "      <td>1.3</td>\n",
       "      <td>0.0</td>\n",
       "      <td>0.0</td>\n",
       "      <td>0</td>\n",
       "      <td>...</td>\n",
       "      <td>0</td>\n",
       "      <td>0</td>\n",
       "      <td>0</td>\n",
       "      <td>0</td>\n",
       "      <td>0</td>\n",
       "      <td>0</td>\n",
       "      <td>0</td>\n",
       "      <td>0</td>\n",
       "      <td>1</td>\n",
       "      <td>0</td>\n",
       "    </tr>\n",
       "    <tr>\n",
       "      <th>3</th>\n",
       "      <td>91.7</td>\n",
       "      <td>33.3</td>\n",
       "      <td>77.5</td>\n",
       "      <td>9.0</td>\n",
       "      <td>8.3</td>\n",
       "      <td>97</td>\n",
       "      <td>4.0</td>\n",
       "      <td>0.2</td>\n",
       "      <td>0.0</td>\n",
       "      <td>1</td>\n",
       "      <td>...</td>\n",
       "      <td>0</td>\n",
       "      <td>0</td>\n",
       "      <td>0</td>\n",
       "      <td>0</td>\n",
       "      <td>0</td>\n",
       "      <td>1</td>\n",
       "      <td>0</td>\n",
       "      <td>0</td>\n",
       "      <td>0</td>\n",
       "      <td>0</td>\n",
       "    </tr>\n",
       "    <tr>\n",
       "      <th>4</th>\n",
       "      <td>89.3</td>\n",
       "      <td>51.3</td>\n",
       "      <td>102.2</td>\n",
       "      <td>9.6</td>\n",
       "      <td>11.4</td>\n",
       "      <td>99</td>\n",
       "      <td>1.8</td>\n",
       "      <td>0.0</td>\n",
       "      <td>0.0</td>\n",
       "      <td>0</td>\n",
       "      <td>...</td>\n",
       "      <td>0</td>\n",
       "      <td>0</td>\n",
       "      <td>0</td>\n",
       "      <td>0</td>\n",
       "      <td>0</td>\n",
       "      <td>1</td>\n",
       "      <td>0</td>\n",
       "      <td>0</td>\n",
       "      <td>0</td>\n",
       "      <td>0</td>\n",
       "    </tr>\n",
       "  </tbody>\n",
       "</table>\n",
       "<p>5 rows × 28 columns</p>\n",
       "</div>"
      ],
      "text/plain": [
       "   FFMC   DMC     DC  ISI  temp  RH  wind  rain  area  dayfri  ...  monthdec  \\\n",
       "0  86.2  26.2   94.3  5.1   8.2  51   6.7   0.0   0.0       1  ...         0   \n",
       "1  90.6  35.4  669.1  6.7  18.0  33   0.9   0.0   0.0       0  ...         0   \n",
       "2  90.6  43.7  686.9  6.7  14.6  33   1.3   0.0   0.0       0  ...         0   \n",
       "3  91.7  33.3   77.5  9.0   8.3  97   4.0   0.2   0.0       1  ...         0   \n",
       "4  89.3  51.3  102.2  9.6  11.4  99   1.8   0.0   0.0       0  ...         0   \n",
       "\n",
       "   monthfeb  monthjan  monthjul  monthjun  monthmar  monthmay  monthnov  \\\n",
       "0         0         0         0         0         1         0         0   \n",
       "1         0         0         0         0         0         0         0   \n",
       "2         0         0         0         0         0         0         0   \n",
       "3         0         0         0         0         1         0         0   \n",
       "4         0         0         0         0         1         0         0   \n",
       "\n",
       "   monthoct  monthsep  \n",
       "0         0         0  \n",
       "1         1         0  \n",
       "2         1         0  \n",
       "3         0         0  \n",
       "4         0         0  \n",
       "\n",
       "[5 rows x 28 columns]"
      ]
     },
     "execution_count": 10,
     "metadata": {},
     "output_type": "execute_result"
    }
   ],
   "source": [
    "x = df_ff.iloc[:,0:-1]\n",
    "x.head()"
   ]
  },
  {
   "cell_type": "code",
   "execution_count": 11,
   "id": "122bfd6b",
   "metadata": {},
   "outputs": [
    {
     "data": {
      "text/plain": [
       "0    small\n",
       "1    small\n",
       "2    small\n",
       "3    small\n",
       "4    small\n",
       "Name: size_category, dtype: object"
      ]
     },
     "execution_count": 11,
     "metadata": {},
     "output_type": "execute_result"
    }
   ],
   "source": [
    "y = df_ff.iloc[:,-1]\n",
    "y.head()"
   ]
  },
  {
   "cell_type": "code",
   "execution_count": 13,
   "id": "a0a518a3",
   "metadata": {},
   "outputs": [
    {
     "data": {
      "text/plain": [
       "0    0\n",
       "1    0\n",
       "2    0\n",
       "3    0\n",
       "4    0\n",
       "Name: size_category, dtype: int64"
      ]
     },
     "execution_count": 13,
     "metadata": {},
     "output_type": "execute_result"
    }
   ],
   "source": [
    "y.replace(to_replace=['small','large'],value=[0,1],inplace = True)\n",
    "y.head()"
   ]
  },
  {
   "cell_type": "code",
   "execution_count": 8,
   "id": "48956b38",
   "metadata": {},
   "outputs": [
    {
     "data": {
      "text/plain": [
       "0      0\n",
       "1      0\n",
       "2      0\n",
       "3      0\n",
       "4      0\n",
       "      ..\n",
       "512    1\n",
       "513    1\n",
       "514    1\n",
       "515    0\n",
       "516    0\n",
       "Name: size_category, Length: 517, dtype: int64"
      ]
     },
     "execution_count": 8,
     "metadata": {},
     "output_type": "execute_result"
    }
   ],
   "source": [
    "y=y\n",
    "y"
   ]
  },
  {
   "cell_type": "markdown",
   "id": "12278693",
   "metadata": {},
   "source": [
    "<h3> Model Building </h3>"
   ]
  },
  {
   "cell_type": "code",
   "execution_count": 15,
   "id": "a7a85859",
   "metadata": {},
   "outputs": [],
   "source": [
    "x_train,x_test,y_train,y_test = train_test_split(x,y,test_size=0.2,random_state=10)"
   ]
  },
  {
   "cell_type": "code",
   "execution_count": 16,
   "id": "f1dcfa8e",
   "metadata": {},
   "outputs": [],
   "source": [
    "model = tf.keras.models.Sequential()\n",
    "model.add(tf.keras.layers.Dense(15,input_dim=28,activation = 'sigmoid'))\n",
    "model.add(tf.keras.layers.Dense(10,activation='sigmoid'))\n",
    "model.add(tf.keras.layers.Dense(1,activation='sigmoid'))"
   ]
  },
  {
   "cell_type": "code",
   "execution_count": 17,
   "id": "5cac58ef",
   "metadata": {},
   "outputs": [
    {
     "name": "stdout",
     "output_type": "stream",
     "text": [
      "Model: \"sequential\"\n",
      "_________________________________________________________________\n",
      " Layer (type)                Output Shape              Param #   \n",
      "=================================================================\n",
      " dense (Dense)               (None, 15)                435       \n",
      "                                                                 \n",
      " dense_1 (Dense)             (None, 10)                160       \n",
      "                                                                 \n",
      " dense_2 (Dense)             (None, 1)                 11        \n",
      "                                                                 \n",
      "=================================================================\n",
      "Total params: 606\n",
      "Trainable params: 606\n",
      "Non-trainable params: 0\n",
      "_________________________________________________________________\n"
     ]
    }
   ],
   "source": [
    "model.summary()"
   ]
  },
  {
   "cell_type": "code",
   "execution_count": 18,
   "id": "bf35addf",
   "metadata": {},
   "outputs": [],
   "source": [
    "model.compile(loss ='binary_crossentropy', optimizer='adam', metrics=['accuracy'])"
   ]
  },
  {
   "cell_type": "code",
   "execution_count": 19,
   "id": "b22449a3",
   "metadata": {},
   "outputs": [
    {
     "name": "stdout",
     "output_type": "stream",
     "text": [
      "Epoch 1/50\n",
      "5/5 [==============================] - 1s 59ms/step - loss: 0.6394 - accuracy: 0.7385 - val_loss: 0.6375 - val_accuracy: 0.7019\n",
      "Epoch 2/50\n",
      "5/5 [==============================] - 0s 9ms/step - loss: 0.6267 - accuracy: 0.7385 - val_loss: 0.6319 - val_accuracy: 0.7019\n",
      "Epoch 3/50\n",
      "5/5 [==============================] - 0s 9ms/step - loss: 0.6159 - accuracy: 0.7385 - val_loss: 0.6271 - val_accuracy: 0.7019\n",
      "Epoch 4/50\n",
      "5/5 [==============================] - 0s 9ms/step - loss: 0.6066 - accuracy: 0.7385 - val_loss: 0.6213 - val_accuracy: 0.7019\n",
      "Epoch 5/50\n",
      "5/5 [==============================] - 0s 10ms/step - loss: 0.5976 - accuracy: 0.7385 - val_loss: 0.6167 - val_accuracy: 0.7019\n",
      "Epoch 6/50\n",
      "5/5 [==============================] - 0s 10ms/step - loss: 0.5884 - accuracy: 0.7385 - val_loss: 0.6121 - val_accuracy: 0.7019\n",
      "Epoch 7/50\n",
      "5/5 [==============================] - 0s 10ms/step - loss: 0.5819 - accuracy: 0.7385 - val_loss: 0.6083 - val_accuracy: 0.7019\n",
      "Epoch 8/50\n",
      "5/5 [==============================] - 0s 9ms/step - loss: 0.5777 - accuracy: 0.7385 - val_loss: 0.6051 - val_accuracy: 0.7019\n",
      "Epoch 9/50\n",
      "5/5 [==============================] - 0s 9ms/step - loss: 0.5749 - accuracy: 0.7385 - val_loss: 0.6032 - val_accuracy: 0.7019\n",
      "Epoch 10/50\n",
      "5/5 [==============================] - 0s 10ms/step - loss: 0.5728 - accuracy: 0.7385 - val_loss: 0.6021 - val_accuracy: 0.7019\n",
      "Epoch 11/50\n",
      "5/5 [==============================] - 0s 9ms/step - loss: 0.5715 - accuracy: 0.7385 - val_loss: 0.6007 - val_accuracy: 0.7019\n",
      "Epoch 12/50\n",
      "5/5 [==============================] - 0s 10ms/step - loss: 0.5704 - accuracy: 0.7385 - val_loss: 0.6000 - val_accuracy: 0.7019\n",
      "Epoch 13/50\n",
      "5/5 [==============================] - 0s 9ms/step - loss: 0.5694 - accuracy: 0.7385 - val_loss: 0.6000 - val_accuracy: 0.7019\n",
      "Epoch 14/50\n",
      "5/5 [==============================] - 0s 12ms/step - loss: 0.5686 - accuracy: 0.7385 - val_loss: 0.5997 - val_accuracy: 0.7019\n",
      "Epoch 15/50\n",
      "5/5 [==============================] - 0s 9ms/step - loss: 0.5677 - accuracy: 0.7385 - val_loss: 0.5999 - val_accuracy: 0.7019\n",
      "Epoch 16/50\n",
      "5/5 [==============================] - 0s 8ms/step - loss: 0.5667 - accuracy: 0.7385 - val_loss: 0.5998 - val_accuracy: 0.7019\n",
      "Epoch 17/50\n",
      "5/5 [==============================] - 0s 9ms/step - loss: 0.5659 - accuracy: 0.7385 - val_loss: 0.5995 - val_accuracy: 0.7019\n",
      "Epoch 18/50\n",
      "5/5 [==============================] - 0s 12ms/step - loss: 0.5653 - accuracy: 0.7385 - val_loss: 0.5994 - val_accuracy: 0.7019\n",
      "Epoch 19/50\n",
      "5/5 [==============================] - 0s 12ms/step - loss: 0.5648 - accuracy: 0.7385 - val_loss: 0.5991 - val_accuracy: 0.7019\n",
      "Epoch 20/50\n",
      "5/5 [==============================] - 0s 8ms/step - loss: 0.5645 - accuracy: 0.7385 - val_loss: 0.5985 - val_accuracy: 0.7019\n",
      "Epoch 21/50\n",
      "5/5 [==============================] - 0s 9ms/step - loss: 0.5639 - accuracy: 0.7385 - val_loss: 0.5986 - val_accuracy: 0.7019\n",
      "Epoch 22/50\n",
      "5/5 [==============================] - 0s 10ms/step - loss: 0.5635 - accuracy: 0.7385 - val_loss: 0.5985 - val_accuracy: 0.7019\n",
      "Epoch 23/50\n",
      "5/5 [==============================] - 0s 9ms/step - loss: 0.5633 - accuracy: 0.7385 - val_loss: 0.5984 - val_accuracy: 0.7019\n",
      "Epoch 24/50\n",
      "5/5 [==============================] - 0s 10ms/step - loss: 0.5625 - accuracy: 0.7385 - val_loss: 0.5974 - val_accuracy: 0.7019\n",
      "Epoch 25/50\n",
      "5/5 [==============================] - 0s 9ms/step - loss: 0.5619 - accuracy: 0.7385 - val_loss: 0.5968 - val_accuracy: 0.7019\n",
      "Epoch 26/50\n",
      "5/5 [==============================] - 0s 10ms/step - loss: 0.5611 - accuracy: 0.7385 - val_loss: 0.5961 - val_accuracy: 0.7019\n",
      "Epoch 27/50\n",
      "5/5 [==============================] - 0s 11ms/step - loss: 0.5605 - accuracy: 0.7385 - val_loss: 0.5956 - val_accuracy: 0.7019\n",
      "Epoch 28/50\n",
      "5/5 [==============================] - 0s 9ms/step - loss: 0.5599 - accuracy: 0.7385 - val_loss: 0.5944 - val_accuracy: 0.7019\n",
      "Epoch 29/50\n",
      "5/5 [==============================] - 0s 9ms/step - loss: 0.5591 - accuracy: 0.7385 - val_loss: 0.5932 - val_accuracy: 0.7019\n",
      "Epoch 30/50\n",
      "5/5 [==============================] - 0s 9ms/step - loss: 0.5585 - accuracy: 0.7385 - val_loss: 0.5916 - val_accuracy: 0.7019\n",
      "Epoch 31/50\n",
      "5/5 [==============================] - 0s 7ms/step - loss: 0.5580 - accuracy: 0.7385 - val_loss: 0.5901 - val_accuracy: 0.7019\n",
      "Epoch 32/50\n",
      "5/5 [==============================] - 0s 8ms/step - loss: 0.5570 - accuracy: 0.7385 - val_loss: 0.5890 - val_accuracy: 0.7019\n",
      "Epoch 33/50\n",
      "5/5 [==============================] - 0s 8ms/step - loss: 0.5558 - accuracy: 0.7385 - val_loss: 0.5879 - val_accuracy: 0.7019\n",
      "Epoch 34/50\n",
      "5/5 [==============================] - 0s 8ms/step - loss: 0.5549 - accuracy: 0.7385 - val_loss: 0.5881 - val_accuracy: 0.7019\n",
      "Epoch 35/50\n",
      "5/5 [==============================] - 0s 8ms/step - loss: 0.5539 - accuracy: 0.7385 - val_loss: 0.5893 - val_accuracy: 0.7019\n",
      "Epoch 36/50\n",
      "5/5 [==============================] - 0s 13ms/step - loss: 0.5530 - accuracy: 0.7385 - val_loss: 0.5899 - val_accuracy: 0.7019\n",
      "Epoch 37/50\n",
      "5/5 [==============================] - 0s 11ms/step - loss: 0.5526 - accuracy: 0.7385 - val_loss: 0.5904 - val_accuracy: 0.7019\n",
      "Epoch 38/50\n",
      "5/5 [==============================] - 0s 9ms/step - loss: 0.5518 - accuracy: 0.7385 - val_loss: 0.5906 - val_accuracy: 0.7019\n",
      "Epoch 39/50\n",
      "5/5 [==============================] - 0s 10ms/step - loss: 0.5507 - accuracy: 0.7385 - val_loss: 0.5901 - val_accuracy: 0.7019\n",
      "Epoch 40/50\n",
      "5/5 [==============================] - 0s 9ms/step - loss: 0.5502 - accuracy: 0.7385 - val_loss: 0.5897 - val_accuracy: 0.7019\n",
      "Epoch 41/50\n",
      "5/5 [==============================] - 0s 10ms/step - loss: 0.5495 - accuracy: 0.7385 - val_loss: 0.5882 - val_accuracy: 0.7019\n",
      "Epoch 42/50\n",
      "5/5 [==============================] - 0s 9ms/step - loss: 0.5472 - accuracy: 0.7385 - val_loss: 0.5850 - val_accuracy: 0.7019\n",
      "Epoch 43/50\n",
      "5/5 [==============================] - 0s 9ms/step - loss: 0.5471 - accuracy: 0.7385 - val_loss: 0.5817 - val_accuracy: 0.7019\n",
      "Epoch 44/50\n",
      "5/5 [==============================] - 0s 9ms/step - loss: 0.5460 - accuracy: 0.7385 - val_loss: 0.5801 - val_accuracy: 0.7019\n",
      "Epoch 45/50\n",
      "5/5 [==============================] - 0s 10ms/step - loss: 0.5448 - accuracy: 0.7385 - val_loss: 0.5779 - val_accuracy: 0.7019\n",
      "Epoch 46/50\n",
      "5/5 [==============================] - 0s 9ms/step - loss: 0.5438 - accuracy: 0.7385 - val_loss: 0.5762 - val_accuracy: 0.7019\n",
      "Epoch 47/50\n",
      "5/5 [==============================] - 0s 9ms/step - loss: 0.5429 - accuracy: 0.7385 - val_loss: 0.5768 - val_accuracy: 0.7019\n",
      "Epoch 48/50\n",
      "5/5 [==============================] - 0s 9ms/step - loss: 0.5414 - accuracy: 0.7385 - val_loss: 0.5773 - val_accuracy: 0.7019\n",
      "Epoch 49/50\n",
      "5/5 [==============================] - 0s 9ms/step - loss: 0.5393 - accuracy: 0.7385 - val_loss: 0.5789 - val_accuracy: 0.7019\n",
      "Epoch 50/50\n",
      "5/5 [==============================] - 0s 10ms/step - loss: 0.5388 - accuracy: 0.7385 - val_loss: 0.5804 - val_accuracy: 0.7019\n"
     ]
    }
   ],
   "source": [
    "history = model.fit(x,y,validation_split=0.20, epochs=50, batch_size=100)"
   ]
  },
  {
   "cell_type": "code",
   "execution_count": 20,
   "id": "e645d64d",
   "metadata": {},
   "outputs": [],
   "source": [
    "model.save_weights(\"mywt.kmw\")"
   ]
  },
  {
   "cell_type": "code",
   "execution_count": 21,
   "id": "2201e605",
   "metadata": {},
   "outputs": [
    {
     "name": "stdout",
     "output_type": "stream",
     "text": [
      "17/17 [==============================] - 0s 1ms/step - loss: 0.5463 - accuracy: 0.7311\n",
      "accuracy: 73.11%\n"
     ]
    }
   ],
   "source": [
    "scores = model.evaluate(x,y)\n",
    "print(\"%s: %.2f%%\" % (model.metrics_names[1], scores[1]*100))"
   ]
  },
  {
   "cell_type": "code",
   "execution_count": 34,
   "id": "01fdd2b2",
   "metadata": {},
   "outputs": [
    {
     "data": {
      "text/plain": [
       "dict_keys([])"
      ]
     },
     "execution_count": 34,
     "metadata": {},
     "output_type": "execute_result"
    }
   ],
   "source": [
    "model.history.history.keys()"
   ]
  },
  {
   "cell_type": "code",
   "execution_count": 23,
   "id": "a54682fe",
   "metadata": {},
   "outputs": [
    {
     "data": {
      "text/plain": [
       "dict_keys(['loss', 'accuracy', 'val_loss', 'val_accuracy'])"
      ]
     },
     "execution_count": 23,
     "metadata": {},
     "output_type": "execute_result"
    }
   ],
   "source": [
    "history.history.keys()"
   ]
  },
  {
   "cell_type": "code",
   "execution_count": 24,
   "id": "8ef84f8f",
   "metadata": {},
   "outputs": [
    {
     "data": {
      "image/png": "[encoded data removed]",
      "text/plain": [
       "<Figure size 640x480 with 1 Axes>"
      ]
     },
     "metadata": {},
     "output_type": "display_data"
    }
   ],
   "source": [
    "plt.plot(history.history['accuracy'])\n",
    "plt.plot(history.history['val_accuracy'])\n",
    "plt.title('model accuracy')\n",
    "plt.ylabel('accuracy')\n",
    "plt.xlabel('epoch')\n",
    "plt.legend(['train','test'],loc='upper left')\n",
    "plt.show()"
   ]
  },
  {
   "cell_type": "code",
   "execution_count": 25,
   "id": "7e0e8b04",
   "metadata": {},
   "outputs": [
    {
     "data": {
      "image/png": "[encoded data removed]",
      "text/plain": [
       "<Figure size 640x480 with 1 Axes>"
      ]
     },
     "metadata": {},
     "output_type": "display_data"
    }
   ],
   "source": [
    "plt.plot(history.history['loss'])\n",
    "plt.plot(history.history['val_loss'])\n",
    "plt.title('model loss')\n",
    "plt.ylabel('loss')\n",
    "plt.xlabel('epoch')\n",
    "plt.legend(['train','test'],loc='upper left')\n",
    "plt.show()"
   ]
  },
  {
   "cell_type": "code",
   "execution_count": 26,
   "id": "010a9b15",
   "metadata": {},
   "outputs": [],
   "source": [
    "model = tf.keras.models.Sequential()\n",
    "model.add(tf.keras.layers.Dense(15,input_dim=28,activation = 'ReLU'))\n",
    "model.add(tf.keras.layers.Dense(10,activation='ReLU'))\n",
    "model.add(tf.keras.layers.Dense(1,activation='ReLU'))"
   ]
  },
  {
   "cell_type": "code",
   "execution_count": 27,
   "id": "dce15b15",
   "metadata": {},
   "outputs": [],
   "source": [
    "model.compile(loss ='binary_crossentropy', optimizer='adam', metrics=['accuracy'])"
   ]
  },
  {
   "cell_type": "code",
   "execution_count": 28,
   "id": "f0d88d0a",
   "metadata": {},
   "outputs": [
    {
     "name": "stdout",
     "output_type": "stream",
     "text": [
      "Epoch 1/50\n",
      "5/5 [==============================] - 1s 45ms/step - loss: 11.2615 - accuracy: 0.2615 - val_loss: 10.7038 - val_accuracy: 0.2981\n",
      "Epoch 2/50\n",
      "5/5 [==============================] - 0s 10ms/step - loss: 11.2615 - accuracy: 0.2615 - val_loss: 10.7038 - val_accuracy: 0.2981\n",
      "Epoch 3/50\n",
      "5/5 [==============================] - 0s 9ms/step - loss: 11.2615 - accuracy: 0.2615 - val_loss: 10.7038 - val_accuracy: 0.2981\n",
      "Epoch 4/50\n",
      "5/5 [==============================] - 0s 13ms/step - loss: 11.2615 - accuracy: 0.2615 - val_loss: 10.7038 - val_accuracy: 0.2981\n",
      "Epoch 5/50\n",
      "5/5 [==============================] - 0s 9ms/step - loss: 11.2615 - accuracy: 0.2615 - val_loss: 10.7038 - val_accuracy: 0.2981\n",
      "Epoch 6/50\n",
      "5/5 [==============================] - 0s 10ms/step - loss: 11.2615 - accuracy: 0.2615 - val_loss: 10.7038 - val_accuracy: 0.2981\n",
      "Epoch 7/50\n",
      "5/5 [==============================] - 0s 9ms/step - loss: 11.2615 - accuracy: 0.2615 - val_loss: 10.7038 - val_accuracy: 0.2981\n",
      "Epoch 8/50\n",
      "5/5 [==============================] - 0s 10ms/step - loss: 11.2615 - accuracy: 0.2615 - val_loss: 10.7038 - val_accuracy: 0.2981\n",
      "Epoch 9/50\n",
      "5/5 [==============================] - 0s 11ms/step - loss: 11.2615 - accuracy: 0.2615 - val_loss: 10.7038 - val_accuracy: 0.2981\n",
      "Epoch 10/50\n",
      "5/5 [==============================] - 0s 10ms/step - loss: 11.2615 - accuracy: 0.2615 - val_loss: 10.7038 - val_accuracy: 0.2981\n",
      "Epoch 11/50\n",
      "5/5 [==============================] - 0s 9ms/step - loss: 11.2615 - accuracy: 0.2615 - val_loss: 10.7038 - val_accuracy: 0.2981\n",
      "Epoch 12/50\n",
      "5/5 [==============================] - 0s 7ms/step - loss: 11.2615 - accuracy: 0.2615 - val_loss: 10.7038 - val_accuracy: 0.2981\n",
      "Epoch 13/50\n",
      "5/5 [==============================] - 0s 8ms/step - loss: 11.2615 - accuracy: 0.2615 - val_loss: 10.7038 - val_accuracy: 0.2981\n",
      "Epoch 14/50\n",
      "5/5 [==============================] - 0s 9ms/step - loss: 11.2615 - accuracy: 0.2615 - val_loss: 10.7038 - val_accuracy: 0.2981\n",
      "Epoch 15/50\n",
      "5/5 [==============================] - 0s 9ms/step - loss: 11.2615 - accuracy: 0.2615 - val_loss: 10.7038 - val_accuracy: 0.2981\n",
      "Epoch 16/50\n",
      "5/5 [==============================] - 0s 9ms/step - loss: 11.2615 - accuracy: 0.2615 - val_loss: 10.7038 - val_accuracy: 0.2981\n",
      "Epoch 17/50\n",
      "5/5 [==============================] - 0s 13ms/step - loss: 11.2615 - accuracy: 0.2615 - val_loss: 10.7038 - val_accuracy: 0.2981\n",
      "Epoch 18/50\n",
      "5/5 [==============================] - 0s 11ms/step - loss: 11.2615 - accuracy: 0.2615 - val_loss: 10.7038 - val_accuracy: 0.2981\n",
      "Epoch 19/50\n",
      "5/5 [==============================] - 0s 9ms/step - loss: 11.2615 - accuracy: 0.2615 - val_loss: 10.7038 - val_accuracy: 0.2981\n",
      "Epoch 20/50\n",
      "5/5 [==============================] - 0s 9ms/step - loss: 11.2615 - accuracy: 0.2615 - val_loss: 10.7038 - val_accuracy: 0.2981\n",
      "Epoch 21/50\n",
      "5/5 [==============================] - 0s 14ms/step - loss: 11.2615 - accuracy: 0.2615 - val_loss: 10.7038 - val_accuracy: 0.2981\n",
      "Epoch 22/50\n",
      "5/5 [==============================] - 0s 9ms/step - loss: 11.2615 - accuracy: 0.2615 - val_loss: 10.7038 - val_accuracy: 0.2981\n",
      "Epoch 23/50\n",
      "5/5 [==============================] - 0s 10ms/step - loss: 11.2615 - accuracy: 0.2615 - val_loss: 10.7038 - val_accuracy: 0.2981\n",
      "Epoch 24/50\n",
      "5/5 [==============================] - 0s 9ms/step - loss: 11.2615 - accuracy: 0.2615 - val_loss: 10.7038 - val_accuracy: 0.2981\n",
      "Epoch 25/50\n",
      "5/5 [==============================] - 0s 9ms/step - loss: 11.2615 - accuracy: 0.2615 - val_loss: 10.7038 - val_accuracy: 0.2981\n",
      "Epoch 26/50\n",
      "5/5 [==============================] - 0s 9ms/step - loss: 11.2615 - accuracy: 0.2615 - val_loss: 10.7038 - val_accuracy: 0.2981\n",
      "Epoch 27/50\n",
      "5/5 [==============================] - 0s 9ms/step - loss: 11.2615 - accuracy: 0.2615 - val_loss: 10.7038 - val_accuracy: 0.2981\n",
      "Epoch 28/50\n",
      "5/5 [==============================] - 0s 10ms/step - loss: 11.2615 - accuracy: 0.2615 - val_loss: 10.7038 - val_accuracy: 0.2981\n",
      "Epoch 29/50\n",
      "5/5 [==============================] - 0s 8ms/step - loss: 11.2615 - accuracy: 0.2615 - val_loss: 10.7038 - val_accuracy: 0.2981\n",
      "Epoch 30/50\n",
      "5/5 [==============================] - 0s 12ms/step - loss: 11.2615 - accuracy: 0.2615 - val_loss: 10.7038 - val_accuracy: 0.2981\n",
      "Epoch 31/50\n",
      "5/5 [==============================] - 0s 13ms/step - loss: 11.2615 - accuracy: 0.2615 - val_loss: 10.7038 - val_accuracy: 0.2981\n",
      "Epoch 32/50\n",
      "5/5 [==============================] - 0s 12ms/step - loss: 11.2615 - accuracy: 0.2615 - val_loss: 10.7038 - val_accuracy: 0.2981\n",
      "Epoch 33/50\n",
      "5/5 [==============================] - 0s 8ms/step - loss: 11.2615 - accuracy: 0.2615 - val_loss: 10.7038 - val_accuracy: 0.2981\n",
      "Epoch 34/50\n",
      "5/5 [==============================] - 0s 9ms/step - loss: 11.2615 - accuracy: 0.2615 - val_loss: 10.7038 - val_accuracy: 0.2981\n",
      "Epoch 35/50\n",
      "5/5 [==============================] - 0s 13ms/step - loss: 11.2615 - accuracy: 0.2615 - val_loss: 10.7038 - val_accuracy: 0.2981\n",
      "Epoch 36/50\n",
      "5/5 [==============================] - 0s 10ms/step - loss: 11.2615 - accuracy: 0.2615 - val_loss: 10.7038 - val_accuracy: 0.2981\n",
      "Epoch 37/50\n",
      "5/5 [==============================] - 0s 8ms/step - loss: 11.2615 - accuracy: 0.2615 - val_loss: 10.7038 - val_accuracy: 0.2981\n",
      "Epoch 38/50\n",
      "5/5 [==============================] - 0s 9ms/step - loss: 11.2615 - accuracy: 0.2615 - val_loss: 10.7038 - val_accuracy: 0.2981\n",
      "Epoch 39/50\n",
      "5/5 [==============================] - 0s 5ms/step - loss: 11.2615 - accuracy: 0.2615 - val_loss: 10.7038 - val_accuracy: 0.2981\n",
      "Epoch 40/50\n",
      "5/5 [==============================] - 0s 9ms/step - loss: 11.2615 - accuracy: 0.2615 - val_loss: 10.7038 - val_accuracy: 0.2981\n",
      "Epoch 41/50\n",
      "5/5 [==============================] - 0s 8ms/step - loss: 11.2615 - accuracy: 0.2615 - val_loss: 10.7038 - val_accuracy: 0.2981\n",
      "Epoch 42/50\n",
      "5/5 [==============================] - 0s 9ms/step - loss: 11.2615 - accuracy: 0.2615 - val_loss: 10.7038 - val_accuracy: 0.2981\n",
      "Epoch 43/50\n",
      "5/5 [==============================] - 0s 8ms/step - loss: 11.2615 - accuracy: 0.2615 - val_loss: 10.7038 - val_accuracy: 0.2981\n",
      "Epoch 44/50\n",
      "5/5 [==============================] - 0s 9ms/step - loss: 11.2615 - accuracy: 0.2615 - val_loss: 10.7038 - val_accuracy: 0.2981\n",
      "Epoch 45/50\n",
      "5/5 [==============================] - 0s 9ms/step - loss: 11.2615 - accuracy: 0.2615 - val_loss: 10.7038 - val_accuracy: 0.2981\n",
      "Epoch 46/50\n",
      "5/5 [==============================] - 0s 10ms/step - loss: 11.2615 - accuracy: 0.2615 - val_loss: 10.7038 - val_accuracy: 0.2981\n",
      "Epoch 47/50\n",
      "5/5 [==============================] - 0s 8ms/step - loss: 11.2615 - accuracy: 0.2615 - val_loss: 10.7038 - val_accuracy: 0.2981\n",
      "Epoch 48/50\n",
      "5/5 [==============================] - 0s 9ms/step - loss: 11.2615 - accuracy: 0.2615 - val_loss: 10.7038 - val_accuracy: 0.2981\n",
      "Epoch 49/50\n",
      "5/5 [==============================] - 0s 8ms/step - loss: 11.2615 - accuracy: 0.2615 - val_loss: 10.7038 - val_accuracy: 0.2981\n",
      "Epoch 50/50\n",
      "5/5 [==============================] - 0s 6ms/step - loss: 11.2615 - accuracy: 0.2615 - val_loss: 10.7038 - val_accuracy: 0.2981\n"
     ]
    }
   ],
   "source": [
    "history = model.fit(x,y,validation_split=0.20, epochs=50, batch_size=100)"
   ]
  },
  {
   "cell_type": "code",
   "execution_count": 29,
   "id": "2daabece",
   "metadata": {},
   "outputs": [],
   "source": [
    "model.save_weights(\"mywt.kmw\")"
   ]
  },
  {
   "cell_type": "code",
   "execution_count": 30,
   "id": "4d3529af",
   "metadata": {},
   "outputs": [
    {
     "name": "stdout",
     "output_type": "stream",
     "text": [
      "17/17 [==============================] - 0s 1ms/step - loss: 11.1493 - accuracy: 0.2689\n",
      "accuracy: 26.89%\n"
     ]
    }
   ],
   "source": [
    "scores = model.evaluate(x,y)\n",
    "print(\"%s: %.2f%%\" % (model.metrics_names[1], scores[1]*100))"
   ]
  },
  {
   "cell_type": "code",
   "execution_count": 31,
   "id": "5b47768b",
   "metadata": {},
   "outputs": [
    {
     "data": {
      "image/png": "[encoded data removed]",
      "text/plain": [
       "<Figure size 640x480 with 1 Axes>"
      ]
     },
     "metadata": {},
     "output_type": "display_data"
    }
   ],
   "source": [
    "plt.plot(history.history['accuracy'])\n",
    "plt.plot(history.history['val_accuracy'])\n",
    "plt.title('model accuracy')\n",
    "plt.ylabel('accuracy')\n",
    "plt.xlabel('epoch')\n",
    "plt.legend(['train','test'],loc='upper left')\n",
    "plt.show()"
   ]
  },
  {
   "cell_type": "code",
   "execution_count": 32,
   "id": "163baae2",
   "metadata": {},
   "outputs": [
    {
     "data": {
      "image/png": "[encoded data removed]",
      "text/plain": [
       "<Figure size 640x480 with 1 Axes>"
      ]
     },
     "metadata": {},
     "output_type": "display_data"
    }
   ],
   "source": [
    "plt.plot(history.history['loss'])\n",
    "plt.plot(history.history['val_loss'])\n",
    "plt.title('model loss')\n",
    "plt.ylabel('loss')\n",
    "plt.xlabel('epoch')\n",
    "plt.legend(['train','test'],loc='upper left')\n",
    "plt.show()"
   ]
  }
 ],
 "metadata": {
  "kernelspec": {
   "display_name": "Python 3 (ipykernel)",
   "language": "python",
   "name": "python3"
  },
  "language_info": {
   "codemirror_mode": {
    "name": "ipython",
    "version": 3
   },
   "file_extension": ".py",
   "mimetype": "text/x-python",
   "name": "python",
   "nbconvert_exporter": "python",
   "pygments_lexer": "ipython3",
   "version": "3.11.3"
  }
 },
 "nbformat": 4,
 "nbformat_minor": 5
}
