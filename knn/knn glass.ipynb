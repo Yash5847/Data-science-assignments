{
 "cells": [
  {
   "cell_type": "code",
   "execution_count": 1,
   "id": "6f7787df",
   "metadata": {},
   "outputs": [],
   "source": [
    "import pandas as pd\n",
    "import numpy as np\n",
    "\n",
    "import matplotlib.pyplot as plt\n",
    "%matplotlib inline\n",
    "\n",
    "from sklearn.model_selection import KFold\n",
    "from sklearn.model_selection import cross_val_score\n",
    "from sklearn.model_selection import train_test_split\n",
    "\n",
    "from sklearn.neighbors import KNeighborsClassifier\n",
    "from sklearn.metrics import accuracy_score,classification_report\n",
    "\n",
    "import warnings\n",
    "warnings.filterwarnings('ignore')"
   ]
  },
  {
   "cell_type": "code",
   "execution_count": 2,
   "id": "43290424",
   "metadata": {},
   "outputs": [],
   "source": [
    "df_glass = pd.read_csv(\"glass.csv\")\n",
    "array = df_glass.values\n",
    "x = array[:,0:-1]\n",
    "y = array[:,-1]"
   ]
  },
  {
   "cell_type": "code",
   "execution_count": 3,
   "id": "58bfcddb",
   "metadata": {},
   "outputs": [
    {
     "data": {
      "text/plain": [
       "1"
      ]
     },
     "execution_count": 3,
     "metadata": {},
     "output_type": "execute_result"
    }
   ],
   "source": [
    "df_glass.duplicated().sum()"
   ]
  },
  {
   "cell_type": "code",
   "execution_count": 4,
   "id": "805ed0ba",
   "metadata": {},
   "outputs": [
    {
     "data": {
      "text/plain": [
       "2    76\n",
       "1    70\n",
       "7    29\n",
       "3    17\n",
       "5    13\n",
       "6     9\n",
       "Name: Type, dtype: int64"
      ]
     },
     "execution_count": 4,
     "metadata": {},
     "output_type": "execute_result"
    }
   ],
   "source": [
    "df_glass[\"Type\"].value_counts()"
   ]
  },
  {
   "cell_type": "code",
   "execution_count": 5,
   "id": "326a033a",
   "metadata": {},
   "outputs": [
    {
     "data": {
      "text/plain": [
       "array([[0.43283582, 0.43759398, 1.        , ..., 0.30855019, 0.        ,\n",
       "        0.        ],\n",
       "       [0.28358209, 0.47518797, 0.80178174, ..., 0.22304833, 0.        ,\n",
       "        0.        ],\n",
       "       [0.22080773, 0.42105263, 0.79064588, ..., 0.21840149, 0.        ,\n",
       "        0.        ],\n",
       "       ...,\n",
       "       [0.41703248, 0.54586466, 0.        , ..., 0.27973978, 0.52063492,\n",
       "        0.        ],\n",
       "       [0.23529412, 0.54887218, 0.        , ..., 0.28345725, 0.4984127 ,\n",
       "        0.        ],\n",
       "       [0.26163301, 0.52631579, 0.        , ..., 0.2964684 , 0.53015873,\n",
       "        0.        ]])"
      ]
     },
     "execution_count": 5,
     "metadata": {},
     "output_type": "execute_result"
    }
   ],
   "source": [
    "x = (x - x.min(axis=0))/(x.max(axis=0)-x.min(axis=0))\n",
    "x"
   ]
  },
  {
   "cell_type": "code",
   "execution_count": 6,
   "id": "7a128589",
   "metadata": {},
   "outputs": [],
   "source": [
    "x_train,x_test,y_train,y_test = train_test_split(x,y,test_size=0.3,shuffle=True,random_state=19)"
   ]
  },
  {
   "cell_type": "code",
   "execution_count": 7,
   "id": "af08f158",
   "metadata": {},
   "outputs": [
    {
     "data": {
      "text/html": [
       "<style>#sk-container-id-1 {color: black;background-color: white;}#sk-container-id-1 pre{padding: 0;}#sk-container-id-1 div.sk-toggleable {background-color: white;}#sk-container-id-1 label.sk-toggleable__label {cursor: pointer;display: block;width: 100%;margin-bottom: 0;padding: 0.3em;box-sizing: border-box;text-align: center;}#sk-container-id-1 label.sk-toggleable__label-arrow:before {content: \"▸\";float: left;margin-right: 0.25em;color: #696969;}#sk-container-id-1 label.sk-toggleable__label-arrow:hover:before {color: black;}#sk-container-id-1 div.sk-estimator:hover label.sk-toggleable__label-arrow:before {color: black;}#sk-container-id-1 div.sk-toggleable__content {max-height: 0;max-width: 0;overflow: hidden;text-align: left;background-color: #f0f8ff;}#sk-container-id-1 div.sk-toggleable__content pre {margin: 0.2em;color: black;border-radius: 0.25em;background-color: #f0f8ff;}#sk-container-id-1 input.sk-toggleable__control:checked~div.sk-toggleable__content {max-height: 200px;max-width: 100%;overflow: auto;}#sk-container-id-1 input.sk-toggleable__control:checked~label.sk-toggleable__label-arrow:before {content: \"▾\";}#sk-container-id-1 div.sk-estimator input.sk-toggleable__control:checked~label.sk-toggleable__label {background-color: #d4ebff;}#sk-container-id-1 div.sk-label input.sk-toggleable__control:checked~label.sk-toggleable__label {background-color: #d4ebff;}#sk-container-id-1 input.sk-hidden--visually {border: 0;clip: rect(1px 1px 1px 1px);clip: rect(1px, 1px, 1px, 1px);height: 1px;margin: -1px;overflow: hidden;padding: 0;position: absolute;width: 1px;}#sk-container-id-1 div.sk-estimator {font-family: monospace;background-color: #f0f8ff;border: 1px dotted black;border-radius: 0.25em;box-sizing: border-box;margin-bottom: 0.5em;}#sk-container-id-1 div.sk-estimator:hover {background-color: #d4ebff;}#sk-container-id-1 div.sk-parallel-item::after {content: \"\";width: 100%;border-bottom: 1px solid gray;flex-grow: 1;}#sk-container-id-1 div.sk-label:hover label.sk-toggleable__label {background-color: #d4ebff;}#sk-container-id-1 div.sk-serial::before {content: \"\";position: absolute;border-left: 1px solid gray;box-sizing: border-box;top: 0;bottom: 0;left: 50%;z-index: 0;}#sk-container-id-1 div.sk-serial {display: flex;flex-direction: column;align-items: center;background-color: white;padding-right: 0.2em;padding-left: 0.2em;position: relative;}#sk-container-id-1 div.sk-item {position: relative;z-index: 1;}#sk-container-id-1 div.sk-parallel {display: flex;align-items: stretch;justify-content: center;background-color: white;position: relative;}#sk-container-id-1 div.sk-item::before, #sk-container-id-1 div.sk-parallel-item::before {content: \"\";position: absolute;border-left: 1px solid gray;box-sizing: border-box;top: 0;bottom: 0;left: 50%;z-index: -1;}#sk-container-id-1 div.sk-parallel-item {display: flex;flex-direction: column;z-index: 1;position: relative;background-color: white;}#sk-container-id-1 div.sk-parallel-item:first-child::after {align-self: flex-end;width: 50%;}#sk-container-id-1 div.sk-parallel-item:last-child::after {align-self: flex-start;width: 50%;}#sk-container-id-1 div.sk-parallel-item:only-child::after {width: 0;}#sk-container-id-1 div.sk-dashed-wrapped {border: 1px dashed gray;margin: 0 0.4em 0.5em 0.4em;box-sizing: border-box;padding-bottom: 0.4em;background-color: white;}#sk-container-id-1 div.sk-label label {font-family: monospace;font-weight: bold;display: inline-block;line-height: 1.2em;}#sk-container-id-1 div.sk-label-container {text-align: center;}#sk-container-id-1 div.sk-container {/* jupyter's `normalize.less` sets `[hidden] { display: none; }` but bootstrap.min.css set `[hidden] { display: none !important; }` so we also need the `!important` here to be able to override the default hidden behavior on the sphinx rendered scikit-learn.org. See: https://github.com/scikit-learn/scikit-learn/issues/21755 */display: inline-block !important;position: relative;}#sk-container-id-1 div.sk-text-repr-fallback {display: none;}</style><div id=\"sk-container-id-1\" class=\"sk-top-container\"><div class=\"sk-text-repr-fallback\"><pre>KNeighborsClassifier(n_neighbors=1)</pre><b>In a Jupyter environment, please rerun this cell to show the HTML representation or trust the notebook. <br />On GitHub, the HTML representation is unable to render, please try loading this page with nbviewer.org.</b></div><div class=\"sk-container\" hidden><div class=\"sk-item\"><div class=\"sk-estimator sk-toggleable\"><input class=\"sk-toggleable__control sk-hidden--visually\" id=\"sk-estimator-id-1\" type=\"checkbox\" checked><label for=\"sk-estimator-id-1\" class=\"sk-toggleable__label sk-toggleable__label-arrow\">KNeighborsClassifier</label><div class=\"sk-toggleable__content\"><pre>KNeighborsClassifier(n_neighbors=1)</pre></div></div></div></div></div>"
      ],
      "text/plain": [
       "KNeighborsClassifier(n_neighbors=1)"
      ]
     },
     "execution_count": 7,
     "metadata": {},
     "output_type": "execute_result"
    }
   ],
   "source": [
    "model = KNeighborsClassifier(n_neighbors=1)\n",
    "model.fit(x_train,y_train)"
   ]
  },
  {
   "cell_type": "code",
   "execution_count": 8,
   "id": "37e4f0a1",
   "metadata": {},
   "outputs": [
    {
     "data": {
      "text/plain": [
       "0.69"
      ]
     },
     "execution_count": 8,
     "metadata": {},
     "output_type": "execute_result"
    }
   ],
   "source": [
    "pred = model.predict(x_test)\n",
    "round(accuracy_score(pred,y_test),2)"
   ]
  },
  {
   "cell_type": "code",
   "execution_count": 9,
   "id": "12b9988e",
   "metadata": {},
   "outputs": [
    {
     "name": "stdout",
     "output_type": "stream",
     "text": [
      "              precision    recall  f1-score   support\n",
      "\n",
      "         1.0       0.63      0.85      0.72        20\n",
      "         2.0       0.71      0.55      0.62        22\n",
      "         3.0       0.00      0.00      0.00         4\n",
      "         5.0       0.71      0.71      0.71         7\n",
      "         6.0       1.00      0.75      0.86         4\n",
      "         7.0       0.89      1.00      0.94         8\n",
      "\n",
      "    accuracy                           0.69        65\n",
      "   macro avg       0.66      0.64      0.64        65\n",
      "weighted avg       0.68      0.69      0.68        65\n",
      "\n"
     ]
    }
   ],
   "source": [
    "print(classification_report(y_test,pred))"
   ]
  },
  {
   "cell_type": "code",
   "execution_count": 10,
   "id": "07ee5e8c",
   "metadata": {},
   "outputs": [
    {
     "data": {
      "text/html": [
       "<style>#sk-container-id-2 {color: black;background-color: white;}#sk-container-id-2 pre{padding: 0;}#sk-container-id-2 div.sk-toggleable {background-color: white;}#sk-container-id-2 label.sk-toggleable__label {cursor: pointer;display: block;width: 100%;margin-bottom: 0;padding: 0.3em;box-sizing: border-box;text-align: center;}#sk-container-id-2 label.sk-toggleable__label-arrow:before {content: \"▸\";float: left;margin-right: 0.25em;color: #696969;}#sk-container-id-2 label.sk-toggleable__label-arrow:hover:before {color: black;}#sk-container-id-2 div.sk-estimator:hover label.sk-toggleable__label-arrow:before {color: black;}#sk-container-id-2 div.sk-toggleable__content {max-height: 0;max-width: 0;overflow: hidden;text-align: left;background-color: #f0f8ff;}#sk-container-id-2 div.sk-toggleable__content pre {margin: 0.2em;color: black;border-radius: 0.25em;background-color: #f0f8ff;}#sk-container-id-2 input.sk-toggleable__control:checked~div.sk-toggleable__content {max-height: 200px;max-width: 100%;overflow: auto;}#sk-container-id-2 input.sk-toggleable__control:checked~label.sk-toggleable__label-arrow:before {content: \"▾\";}#sk-container-id-2 div.sk-estimator input.sk-toggleable__control:checked~label.sk-toggleable__label {background-color: #d4ebff;}#sk-container-id-2 div.sk-label input.sk-toggleable__control:checked~label.sk-toggleable__label {background-color: #d4ebff;}#sk-container-id-2 input.sk-hidden--visually {border: 0;clip: rect(1px 1px 1px 1px);clip: rect(1px, 1px, 1px, 1px);height: 1px;margin: -1px;overflow: hidden;padding: 0;position: absolute;width: 1px;}#sk-container-id-2 div.sk-estimator {font-family: monospace;background-color: #f0f8ff;border: 1px dotted black;border-radius: 0.25em;box-sizing: border-box;margin-bottom: 0.5em;}#sk-container-id-2 div.sk-estimator:hover {background-color: #d4ebff;}#sk-container-id-2 div.sk-parallel-item::after {content: \"\";width: 100%;border-bottom: 1px solid gray;flex-grow: 1;}#sk-container-id-2 div.sk-label:hover label.sk-toggleable__label {background-color: #d4ebff;}#sk-container-id-2 div.sk-serial::before {content: \"\";position: absolute;border-left: 1px solid gray;box-sizing: border-box;top: 0;bottom: 0;left: 50%;z-index: 0;}#sk-container-id-2 div.sk-serial {display: flex;flex-direction: column;align-items: center;background-color: white;padding-right: 0.2em;padding-left: 0.2em;position: relative;}#sk-container-id-2 div.sk-item {position: relative;z-index: 1;}#sk-container-id-2 div.sk-parallel {display: flex;align-items: stretch;justify-content: center;background-color: white;position: relative;}#sk-container-id-2 div.sk-item::before, #sk-container-id-2 div.sk-parallel-item::before {content: \"\";position: absolute;border-left: 1px solid gray;box-sizing: border-box;top: 0;bottom: 0;left: 50%;z-index: -1;}#sk-container-id-2 div.sk-parallel-item {display: flex;flex-direction: column;z-index: 1;position: relative;background-color: white;}#sk-container-id-2 div.sk-parallel-item:first-child::after {align-self: flex-end;width: 50%;}#sk-container-id-2 div.sk-parallel-item:last-child::after {align-self: flex-start;width: 50%;}#sk-container-id-2 div.sk-parallel-item:only-child::after {width: 0;}#sk-container-id-2 div.sk-dashed-wrapped {border: 1px dashed gray;margin: 0 0.4em 0.5em 0.4em;box-sizing: border-box;padding-bottom: 0.4em;background-color: white;}#sk-container-id-2 div.sk-label label {font-family: monospace;font-weight: bold;display: inline-block;line-height: 1.2em;}#sk-container-id-2 div.sk-label-container {text-align: center;}#sk-container-id-2 div.sk-container {/* jupyter's `normalize.less` sets `[hidden] { display: none; }` but bootstrap.min.css set `[hidden] { display: none !important; }` so we also need the `!important` here to be able to override the default hidden behavior on the sphinx rendered scikit-learn.org. See: https://github.com/scikit-learn/scikit-learn/issues/21755 */display: inline-block !important;position: relative;}#sk-container-id-2 div.sk-text-repr-fallback {display: none;}</style><div id=\"sk-container-id-2\" class=\"sk-top-container\"><div class=\"sk-text-repr-fallback\"><pre>KNeighborsClassifier(n_neighbors=3)</pre><b>In a Jupyter environment, please rerun this cell to show the HTML representation or trust the notebook. <br />On GitHub, the HTML representation is unable to render, please try loading this page with nbviewer.org.</b></div><div class=\"sk-container\" hidden><div class=\"sk-item\"><div class=\"sk-estimator sk-toggleable\"><input class=\"sk-toggleable__control sk-hidden--visually\" id=\"sk-estimator-id-2\" type=\"checkbox\" checked><label for=\"sk-estimator-id-2\" class=\"sk-toggleable__label sk-toggleable__label-arrow\">KNeighborsClassifier</label><div class=\"sk-toggleable__content\"><pre>KNeighborsClassifier(n_neighbors=3)</pre></div></div></div></div></div>"
      ],
      "text/plain": [
       "KNeighborsClassifier(n_neighbors=3)"
      ]
     },
     "execution_count": 10,
     "metadata": {},
     "output_type": "execute_result"
    }
   ],
   "source": [
    "model = KNeighborsClassifier(n_neighbors=3)\n",
    "model.fit(x_train,y_train)"
   ]
  },
  {
   "cell_type": "code",
   "execution_count": 11,
   "id": "ea16ec3f",
   "metadata": {},
   "outputs": [
    {
     "data": {
      "text/plain": [
       "0.68"
      ]
     },
     "execution_count": 11,
     "metadata": {},
     "output_type": "execute_result"
    }
   ],
   "source": [
    "pred = model.predict(x_test)\n",
    "round(accuracy_score(pred,y_test),2)"
   ]
  },
  {
   "cell_type": "code",
   "execution_count": 12,
   "id": "f872367a",
   "metadata": {},
   "outputs": [
    {
     "name": "stdout",
     "output_type": "stream",
     "text": [
      "              precision    recall  f1-score   support\n",
      "\n",
      "         1.0       0.60      0.90      0.72        20\n",
      "         2.0       0.72      0.59      0.65        22\n",
      "         3.0       0.00      0.00      0.00         4\n",
      "         5.0       0.60      0.43      0.50         7\n",
      "         6.0       1.00      0.50      0.67         4\n",
      "         7.0       0.89      1.00      0.94         8\n",
      "\n",
      "    accuracy                           0.68        65\n",
      "   macro avg       0.64      0.57      0.58        65\n",
      "weighted avg       0.66      0.68      0.65        65\n",
      "\n"
     ]
    }
   ],
   "source": [
    "print(classification_report(y_test,pred))"
   ]
  },
  {
   "cell_type": "markdown",
   "id": "038c1b60",
   "metadata": {},
   "source": [
    " "
   ]
  },
  {
   "cell_type": "code",
   "execution_count": 13,
   "id": "58ddbe78",
   "metadata": {
    "scrolled": true
   },
   "outputs": [
    {
     "name": "stdout",
     "output_type": "stream",
     "text": [
      "K value= 1\n",
      "              precision    recall  f1-score   support\n",
      "\n",
      "         1.0       0.63      0.85      0.72        20\n",
      "         2.0       0.71      0.55      0.62        22\n",
      "         3.0       0.00      0.00      0.00         4\n",
      "         5.0       0.71      0.71      0.71         7\n",
      "         6.0       1.00      0.75      0.86         4\n",
      "         7.0       0.89      1.00      0.94         8\n",
      "\n",
      "    accuracy                           0.69        65\n",
      "   macro avg       0.66      0.64      0.64        65\n",
      "weighted avg       0.68      0.69      0.68        65\n",
      "\n",
      "K value= 3\n",
      "              precision    recall  f1-score   support\n",
      "\n",
      "         1.0       0.60      0.90      0.72        20\n",
      "         2.0       0.72      0.59      0.65        22\n",
      "         3.0       0.00      0.00      0.00         4\n",
      "         5.0       0.60      0.43      0.50         7\n",
      "         6.0       1.00      0.50      0.67         4\n",
      "         7.0       0.89      1.00      0.94         8\n",
      "\n",
      "    accuracy                           0.68        65\n",
      "   macro avg       0.64      0.57      0.58        65\n",
      "weighted avg       0.66      0.68      0.65        65\n",
      "\n",
      "K value= 5\n",
      "              precision    recall  f1-score   support\n",
      "\n",
      "         1.0       0.58      0.90      0.71        20\n",
      "         2.0       0.67      0.64      0.65        22\n",
      "         3.0       0.00      0.00      0.00         4\n",
      "         5.0       0.33      0.14      0.20         7\n",
      "         6.0       0.00      0.00      0.00         4\n",
      "         7.0       0.80      1.00      0.89         8\n",
      "\n",
      "    accuracy                           0.63        65\n",
      "   macro avg       0.40      0.45      0.41        65\n",
      "weighted avg       0.54      0.63      0.57        65\n",
      "\n",
      "K value= 7\n",
      "              precision    recall  f1-score   support\n",
      "\n",
      "         1.0       0.59      0.95      0.73        20\n",
      "         2.0       0.65      0.59      0.62        22\n",
      "         3.0       0.00      0.00      0.00         4\n",
      "         5.0       0.33      0.14      0.20         7\n",
      "         6.0       0.00      0.00      0.00         4\n",
      "         7.0       0.80      1.00      0.89         8\n",
      "\n",
      "    accuracy                           0.63        65\n",
      "   macro avg       0.40      0.45      0.41        65\n",
      "weighted avg       0.54      0.63      0.57        65\n",
      "\n",
      "K value= 9\n",
      "              precision    recall  f1-score   support\n",
      "\n",
      "         1.0       0.58      0.90      0.71        20\n",
      "         2.0       0.64      0.64      0.64        22\n",
      "         3.0       0.00      0.00      0.00         4\n",
      "         5.0       1.00      0.14      0.25         7\n",
      "         6.0       0.00      0.00      0.00         4\n",
      "         7.0       0.73      1.00      0.84         8\n",
      "\n",
      "    accuracy                           0.63        65\n",
      "   macro avg       0.49      0.45      0.41        65\n",
      "weighted avg       0.59      0.63      0.56        65\n",
      "\n",
      "K value= 11\n",
      "              precision    recall  f1-score   support\n",
      "\n",
      "         1.0       0.56      0.90      0.69        20\n",
      "         2.0       0.65      0.59      0.62        22\n",
      "         3.0       0.00      0.00      0.00         4\n",
      "         5.0       0.00      0.00      0.00         7\n",
      "         6.0       0.00      0.00      0.00         4\n",
      "         7.0       0.67      1.00      0.80         8\n",
      "\n",
      "    accuracy                           0.60        65\n",
      "   macro avg       0.31      0.42      0.35        65\n",
      "weighted avg       0.48      0.60      0.52        65\n",
      "\n",
      "K value= 13\n",
      "              precision    recall  f1-score   support\n",
      "\n",
      "         1.0       0.59      0.85      0.69        20\n",
      "         2.0       0.61      0.64      0.62        22\n",
      "         3.0       0.00      0.00      0.00         4\n",
      "         5.0       0.00      0.00      0.00         7\n",
      "         6.0       0.00      0.00      0.00         4\n",
      "         7.0       0.67      1.00      0.80         8\n",
      "\n",
      "    accuracy                           0.60        65\n",
      "   macro avg       0.31      0.41      0.35        65\n",
      "weighted avg       0.47      0.60      0.52        65\n",
      "\n",
      "K value= 15\n",
      "              precision    recall  f1-score   support\n",
      "\n",
      "         1.0       0.57      0.85      0.68        20\n",
      "         2.0       0.68      0.68      0.68        22\n",
      "         3.0       0.00      0.00      0.00         4\n",
      "         5.0       0.00      0.00      0.00         7\n",
      "         6.0       0.00      0.00      0.00         4\n",
      "         7.0       0.67      1.00      0.80         8\n",
      "\n",
      "    accuracy                           0.62        65\n",
      "   macro avg       0.32      0.42      0.36        65\n",
      "weighted avg       0.49      0.62      0.54        65\n",
      "\n",
      "K value= 17\n",
      "              precision    recall  f1-score   support\n",
      "\n",
      "         1.0       0.61      0.85      0.71        20\n",
      "         2.0       0.62      0.68      0.65        22\n",
      "         3.0       0.00      0.00      0.00         4\n",
      "         5.0       0.00      0.00      0.00         7\n",
      "         6.0       0.00      0.00      0.00         4\n",
      "         7.0       0.67      1.00      0.80         8\n",
      "\n",
      "    accuracy                           0.62        65\n",
      "   macro avg       0.32      0.42      0.36        65\n",
      "weighted avg       0.48      0.62      0.54        65\n",
      "\n",
      "K value= 19\n",
      "              precision    recall  f1-score   support\n",
      "\n",
      "         1.0       0.59      0.80      0.68        20\n",
      "         2.0       0.60      0.68      0.64        22\n",
      "         3.0       0.00      0.00      0.00         4\n",
      "         5.0       0.00      0.00      0.00         7\n",
      "         6.0       0.00      0.00      0.00         4\n",
      "         7.0       0.62      1.00      0.76         8\n",
      "\n",
      "    accuracy                           0.60        65\n",
      "   macro avg       0.30      0.41      0.35        65\n",
      "weighted avg       0.46      0.60      0.52        65\n",
      "\n",
      "K value= 21\n",
      "              precision    recall  f1-score   support\n",
      "\n",
      "         1.0       0.57      0.85      0.68        20\n",
      "         2.0       0.64      0.64      0.64        22\n",
      "         3.0       0.00      0.00      0.00         4\n",
      "         5.0       0.00      0.00      0.00         7\n",
      "         6.0       0.00      0.00      0.00         4\n",
      "         7.0       0.62      1.00      0.76         8\n",
      "\n",
      "    accuracy                           0.60        65\n",
      "   macro avg       0.30      0.41      0.35        65\n",
      "weighted avg       0.47      0.60      0.52        65\n",
      "\n",
      "K value= 23\n",
      "              precision    recall  f1-score   support\n",
      "\n",
      "         1.0       0.59      0.85      0.69        20\n",
      "         2.0       0.65      0.68      0.67        22\n",
      "         3.0       0.00      0.00      0.00         4\n",
      "         5.0       0.00      0.00      0.00         7\n",
      "         6.0       0.00      0.00      0.00         4\n",
      "         7.0       0.62      1.00      0.76         8\n",
      "\n",
      "    accuracy                           0.62        65\n",
      "   macro avg       0.31      0.42      0.35        65\n",
      "weighted avg       0.48      0.62      0.53        65\n",
      "\n",
      "K value= 25\n",
      "              precision    recall  f1-score   support\n",
      "\n",
      "         1.0       0.55      0.85      0.67        20\n",
      "         2.0       0.65      0.59      0.62        22\n",
      "         3.0       0.00      0.00      0.00         4\n",
      "         5.0       0.00      0.00      0.00         7\n",
      "         6.0       0.00      0.00      0.00         4\n",
      "         7.0       0.57      1.00      0.73         8\n",
      "\n",
      "    accuracy                           0.58        65\n",
      "   macro avg       0.29      0.41      0.34        65\n",
      "weighted avg       0.46      0.58      0.50        65\n",
      "\n",
      "K value= 27\n",
      "              precision    recall  f1-score   support\n",
      "\n",
      "         1.0       0.53      0.80      0.64        20\n",
      "         2.0       0.70      0.64      0.67        22\n",
      "         3.0       0.00      0.00      0.00         4\n",
      "         5.0       0.00      0.00      0.00         7\n",
      "         6.0       0.00      0.00      0.00         4\n",
      "         7.0       0.53      1.00      0.70         8\n",
      "\n",
      "    accuracy                           0.58        65\n",
      "   macro avg       0.29      0.41      0.33        65\n",
      "weighted avg       0.47      0.58      0.51        65\n",
      "\n",
      "K value= 29\n",
      "              precision    recall  f1-score   support\n",
      "\n",
      "         1.0       0.56      0.90      0.69        20\n",
      "         2.0       0.83      0.68      0.75        22\n",
      "         3.0       0.00      0.00      0.00         4\n",
      "         5.0       0.00      0.00      0.00         7\n",
      "         6.0       0.00      0.00      0.00         4\n",
      "         7.0       0.53      1.00      0.70         8\n",
      "\n",
      "    accuracy                           0.63        65\n",
      "   macro avg       0.32      0.43      0.36        65\n",
      "weighted avg       0.52      0.63      0.55        65\n",
      "\n",
      "K value= 31\n",
      "              precision    recall  f1-score   support\n",
      "\n",
      "         1.0       0.55      0.90      0.68        20\n",
      "         2.0       0.82      0.64      0.72        22\n",
      "         3.0       0.00      0.00      0.00         4\n",
      "         5.0       0.00      0.00      0.00         7\n",
      "         6.0       0.00      0.00      0.00         4\n",
      "         7.0       0.53      1.00      0.70         8\n",
      "\n",
      "    accuracy                           0.62        65\n",
      "   macro avg       0.32      0.42      0.35        65\n",
      "weighted avg       0.51      0.62      0.54        65\n",
      "\n",
      "K value= 33\n",
      "              precision    recall  f1-score   support\n",
      "\n",
      "         1.0       0.50      0.85      0.63        20\n",
      "         2.0       0.75      0.55      0.63        22\n",
      "         3.0       0.00      0.00      0.00         4\n",
      "         5.0       0.00      0.00      0.00         7\n",
      "         6.0       0.00      0.00      0.00         4\n",
      "         7.0       0.53      1.00      0.70         8\n",
      "\n",
      "    accuracy                           0.57        65\n",
      "   macro avg       0.30      0.40      0.33        65\n",
      "weighted avg       0.47      0.57      0.49        65\n",
      "\n",
      "K value= 35\n"
     ]
    },
    {
     "name": "stdout",
     "output_type": "stream",
     "text": [
      "              precision    recall  f1-score   support\n",
      "\n",
      "         1.0       0.48      0.70      0.57        20\n",
      "         2.0       0.67      0.64      0.65        22\n",
      "         3.0       0.00      0.00      0.00         4\n",
      "         5.0       0.00      0.00      0.00         7\n",
      "         6.0       0.00      0.00      0.00         4\n",
      "         7.0       0.53      1.00      0.70         8\n",
      "\n",
      "    accuracy                           0.55        65\n",
      "   macro avg       0.28      0.39      0.32        65\n",
      "weighted avg       0.44      0.55      0.48        65\n",
      "\n",
      "K value= 37\n",
      "              precision    recall  f1-score   support\n",
      "\n",
      "         1.0       0.50      0.55      0.52        20\n",
      "         2.0       0.54      0.68      0.60        22\n",
      "         3.0       0.00      0.00      0.00         4\n",
      "         5.0       0.00      0.00      0.00         7\n",
      "         6.0       0.00      0.00      0.00         4\n",
      "         7.0       0.53      1.00      0.70         8\n",
      "\n",
      "    accuracy                           0.52        65\n",
      "   macro avg       0.26      0.37      0.30        65\n",
      "weighted avg       0.40      0.52      0.45        65\n",
      "\n",
      "K value= 39\n",
      "              precision    recall  f1-score   support\n",
      "\n",
      "         1.0       0.55      0.55      0.55        20\n",
      "         2.0       0.57      0.77      0.65        22\n",
      "         3.0       0.00      0.00      0.00         4\n",
      "         5.0       0.00      0.00      0.00         7\n",
      "         6.0       0.00      0.00      0.00         4\n",
      "         7.0       0.53      1.00      0.70         8\n",
      "\n",
      "    accuracy                           0.55        65\n",
      "   macro avg       0.27      0.39      0.32        65\n",
      "weighted avg       0.43      0.55      0.48        65\n",
      "\n"
     ]
    }
   ],
   "source": [
    "k_range = [2*i+1 for i in range(0,20)]\n",
    "k_scores = []\n",
    "for k in k_range:\n",
    "    knn = KNeighborsClassifier(n_neighbors=k)\n",
    "    scores = cross_val_score(knn,x_train , y_train, cv = 10)\n",
    "    k_scores.append(scores.mean())\n",
    "    print(\"K value=\",k)\n",
    "    model = KNeighborsClassifier(n_neighbors=k)\n",
    "    model.fit(x_train,y_train)\n",
    "    pred = model.predict(x_test)\n",
    "    print(classification_report(y_test,pred))\n",
    "    \n"
   ]
  },
  {
   "cell_type": "code",
   "execution_count": 14,
   "id": "13b3ecee",
   "metadata": {},
   "outputs": [
    {
     "data": {
      "image/png": "[encoded data removed]",
      "text/plain": [
       "<Figure size 640x480 with 1 Axes>"
      ]
     },
     "metadata": {},
     "output_type": "display_data"
    }
   ],
   "source": [
    "plt.bar(k_range, k_scores)\n",
    "plt.plot(k_range, k_scores, color = \"red\")\n",
    "    \n",
    "plt.xlabel('value of K for KNN')\n",
    "plt.ylabel('Cross-Validation Accuracy')\n",
    "plt.xticks(k_range)\n",
    "plt.show()"
   ]
  },
  {
   "cell_type": "code",
   "execution_count": 15,
   "id": "8838d88c",
   "metadata": {},
   "outputs": [
    {
     "data": {
      "text/plain": [
       "0"
      ]
     },
     "execution_count": 15,
     "metadata": {},
     "output_type": "execute_result"
    }
   ],
   "source": [
    "np.argmax(k_scores)"
   ]
  },
  {
   "cell_type": "code",
   "execution_count": 16,
   "id": "81707c5a",
   "metadata": {},
   "outputs": [
    {
     "data": {
      "text/plain": [
       "1"
      ]
     },
     "execution_count": 16,
     "metadata": {},
     "output_type": "execute_result"
    }
   ],
   "source": [
    "k_range[0]"
   ]
  },
  {
   "cell_type": "code",
   "execution_count": 17,
   "id": "f293ef21",
   "metadata": {},
   "outputs": [
    {
     "data": {
      "text/plain": [
       "0.6380952380952382"
      ]
     },
     "execution_count": 17,
     "metadata": {},
     "output_type": "execute_result"
    }
   ],
   "source": [
    "k_scores[1]"
   ]
  },
  {
   "cell_type": "code",
   "execution_count": 18,
   "id": "eae8f7f6",
   "metadata": {},
   "outputs": [
    {
     "data": {
      "text/html": [
       "<style>#sk-container-id-3 {color: black;background-color: white;}#sk-container-id-3 pre{padding: 0;}#sk-container-id-3 div.sk-toggleable {background-color: white;}#sk-container-id-3 label.sk-toggleable__label {cursor: pointer;display: block;width: 100%;margin-bottom: 0;padding: 0.3em;box-sizing: border-box;text-align: center;}#sk-container-id-3 label.sk-toggleable__label-arrow:before {content: \"▸\";float: left;margin-right: 0.25em;color: #696969;}#sk-container-id-3 label.sk-toggleable__label-arrow:hover:before {color: black;}#sk-container-id-3 div.sk-estimator:hover label.sk-toggleable__label-arrow:before {color: black;}#sk-container-id-3 div.sk-toggleable__content {max-height: 0;max-width: 0;overflow: hidden;text-align: left;background-color: #f0f8ff;}#sk-container-id-3 div.sk-toggleable__content pre {margin: 0.2em;color: black;border-radius: 0.25em;background-color: #f0f8ff;}#sk-container-id-3 input.sk-toggleable__control:checked~div.sk-toggleable__content {max-height: 200px;max-width: 100%;overflow: auto;}#sk-container-id-3 input.sk-toggleable__control:checked~label.sk-toggleable__label-arrow:before {content: \"▾\";}#sk-container-id-3 div.sk-estimator input.sk-toggleable__control:checked~label.sk-toggleable__label {background-color: #d4ebff;}#sk-container-id-3 div.sk-label input.sk-toggleable__control:checked~label.sk-toggleable__label {background-color: #d4ebff;}#sk-container-id-3 input.sk-hidden--visually {border: 0;clip: rect(1px 1px 1px 1px);clip: rect(1px, 1px, 1px, 1px);height: 1px;margin: -1px;overflow: hidden;padding: 0;position: absolute;width: 1px;}#sk-container-id-3 div.sk-estimator {font-family: monospace;background-color: #f0f8ff;border: 1px dotted black;border-radius: 0.25em;box-sizing: border-box;margin-bottom: 0.5em;}#sk-container-id-3 div.sk-estimator:hover {background-color: #d4ebff;}#sk-container-id-3 div.sk-parallel-item::after {content: \"\";width: 100%;border-bottom: 1px solid gray;flex-grow: 1;}#sk-container-id-3 div.sk-label:hover label.sk-toggleable__label {background-color: #d4ebff;}#sk-container-id-3 div.sk-serial::before {content: \"\";position: absolute;border-left: 1px solid gray;box-sizing: border-box;top: 0;bottom: 0;left: 50%;z-index: 0;}#sk-container-id-3 div.sk-serial {display: flex;flex-direction: column;align-items: center;background-color: white;padding-right: 0.2em;padding-left: 0.2em;position: relative;}#sk-container-id-3 div.sk-item {position: relative;z-index: 1;}#sk-container-id-3 div.sk-parallel {display: flex;align-items: stretch;justify-content: center;background-color: white;position: relative;}#sk-container-id-3 div.sk-item::before, #sk-container-id-3 div.sk-parallel-item::before {content: \"\";position: absolute;border-left: 1px solid gray;box-sizing: border-box;top: 0;bottom: 0;left: 50%;z-index: -1;}#sk-container-id-3 div.sk-parallel-item {display: flex;flex-direction: column;z-index: 1;position: relative;background-color: white;}#sk-container-id-3 div.sk-parallel-item:first-child::after {align-self: flex-end;width: 50%;}#sk-container-id-3 div.sk-parallel-item:last-child::after {align-self: flex-start;width: 50%;}#sk-container-id-3 div.sk-parallel-item:only-child::after {width: 0;}#sk-container-id-3 div.sk-dashed-wrapped {border: 1px dashed gray;margin: 0 0.4em 0.5em 0.4em;box-sizing: border-box;padding-bottom: 0.4em;background-color: white;}#sk-container-id-3 div.sk-label label {font-family: monospace;font-weight: bold;display: inline-block;line-height: 1.2em;}#sk-container-id-3 div.sk-label-container {text-align: center;}#sk-container-id-3 div.sk-container {/* jupyter's `normalize.less` sets `[hidden] { display: none; }` but bootstrap.min.css set `[hidden] { display: none !important; }` so we also need the `!important` here to be able to override the default hidden behavior on the sphinx rendered scikit-learn.org. See: https://github.com/scikit-learn/scikit-learn/issues/21755 */display: inline-block !important;position: relative;}#sk-container-id-3 div.sk-text-repr-fallback {display: none;}</style><div id=\"sk-container-id-3\" class=\"sk-top-container\"><div class=\"sk-text-repr-fallback\"><pre>KNeighborsClassifier(n_neighbors=1)</pre><b>In a Jupyter environment, please rerun this cell to show the HTML representation or trust the notebook. <br />On GitHub, the HTML representation is unable to render, please try loading this page with nbviewer.org.</b></div><div class=\"sk-container\" hidden><div class=\"sk-item\"><div class=\"sk-estimator sk-toggleable\"><input class=\"sk-toggleable__control sk-hidden--visually\" id=\"sk-estimator-id-3\" type=\"checkbox\" checked><label for=\"sk-estimator-id-3\" class=\"sk-toggleable__label sk-toggleable__label-arrow\">KNeighborsClassifier</label><div class=\"sk-toggleable__content\"><pre>KNeighborsClassifier(n_neighbors=1)</pre></div></div></div></div></div>"
      ],
      "text/plain": [
       "KNeighborsClassifier(n_neighbors=1)"
      ]
     },
     "execution_count": 18,
     "metadata": {},
     "output_type": "execute_result"
    }
   ],
   "source": [
    "model = KNeighborsClassifier(n_neighbors=1)\n",
    "model.fit(x_train,y_train)"
   ]
  },
  {
   "cell_type": "code",
   "execution_count": 19,
   "id": "291c7d9f",
   "metadata": {},
   "outputs": [
    {
     "name": "stdout",
     "output_type": "stream",
     "text": [
      "              precision    recall  f1-score   support\n",
      "\n",
      "         1.0       0.63      0.85      0.72        20\n",
      "         2.0       0.71      0.55      0.62        22\n",
      "         3.0       0.00      0.00      0.00         4\n",
      "         5.0       0.71      0.71      0.71         7\n",
      "         6.0       1.00      0.75      0.86         4\n",
      "         7.0       0.89      1.00      0.94         8\n",
      "\n",
      "    accuracy                           0.69        65\n",
      "   macro avg       0.66      0.64      0.64        65\n",
      "weighted avg       0.68      0.69      0.68        65\n",
      "\n"
     ]
    }
   ],
   "source": [
    "pred = model.predict(x_test)\n",
    "accuracy_score(pred,y_test)\n",
    "print(classification_report(y_test,pred))"
   ]
  },
  {
   "cell_type": "code",
   "execution_count": null,
   "id": "d73b344f",
   "metadata": {},
   "outputs": [],
   "source": []
  },
  {
   "cell_type": "code",
   "execution_count": null,
   "id": "0fce2cc2",
   "metadata": {},
   "outputs": [],
   "source": []
  }
 ],
 "metadata": {
  "kernelspec": {
   "display_name": "Python 3 (ipykernel)",
   "language": "python",
   "name": "python3"
  },
  "language_info": {
   "codemirror_mode": {
    "name": "ipython",
    "version": 3
   },
   "file_extension": ".py",
   "mimetype": "text/x-python",
   "name": "python",
   "nbconvert_exporter": "python",
   "pygments_lexer": "ipython3",
   "version": "3.11.3"
  }
 },
 "nbformat": 4,
 "nbformat_minor": 5
}
